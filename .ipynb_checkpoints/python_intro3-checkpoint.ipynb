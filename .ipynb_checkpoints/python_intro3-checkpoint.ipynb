{
 "cells": [
  {
   "cell_type": "markdown",
   "metadata": {
    "slideshow": {
     "slide_type": "slide"
    }
   },
   "source": [
    "# Introduction to Python"
   ]
  },
  {
   "cell_type": "markdown",
   "metadata": {
    "slideshow": {
     "slide_type": "fragment"
    }
   },
   "source": [
    "<img src=\"learning_python.jpeg\">"
   ]
  },
  {
   "cell_type": "markdown",
   "metadata": {
    "slideshow": {
     "slide_type": "subslide"
    }
   },
   "source": [
    "<img src=\"python_growth.png\">"
   ]
  },
  {
   "cell_type": "markdown",
   "metadata": {
    "slideshow": {
     "slide_type": "skip"
    }
   },
   "source": [
    "Python is called an interpreted language but is compiled to bytecode. The .py source code is first compiled to byte code as .pyc. This byte code can be interpreted (official CPython), or JIT compiled (PyPy)."
   ]
  },
  {
   "cell_type": "markdown",
   "metadata": {
    "slideshow": {
     "slide_type": "slide"
    }
   },
   "source": [
    "## Jupyter notebook"
   ]
  },
  {
   "cell_type": "markdown",
   "metadata": {
    "slideshow": {
     "slide_type": "fragment"
    }
   },
   "source": [
    "### Useful to write both code and text in the same place"
   ]
  },
  {
   "cell_type": "markdown",
   "metadata": {
    "slideshow": {
     "slide_type": "fragment"
    }
   },
   "source": [
    "#### Double click on a cell, choose in the top menu either \"code\" or \"Markdown\" for text.\n",
    "After writing something in the cell, just press \"shift + Enter\" to view the result."
   ]
  },
  {
   "cell_type": "markdown",
   "metadata": {
    "slideshow": {
     "slide_type": "subslide"
    }
   },
   "source": [
    "##### In addition of headings (#, ##, ###, ...) with markdown you can write bullet lists (\\*)\n",
    "* Use #, ##, ###, etc. on the first line for the size of your headings\n",
    "* Use single star (\\*) for each entry of your bullet list"
   ]
  },
  {
   "cell_type": "markdown",
   "metadata": {
    "slideshow": {
     "slide_type": "fragment"
    }
   },
   "source": [
    "Headings are obviously optional. In addition of bullet lists, you can create numbered lists using the format \"number\" \"fullpoint(.)\" \"space\":\n",
    "1. Markdown allows you to write simple text\n",
    "2. But also LaTeX formulas, by simply putting it between dollar signs: $\\sum_{n=1}^{\\infty} \\frac{1}{2^n} = 1$\n",
    "3. You can escape special markdown characters with a backslash (\\\\): \\*\n",
    "4. You can even quote commands by using apostrophes (\\`), as in: use `jupyter notebook` to launch Jupyter notebook from the terminal (after installing python and Jupyter)\n",
    "5. You can put words in *italics* by writing them in between stars (\\*) or in **bold** using two stars (\\*\\*)"
   ]
  },
  {
   "cell_type": "code",
   "execution_count": 35,
   "metadata": {
    "slideshow": {
     "slide_type": "subslide"
    }
   },
   "outputs": [
    {
     "data": {
      "text/plain": [
       "4"
      ]
     },
     "execution_count": 35,
     "metadata": {},
     "output_type": "execute_result"
    }
   ],
   "source": [
    "# Now let's do some python code. Comments can be made with a hash sign (#).\n",
    "2 + 2"
   ]
  },
  {
   "cell_type": "markdown",
   "metadata": {
    "slideshow": {
     "slide_type": "fragment"
    }
   },
   "source": [
    "While the result of executing a cell (\"shift + Enter\") in *Markdown* is **formatting that cell**, for *code* (like `python` code) the result is **running that code and displaying the output (if any)**"
   ]
  },
  {
   "cell_type": "markdown",
   "metadata": {
    "slideshow": {
     "slide_type": "fragment"
    }
   },
   "source": [
    "#### Exercise\n",
    "1. Create two new cells clicking on `+` (or pressing `b` on the keyboard)\n",
    "2. Make the first cell a Markdown cell (top menu, or pressing `m`) and write a bullet list of items\n",
    "3. Make the second cell a code cell (top menu, or pressing `y`) and write an arithmetic operation\n",
    "4. Make sure to execute both cells (if not already done)\n",
    "\n",
    "Note: to edit a cell you need to be in \"edit mode\". A selected cell will become in edit mode (and its border turn green) if you double-click on it or press `Enter`. You can activate the \"command mode\" to use most keyboard shortcuts by pressing `Escape` (cell border with turn blue)."
   ]
  },
  {
   "cell_type": "code",
   "execution_count": null,
   "metadata": {
    "slideshow": {
     "slide_type": "skip"
    }
   },
   "outputs": [],
   "source": []
  },
  {
   "cell_type": "markdown",
   "metadata": {
    "slideshow": {
     "slide_type": "slide"
    }
   },
   "source": [
    "## Python variables and datatypes"
   ]
  },
  {
   "cell_type": "raw",
   "metadata": {
    "slideshow": {
     "slide_type": "fragment"
    }
   },
   "source": [
    "In python, a variable is a name referencing an object, for example:"
   ]
  },
  {
   "cell_type": "code",
   "execution_count": 14,
   "metadata": {
    "slideshow": {
     "slide_type": "fragment"
    }
   },
   "outputs": [
    {
     "name": "stdout",
     "output_type": "stream",
     "text": [
      "2\n"
     ]
    }
   ],
   "source": [
    "# a refers to an integer (int)\n",
    "a = 2\n",
    "print(a)"
   ]
  },
  {
   "cell_type": "code",
   "execution_count": 36,
   "metadata": {
    "slideshow": {
     "slide_type": "fragment"
    }
   },
   "outputs": [
    {
     "name": "stdout",
     "output_type": "stream",
     "text": [
      "3.14\n"
     ]
    }
   ],
   "source": [
    "# simple_pi refers to a float\n",
    "simple_pi = 3.14\n",
    "print(simple_pi)"
   ]
  },
  {
   "cell_type": "code",
   "execution_count": 37,
   "metadata": {
    "slideshow": {
     "slide_type": "fragment"
    }
   },
   "outputs": [
    {
     "name": "stdout",
     "output_type": "stream",
     "text": [
      "kiwi\n"
     ]
    }
   ],
   "source": [
    "# favorite_fruit refers to a string (str)\n",
    "favorite_fruit = \"kiwi\"\n",
    "print(favorite_fruit)"
   ]
  },
  {
   "cell_type": "code",
   "execution_count": 38,
   "metadata": {
    "slideshow": {
     "slide_type": "fragment"
    }
   },
   "outputs": [
    {
     "name": "stdout",
     "output_type": "stream",
     "text": [
      "True\n"
     ]
    }
   ],
   "source": [
    "# like_kiwi refers to a boolean\n",
    "like_kiwi = True\n",
    "print(like_kiwi)"
   ]
  },
  {
   "cell_type": "markdown",
   "metadata": {
    "slideshow": {
     "slide_type": "subslide"
    }
   },
   "source": [
    "You can check the type of a variable with `type`"
   ]
  },
  {
   "cell_type": "code",
   "execution_count": 19,
   "metadata": {
    "slideshow": {
     "slide_type": "fragment"
    }
   },
   "outputs": [
    {
     "name": "stdout",
     "output_type": "stream",
     "text": [
      "<class 'int'> <class 'float'> <class 'str'> <class 'bool'>\n"
     ]
    }
   ],
   "source": [
    "print(type(a), type(simple_pi), type(favorite_fruit), type(like_kiwi))"
   ]
  },
  {
   "cell_type": "code",
   "execution_count": 52,
   "metadata": {
    "slideshow": {
     "slide_type": "fragment"
    }
   },
   "outputs": [],
   "source": [
    "print?\n",
    "# Output: print(value, ..., sep=' ', end='\\n', file=sys.stdout, flush=False) [can also use \"Shift\"+\"Tab\" for help]"
   ]
  },
  {
   "cell_type": "markdown",
   "metadata": {
    "slideshow": {
     "slide_type": "fragment"
    }
   },
   "source": [
    "Simple datatypes are **immutable** (you cannot change them)"
   ]
  },
  {
   "cell_type": "code",
   "execution_count": null,
   "metadata": {
    "slideshow": {
     "slide_type": "fragment"
    }
   },
   "outputs": [],
   "source": [
    "# Setting a variable to a new immutable object (e.g. integer) will refer to a new object entirely\n",
    "a = 3\n",
    "a = 4"
   ]
  },
  {
   "cell_type": "markdown",
   "metadata": {
    "slideshow": {
     "slide_type": "fragment"
    }
   },
   "source": [
    "<img src=\"immutvar_newval.png\">"
   ]
  },
  {
   "cell_type": "code",
   "execution_count": 23,
   "metadata": {
    "slideshow": {
     "slide_type": "slide"
    }
   },
   "outputs": [
    {
     "name": "stdout",
     "output_type": "stream",
     "text": [
      "a is 3\n",
      "b is 3\n"
     ]
    }
   ],
   "source": [
    "# Consider a variable 'a' referring to an immutable object (e.g. an int).\n",
    "# Setting a variable 'b' to 'a' can also be thought as creating a new object, with the same value but independent\n",
    "a = 3\n",
    "b = a\n",
    "print('a is', a)\n",
    "print('b is', b)"
   ]
  },
  {
   "cell_type": "markdown",
   "metadata": {
    "slideshow": {
     "slide_type": "fragment"
    }
   },
   "source": [
    "<tr><td><img src='immutvar_by_val.png'></td><td><img src='immutvar_by_val_wall.png'></td></tr>"
   ]
  },
  {
   "cell_type": "code",
   "execution_count": 25,
   "metadata": {
    "slideshow": {
     "slide_type": "subslide"
    }
   },
   "outputs": [
    {
     "name": "stdout",
     "output_type": "stream",
     "text": [
      "a is 4\n",
      "b is 3\n"
     ]
    }
   ],
   "source": [
    "# Since they are completely independent, changing one will not affect the other\n",
    "a = 3\n",
    "b = a\n",
    "a = 4\n",
    "print('a is', a)\n",
    "print('b is', b)"
   ]
  },
  {
   "cell_type": "markdown",
   "metadata": {
    "slideshow": {
     "slide_type": "fragment"
    }
   },
   "source": [
    "<img src=\"immutvar_by_val_newval.png\">"
   ]
  },
  {
   "cell_type": "markdown",
   "metadata": {
    "slideshow": {
     "slide_type": "subslide"
    }
   },
   "source": [
    "Variable names\n",
    "* can only contain letters, digits, and underscore _\n",
    "* cannot start with a digit\n",
    "* are case sensitive (fruit, FRUIT and Fruit are three different variables)"
   ]
  },
  {
   "cell_type": "code",
   "execution_count": 28,
   "metadata": {
    "slideshow": {
     "slide_type": "subslide"
    }
   },
   "outputs": [
    {
     "name": "stdout",
     "output_type": "stream",
     "text": [
      "letter at index 0 is h\n",
      "letter at index 4 is u\n"
     ]
    }
   ],
   "source": [
    "# Strings, similarly to list (cf next section), are 0-indexed sequences\n",
    "atom_name = 'helium'\n",
    "print('letter at index 0 is', atom_name[0])\n",
    "print('letter at index 4 is', atom_name[4])"
   ]
  },
  {
   "cell_type": "markdown",
   "metadata": {
    "slideshow": {
     "slide_type": "fragment"
    }
   },
   "source": [
    "<img src=str_indexing_only.svg>"
   ]
  },
  {
   "cell_type": "code",
   "execution_count": 29,
   "metadata": {
    "slideshow": {
     "slide_type": "fragment"
    }
   },
   "outputs": [
    {
     "ename": "TypeError",
     "evalue": "'str' object does not support item assignment",
     "output_type": "error",
     "traceback": [
      "\u001b[0;31m---------------------------------------------------------------------------\u001b[0m",
      "\u001b[0;31mTypeError\u001b[0m                                 Traceback (most recent call last)",
      "\u001b[0;32m<ipython-input-29-c3d4a72b0ab9>\u001b[0m in \u001b[0;36m<module>\u001b[0;34m\u001b[0m\n\u001b[1;32m      1\u001b[0m \u001b[0;31m# Do not forget that strings are immutable\u001b[0m\u001b[0;34m\u001b[0m\u001b[0;34m\u001b[0m\u001b[0;34m\u001b[0m\u001b[0m\n\u001b[0;32m----> 2\u001b[0;31m \u001b[0matom_name\u001b[0m\u001b[0;34m[\u001b[0m\u001b[0;36m1\u001b[0m\u001b[0;34m]\u001b[0m \u001b[0;34m=\u001b[0m \u001b[0;34m'i'\u001b[0m\u001b[0;34m\u001b[0m\u001b[0;34m\u001b[0m\u001b[0m\n\u001b[0m",
      "\u001b[0;31mTypeError\u001b[0m: 'str' object does not support item assignment"
     ]
    }
   ],
   "source": [
    "# Do not forget that strings are immutable (you cannot change them)\n",
    "atom_name[1] = 'i'"
   ]
  },
  {
   "cell_type": "code",
   "execution_count": 124,
   "metadata": {
    "slideshow": {
     "slide_type": "subslide"
    }
   },
   "outputs": [
    {
     "name": "stdout",
     "output_type": "stream",
     "text": [
      "Mr John Doe\n"
     ]
    }
   ],
   "source": [
    "# However you can do many things with strings, for example you can concatenate them\n",
    "first_name = 'John'\n",
    "last_name = 'Doe'\n",
    "full_name = 'Mr' + ' ' + first_name + ' ' + last_name\n",
    "print(full_name)"
   ]
  },
  {
   "cell_type": "code",
   "execution_count": 133,
   "metadata": {
    "scrolled": true,
    "slideshow": {
     "slide_type": "fragment"
    }
   },
   "outputs": [
    {
     "name": "stdout",
     "output_type": "stream",
     "text": [
      "sub_string is: raw\n"
     ]
    }
   ],
   "source": [
    "# You can slice them, i.e. extract several sequential characters at a time\n",
    "# <sub_string> = <main_string>[start:stop] where stop is the index AFTER the last wanted character\n",
    "red_fruit = 'strawberry'\n",
    "sub_string = red_fruit[2:5]\n",
    "print('sub_string is:', sub_string)"
   ]
  },
  {
   "cell_type": "code",
   "execution_count": 134,
   "metadata": {
    "slideshow": {
     "slide_type": "fragment"
    }
   },
   "outputs": [
    {
     "name": "stdout",
     "output_type": "stream",
     "text": [
      "sub_string is: berry\n"
     ]
    }
   ],
   "source": [
    "# You can ommit the starting index if you want to start from the beginning\n",
    "# Similarly, you can ommit the stop index if you want to stop at the end\n",
    "red_fruit = 'strawberry'\n",
    "sub_string = red_fruit[5:]\n",
    "print('sub_string is:', sub_string)"
   ]
  },
  {
   "cell_type": "markdown",
   "metadata": {
    "slideshow": {
     "slide_type": "slide"
    }
   },
   "source": [
    "## Python data structures"
   ]
  },
  {
   "cell_type": "markdown",
   "metadata": {
    "slideshow": {
     "slide_type": "fragment"
    }
   },
   "source": [
    "Data structures prove often essential to write any kind of code"
   ]
  },
  {
   "cell_type": "markdown",
   "metadata": {
    "slideshow": {
     "slide_type": "fragment"
    }
   },
   "source": [
    "### Lists"
   ]
  },
  {
   "cell_type": "code",
   "execution_count": 86,
   "metadata": {
    "slideshow": {
     "slide_type": "fragment"
    }
   },
   "outputs": [
    {
     "name": "stdout",
     "output_type": "stream",
     "text": [
      "fav_fruits: ['kiwi', 'mango']\n"
     ]
    }
   ],
   "source": [
    "fav_fruits = ['kiwi', 'mango']\n",
    "print('fav_fruits:', fav_fruits)"
   ]
  },
  {
   "cell_type": "code",
   "execution_count": 87,
   "metadata": {
    "slideshow": {
     "slide_type": "fragment"
    }
   },
   "outputs": [
    {
     "name": "stdout",
     "output_type": "stream",
     "text": [
      "fav_fruits_cals: [42, 60]\n"
     ]
    }
   ],
   "source": [
    "fav_fruits_cals = [42, 60]\n",
    "print('fav_fruits_cals:', fav_fruits_cals)"
   ]
  },
  {
   "cell_type": "code",
   "execution_count": 95,
   "metadata": {
    "slideshow": {
     "slide_type": "fragment"
    }
   },
   "outputs": [
    {
     "data": {
      "text/plain": [
       "'mango'"
      ]
     },
     "execution_count": 95,
     "metadata": {},
     "output_type": "execute_result"
    }
   ],
   "source": [
    "fav_fruits[1]"
   ]
  },
  {
   "cell_type": "markdown",
   "metadata": {
    "slideshow": {
     "slide_type": "subslide"
    }
   },
   "source": [
    "To use functions on objects such as lists, you can use either:\n",
    "* **general functions** with `<function_name>(<object_name>)` such as `len(fav_fruits)` (to compute length with `len`), OR \n",
    "* **specific object functions**, called **methods**, with  `<object_name>.<method_name>` such as `fav_fruits.extend(['apple', 'pear'])` (to append a list of new elements to the original list with `extend`)"
   ]
  },
  {
   "cell_type": "code",
   "execution_count": 88,
   "metadata": {
    "slideshow": {
     "slide_type": "fragment"
    }
   },
   "outputs": [
    {
     "data": {
      "text/plain": [
       "2"
      ]
     },
     "execution_count": 88,
     "metadata": {},
     "output_type": "execute_result"
    }
   ],
   "source": [
    "len(fav_fruits)"
   ]
  },
  {
   "cell_type": "markdown",
   "metadata": {
    "slideshow": {
     "slide_type": "subslide"
    }
   },
   "source": [
    "To see the list of all methods applying to an object, use general function `dir`. You can also use \"TAB\" after typing a dot ('.') after your variable name."
   ]
  },
  {
   "cell_type": "code",
   "execution_count": 96,
   "metadata": {
    "scrolled": true,
    "slideshow": {
     "slide_type": "fragment"
    }
   },
   "outputs": [
    {
     "data": {
      "text/plain": [
       "['__add__',\n",
       " '__class__',\n",
       " '__contains__',\n",
       " '__delattr__',\n",
       " '__delitem__',\n",
       " '__dir__',\n",
       " '__doc__',\n",
       " '__eq__',\n",
       " '__format__',\n",
       " '__ge__',\n",
       " '__getattribute__',\n",
       " '__getitem__',\n",
       " '__gt__',\n",
       " '__hash__',\n",
       " '__iadd__',\n",
       " '__imul__',\n",
       " '__init__',\n",
       " '__init_subclass__',\n",
       " '__iter__',\n",
       " '__le__',\n",
       " '__len__',\n",
       " '__lt__',\n",
       " '__mul__',\n",
       " '__ne__',\n",
       " '__new__',\n",
       " '__reduce__',\n",
       " '__reduce_ex__',\n",
       " '__repr__',\n",
       " '__reversed__',\n",
       " '__rmul__',\n",
       " '__setattr__',\n",
       " '__setitem__',\n",
       " '__sizeof__',\n",
       " '__str__',\n",
       " '__subclasshook__',\n",
       " 'append',\n",
       " 'clear',\n",
       " 'copy',\n",
       " 'count',\n",
       " 'extend',\n",
       " 'index',\n",
       " 'insert',\n",
       " 'pop',\n",
       " 'remove',\n",
       " 'reverse',\n",
       " 'sort']"
      ]
     },
     "execution_count": 96,
     "metadata": {},
     "output_type": "execute_result"
    }
   ],
   "source": [
    "dir(fav_fruits)"
   ]
  },
  {
   "cell_type": "code",
   "execution_count": null,
   "metadata": {
    "slideshow": {
     "slide_type": "fragment"
    }
   },
   "outputs": [],
   "source": [
    "fav_fruits."
   ]
  },
  {
   "cell_type": "code",
   "execution_count": 80,
   "metadata": {
    "slideshow": {
     "slide_type": "subslide"
    }
   },
   "outputs": [
    {
     "name": "stdout",
     "output_type": "stream",
     "text": [
      "fav_food: ['kiwi', 'mango', '4cheese_pizza', 'banana_split']\n"
     ]
    }
   ],
   "source": [
    "fav_food = fav_fruits\n",
    "fav_food.extend(['4cheese_pizza', 'banana_split'])\n",
    "print('fav_food:', fav_food)"
   ]
  },
  {
   "cell_type": "code",
   "execution_count": 81,
   "metadata": {
    "slideshow": {
     "slide_type": "fragment"
    }
   },
   "outputs": [
    {
     "name": "stdout",
     "output_type": "stream",
     "text": [
      "fav_food_cals: [42, 60, 1200, 900]\n"
     ]
    }
   ],
   "source": [
    "fav_food_cals = fav_fruits_cals\n",
    "fav_food_cals.extend([1200, 900])\n",
    "print('fav_food_cals:', fav_food_cals)"
   ]
  },
  {
   "cell_type": "code",
   "execution_count": 82,
   "metadata": {
    "slideshow": {
     "slide_type": "fragment"
    }
   },
   "outputs": [
    {
     "name": "stdout",
     "output_type": "stream",
     "text": [
      "total_fruit_diet_cals: 2202\n"
     ]
    }
   ],
   "source": [
    "total_fruit_diet_cals = sum(fav_fruits_cals)\n",
    "print('total_fruit_diet_cals:', total_fruit_diet_cals)"
   ]
  },
  {
   "cell_type": "markdown",
   "metadata": {
    "slideshow": {
     "slide_type": "subslide"
    }
   },
   "source": [
    "<img src=\"mutvar_error_article.png\">"
   ]
  },
  {
   "cell_type": "markdown",
   "metadata": {
    "slideshow": {
     "slide_type": "fragment"
    }
   },
   "source": [
    "## WARNING: Lists are mutable"
   ]
  },
  {
   "cell_type": "markdown",
   "metadata": {
    "slideshow": {
     "slide_type": "subslide"
    }
   },
   "source": [
    "<img src=\"mutvar_by_ref.png\">"
   ]
  },
  {
   "cell_type": "code",
   "execution_count": 83,
   "metadata": {
    "slideshow": {
     "slide_type": "fragment"
    }
   },
   "outputs": [
    {
     "name": "stdout",
     "output_type": "stream",
     "text": [
      "fav_fruits: ['kiwi', 'mango', '4cheese_pizza', 'banana_split']\n",
      "fav_fruits_cals: [42, 60, 1200, 900]\n"
     ]
    }
   ],
   "source": [
    "print('fav_fruits:', fav_fruits)\n",
    "print('fav_fruits_cals:', fav_fruits_cals)"
   ]
  },
  {
   "cell_type": "code",
   "execution_count": 89,
   "metadata": {
    "slideshow": {
     "slide_type": "fragment"
    }
   },
   "outputs": [
    {
     "name": "stdout",
     "output_type": "stream",
     "text": [
      "fav_fruits:  ['kiwi', 'mango']\n",
      "fav_fruits_cals  [42, 60]\n",
      "total_fruit_diet_cals: 102\n"
     ]
    }
   ],
   "source": [
    "fav_fruits = ['kiwi', 'mango']\n",
    "fav_fruits_cals = [42, 60]\n",
    "# Copy then extend fav_food and fav_food_cals\n",
    "fav_food = fav_fruits.copy() # copy\n",
    "fav_food.extend(['4cheese_pizza', 'banana_split'])\n",
    "fav_food_cals = fav_fruits_cals.copy() # copy\n",
    "fav_food_cals.extend([1200, 900])\n",
    "print('fav_fruits: ', fav_fruits)\n",
    "print('fav_fruits_cals ', fav_fruits_cals)\n",
    "total_fruit_diet_cals = sum(fav_fruits_cals)\n",
    "print('total_fruit_diet_cals:', total_fruit_diet_cals)"
   ]
  },
  {
   "cell_type": "markdown",
   "metadata": {
    "slideshow": {
     "slide_type": "subslide"
    }
   },
   "source": [
    "<img src=\"mutvar_error_articleerratum.png\">"
   ]
  },
  {
   "cell_type": "code",
   "execution_count": 113,
   "metadata": {
    "slideshow": {
     "slide_type": "fragment"
    }
   },
   "outputs": [
    {
     "name": "stdout",
     "output_type": "stream",
     "text": [
      "fav_fruits:  ['kiwi', 'mango']\n",
      "fav_food:  ['kiwi', 'mango', '4cheese_pizza', 'banana_split']\n"
     ]
    }
   ],
   "source": [
    "# Typically there are no problems such as above if you do not initialize a list with another\n",
    "fav_fruits = ['kiwi', 'mango']\n",
    "fav_food = fav_fruits + ['4cheese_pizza', 'banana_split']\n",
    "print('fav_fruits: ', fav_fruits)\n",
    "print('fav_food: ', fav_food)"
   ]
  },
  {
   "cell_type": "code",
   "execution_count": null,
   "metadata": {
    "slideshow": {
     "slide_type": "fragment"
    }
   },
   "outputs": [],
   "source": [
    "# Python overloads traditional operators in context you may not have think of\n",
    "print(['we', 'will'] * 2)"
   ]
  },
  {
   "cell_type": "code",
   "execution_count": null,
   "metadata": {
    "slideshow": {
     "slide_type": "fragment"
    }
   },
   "outputs": [],
   "source": [
    "print(['we', 'will'] * 2 + ['rock', 'you'])"
   ]
  },
  {
   "cell_type": "markdown",
   "metadata": {
    "slideshow": {
     "slide_type": "subslide"
    }
   },
   "source": [
    "## Dictionaries"
   ]
  },
  {
   "cell_type": "code",
   "execution_count": 111,
   "metadata": {
    "slideshow": {
     "slide_type": "fragment"
    }
   },
   "outputs": [],
   "source": [
    "food_cals = {\n",
    "          'kiwi': 42,\n",
    "          'mango': 60,\n",
    "          '4cheese_pizza': 1200,\n",
    "          'banana_split': 900\n",
    "          }"
   ]
  },
  {
   "cell_type": "code",
   "execution_count": 112,
   "metadata": {
    "slideshow": {
     "slide_type": "fragment"
    }
   },
   "outputs": [
    {
     "data": {
      "text/plain": [
       "60"
      ]
     },
     "execution_count": 112,
     "metadata": {},
     "output_type": "execute_result"
    }
   ],
   "source": [
    "food_cals['mango']"
   ]
  },
  {
   "cell_type": "code",
   "execution_count": 107,
   "metadata": {
    "slideshow": {
     "slide_type": "fragment"
    }
   },
   "outputs": [
    {
     "data": {
      "text/plain": [
       "dict_keys(['kiwi', '4cheese_pizza', 'mango', 'banana_split'])"
      ]
     },
     "execution_count": 107,
     "metadata": {},
     "output_type": "execute_result"
    }
   ],
   "source": [
    "food_cals.keys()"
   ]
  },
  {
   "cell_type": "code",
   "execution_count": 109,
   "metadata": {
    "slideshow": {
     "slide_type": "fragment"
    }
   },
   "outputs": [
    {
     "data": {
      "text/plain": [
       "dict_values([1200, 60, 42, 900])"
      ]
     },
     "execution_count": 109,
     "metadata": {},
     "output_type": "execute_result"
    }
   ],
   "source": [
    "food_cals.values()"
   ]
  },
  {
   "cell_type": "code",
   "execution_count": 104,
   "metadata": {
    "slideshow": {
     "slide_type": "fragment"
    }
   },
   "outputs": [
    {
     "ename": "KeyError",
     "evalue": "1",
     "output_type": "error",
     "traceback": [
      "\u001b[0;31m---------------------------------------------------------------------------\u001b[0m",
      "\u001b[0;31mKeyError\u001b[0m                                  Traceback (most recent call last)",
      "\u001b[0;32m<ipython-input-104-69ae36855740>\u001b[0m in \u001b[0;36m<module>\u001b[0;34m\u001b[0m\n\u001b[0;32m----> 1\u001b[0;31m \u001b[0mfood_cals\u001b[0m\u001b[0;34m[\u001b[0m\u001b[0;36m1\u001b[0m\u001b[0;34m]\u001b[0m\u001b[0;34m\u001b[0m\u001b[0;34m\u001b[0m\u001b[0m\n\u001b[0m",
      "\u001b[0;31mKeyError\u001b[0m: 1"
     ]
    }
   ],
   "source": [
    "food_cals[1]"
   ]
  },
  {
   "cell_type": "markdown",
   "metadata": {
    "slideshow": {
     "slide_type": "fragment"
    }
   },
   "source": [
    "## WARNING: Dictionaries are mutable"
   ]
  },
  {
   "cell_type": "markdown",
   "metadata": {
    "slideshow": {
     "slide_type": "subslide"
    }
   },
   "source": [
    "## Tuples: like lists but immutable"
   ]
  },
  {
   "cell_type": "code",
   "execution_count": 121,
   "metadata": {
    "slideshow": {
     "slide_type": "fragment"
    }
   },
   "outputs": [],
   "source": [
    "my_experiment_params = (42, 'method3', 3.14, 'paramx', 'paramy')\n",
    "office_lat_long = (46.2221685, 6.1482567)"
   ]
  },
  {
   "cell_type": "code",
   "execution_count": 115,
   "metadata": {
    "scrolled": true,
    "slideshow": {
     "slide_type": "fragment"
    }
   },
   "outputs": [
    {
     "data": {
      "text/plain": [
       "['__add__',\n",
       " '__class__',\n",
       " '__contains__',\n",
       " '__delattr__',\n",
       " '__dir__',\n",
       " '__doc__',\n",
       " '__eq__',\n",
       " '__format__',\n",
       " '__ge__',\n",
       " '__getattribute__',\n",
       " '__getitem__',\n",
       " '__getnewargs__',\n",
       " '__gt__',\n",
       " '__hash__',\n",
       " '__init__',\n",
       " '__init_subclass__',\n",
       " '__iter__',\n",
       " '__le__',\n",
       " '__len__',\n",
       " '__lt__',\n",
       " '__mul__',\n",
       " '__ne__',\n",
       " '__new__',\n",
       " '__reduce__',\n",
       " '__reduce_ex__',\n",
       " '__repr__',\n",
       " '__rmul__',\n",
       " '__setattr__',\n",
       " '__sizeof__',\n",
       " '__str__',\n",
       " '__subclasshook__',\n",
       " 'count',\n",
       " 'index']"
      ]
     },
     "execution_count": 115,
     "metadata": {},
     "output_type": "execute_result"
    }
   ],
   "source": [
    "dir(work_lat_long)"
   ]
  },
  {
   "cell_type": "code",
   "execution_count": 140,
   "metadata": {
    "slideshow": {
     "slide_type": "fragment"
    }
   },
   "outputs": [
    {
     "data": {
      "text/plain": [
       "2"
      ]
     },
     "execution_count": 140,
     "metadata": {},
     "output_type": "execute_result"
    }
   ],
   "source": [
    "# Unpack tuple (number of variables on the left should be equal to len(tuple))\n",
    "office_lat, office_long = office_lat_long"
   ]
  },
  {
   "cell_type": "code",
   "execution_count": 141,
   "metadata": {
    "slideshow": {
     "slide_type": "fragment"
    }
   },
   "outputs": [
    {
     "name": "stdout",
     "output_type": "stream",
     "text": [
      "My office latitude is 46.2221685 and its longitude is 6.1482567\n"
     ]
    }
   ],
   "source": [
    "print('My office latitude is {} and its longitude is {}'.format(office_lat, office_long))"
   ]
  },
  {
   "cell_type": "code",
   "execution_count": 142,
   "metadata": {
    "slideshow": {
     "slide_type": "fragment"
    }
   },
   "outputs": [
    {
     "name": "stdout",
     "output_type": "stream",
     "text": [
      "My office latitude is 46.2221685 and its longitude is 6.1482567\n"
     ]
    }
   ],
   "source": [
    "print('My office latitude is {lat} and its longitude is {long}'.format(lat=office_lat, long=office_long))"
   ]
  },
  {
   "cell_type": "markdown",
   "metadata": {
    "slideshow": {
     "slide_type": "subslide"
    }
   },
   "source": [
    "### Exercise 1\n",
    "1. Create a variable named `my_fruit` referring to the string 'pineapple'\n",
    "2. Using indices, slice (i.e. extract) 'pine' from your variable\n",
    "3. Use either `dir` or \"TAB\" (after writing '.' after your variable name) to display all methods applicable to your variable `my_fruit`\n",
    "4. Use the list above to find a method to test if what is in your variable `my_fruit` ends with `apple`"
   ]
  },
  {
   "cell_type": "code",
   "execution_count": null,
   "metadata": {
    "slideshow": {
     "slide_type": "skip"
    }
   },
   "outputs": [],
   "source": []
  },
  {
   "cell_type": "markdown",
   "metadata": {
    "slideshow": {
     "slide_type": "subslide"
    }
   },
   "source": [
    "### Exercise 2\n",
    "1. Create a dictionary `wish_list` representing a list of items you'd like with item names as keys and item prices as values\n",
    "2. Using your dictionary `wish_list`, print the list of item names\n",
    "3. Using your dictionary `wish_list`, print the total cost of your wish list"
   ]
  },
  {
   "cell_type": "code",
   "execution_count": null,
   "metadata": {
    "slideshow": {
     "slide_type": "skip"
    }
   },
   "outputs": [],
   "source": []
  },
  {
   "cell_type": "markdown",
   "metadata": {
    "slideshow": {
     "slide_type": "slide"
    }
   },
   "source": [
    "## Control structures"
   ]
  },
  {
   "cell_type": "markdown",
   "metadata": {
    "slideshow": {
     "slide_type": "fragment"
    }
   },
   "source": [
    "Most programs need to do repeated actions, and perform different actions according to different conditions. That is why control structures such as \"for loop\" and \"if else statements\" are essential."
   ]
  },
  {
   "cell_type": "markdown",
   "metadata": {
    "slideshow": {
     "slide_type": "subslide"
    }
   },
   "source": [
    "### For loops"
   ]
  },
  {
   "cell_type": "markdown",
   "metadata": {
    "slideshow": {
     "slide_type": "fragment"
    }
   },
   "source": [
    "A for loop will iterate for each item in a sequence. A typical example is iterating over a list of integers."
   ]
  },
  {
   "cell_type": "code",
   "execution_count": 144,
   "metadata": {
    "slideshow": {
     "slide_type": "fragment"
    }
   },
   "outputs": [
    {
     "name": "stdout",
     "output_type": "stream",
     "text": [
      "0\n",
      "1\n",
      "2\n",
      "3\n"
     ]
    }
   ],
   "source": [
    "seq = [0, 1, 2, 3]\n",
    "for i in seq:\n",
    "    print(i)"
   ]
  },
  {
   "cell_type": "markdown",
   "metadata": {
    "slideshow": {
     "slide_type": "subslide"
    }
   },
   "source": [
    "In Python, a built-in function `range` is typically used to generate this sequence. Only indicating the integer `n` to stop at (exclusive) is enough, such as in `range(n)`. Both starting and stopping integers could be used, as in `range(k, n)`. And in the latter case, a `step` can even be set, as in `range(k, n, step)`."
   ]
  },
  {
   "cell_type": "code",
   "execution_count": 146,
   "metadata": {
    "slideshow": {
     "slide_type": "fragment"
    }
   },
   "outputs": [
    {
     "name": "stdout",
     "output_type": "stream",
     "text": [
      "0\n",
      "1\n",
      "2\n"
     ]
    }
   ],
   "source": [
    "n = 3\n",
    "for i in range(n): # same as: for i in range(0, n)\n",
    "    print(i)"
   ]
  },
  {
   "cell_type": "code",
   "execution_count": 147,
   "metadata": {
    "slideshow": {
     "slide_type": "fragment"
    }
   },
   "outputs": [
    {
     "name": "stdout",
     "output_type": "stream",
     "text": [
      "1\n",
      "2\n",
      "3\n"
     ]
    }
   ],
   "source": [
    "n = 3\n",
    "for i in range(1, n+1): # remember that stopping integer is exclusive\n",
    "    print(i)"
   ]
  },
  {
   "cell_type": "code",
   "execution_count": 149,
   "metadata": {
    "slideshow": {
     "slide_type": "fragment"
    }
   },
   "outputs": [
    {
     "name": "stdout",
     "output_type": "stream",
     "text": [
      "0\n",
      "2\n"
     ]
    }
   ],
   "source": [
    "n = 3\n",
    "for i in range(0, n, 2): # the index increase by 2 at each iteration\n",
    "    print(i)"
   ]
  },
  {
   "cell_type": "markdown",
   "metadata": {
    "slideshow": {
     "slide_type": "subslide"
    }
   },
   "source": [
    "The \"for block\" is indicated by an \"indentation\" (typically 4 spaces)"
   ]
  },
  {
   "cell_type": "code",
   "execution_count": 156,
   "metadata": {
    "slideshow": {
     "slide_type": "fragment"
    }
   },
   "outputs": [
    {
     "name": "stdout",
     "output_type": "stream",
     "text": [
      "0\n",
      "launch!\n",
      "1\n",
      "launch!\n",
      "2\n",
      "launch!\n"
     ]
    }
   ],
   "source": [
    "n = 3\n",
    "for i in range(n):\n",
    "    print(i)\n",
    "    print('launch!')"
   ]
  },
  {
   "cell_type": "code",
   "execution_count": 157,
   "metadata": {
    "slideshow": {
     "slide_type": "fragment"
    }
   },
   "outputs": [
    {
     "name": "stdout",
     "output_type": "stream",
     "text": [
      "0\n",
      "1\n",
      "2\n",
      "launch!\n"
     ]
    }
   ],
   "source": [
    "n = 3\n",
    "for i in range(n):\n",
    "    print(i)\n",
    "print('launch!')"
   ]
  },
  {
   "cell_type": "markdown",
   "metadata": {
    "slideshow": {
     "slide_type": "subslide"
    }
   },
   "source": [
    "The sequence does not have to be a sequence of integers, it can be any \"iterable\"."
   ]
  },
  {
   "cell_type": "code",
   "execution_count": 152,
   "metadata": {
    "slideshow": {
     "slide_type": "fragment"
    }
   },
   "outputs": [
    {
     "name": "stdout",
     "output_type": "stream",
     "text": [
      "kiwi\n",
      "mango\n",
      "papaya\n"
     ]
    }
   ],
   "source": [
    "fav_fruits = ['kiwi', 'mango', 'papaya']\n",
    "for fruit in fav_fruits:\n",
    "    print(fruit)"
   ]
  },
  {
   "cell_type": "markdown",
   "metadata": {
    "slideshow": {
     "slide_type": "fragment"
    }
   },
   "source": [
    "Python allows for concise and elegant syntax and this shows when extracting both the iterating index and the corresponding item."
   ]
  },
  {
   "cell_type": "code",
   "execution_count": 154,
   "metadata": {
    "slideshow": {
     "slide_type": "fragment"
    }
   },
   "outputs": [
    {
     "name": "stdout",
     "output_type": "stream",
     "text": [
      "Rank 1: kiwi\n",
      "Rank 2: mango\n",
      "Rank 3: papaya\n"
     ]
    }
   ],
   "source": [
    "# Other programming language\n",
    "n = len(fav_fruits)\n",
    "for i in range(n):\n",
    "    fruit = fav_fruits[i]\n",
    "    print('Rank {}: {}'.format(i+1, fruit))"
   ]
  },
  {
   "cell_type": "code",
   "execution_count": 155,
   "metadata": {
    "slideshow": {
     "slide_type": "fragment"
    }
   },
   "outputs": [
    {
     "name": "stdout",
     "output_type": "stream",
     "text": [
      "Rank 1: kiwi\n",
      "Rank 2: mango\n",
      "Rank 3: papaya\n"
     ]
    }
   ],
   "source": [
    "# Python uses the built-in function \"enumerate\" to extract both index and item at the same time\n",
    "for i, fruit in enumerate(fav_fruits):\n",
    "    print('Rank {}: {}'.format(i+1, fruit))"
   ]
  },
  {
   "cell_type": "markdown",
   "metadata": {
    "slideshow": {
     "slide_type": "subslide"
    }
   },
   "source": [
    "This shows as well when iterating over dictionary items."
   ]
  },
  {
   "cell_type": "code",
   "execution_count": 158,
   "metadata": {
    "slideshow": {
     "slide_type": "fragment"
    }
   },
   "outputs": [],
   "source": [
    "food_cals = {\n",
    "          'kiwi': 42,\n",
    "          'mango': 60,\n",
    "          '4cheese_pizza': 1200,\n",
    "          'banana_split': 900\n",
    "          }"
   ]
  },
  {
   "cell_type": "code",
   "execution_count": 159,
   "metadata": {
    "slideshow": {
     "slide_type": "fragment"
    }
   },
   "outputs": [
    {
     "name": "stdout",
     "output_type": "stream",
     "text": [
      "Food item kiwi has 42 calories\n",
      "Food item mango has 60 calories\n",
      "Food item 4cheese_pizza has 1200 calories\n",
      "Food item banana_split has 900 calories\n"
     ]
    }
   ],
   "source": [
    "# Other programming language\n",
    "all_food_names = food_cals.keys()\n",
    "for food_name in all_food_names:\n",
    "    n_cals = food_cals[food_name]\n",
    "    print('Food item {} has {} calories'.format(food_name, n_cals))"
   ]
  },
  {
   "cell_type": "code",
   "execution_count": 160,
   "metadata": {
    "slideshow": {
     "slide_type": "fragment"
    }
   },
   "outputs": [
    {
     "name": "stdout",
     "output_type": "stream",
     "text": [
      "Food item kiwi has 42 calories\n",
      "Food item mango has 60 calories\n",
      "Food item 4cheese_pizza has 1200 calories\n",
      "Food item banana_split has 900 calories\n"
     ]
    }
   ],
   "source": [
    "# Python extract directly the (key, val) pairs with the \"items\" method function\n",
    "for food_name, n_cals in food_cals.items():\n",
    "    print('Food item {} has {} calories'.format(food_name, n_cals))"
   ]
  },
  {
   "cell_type": "markdown",
   "metadata": {
    "slideshow": {
     "slide_type": "slide"
    }
   },
   "source": [
    "## If - else statements"
   ]
  },
  {
   "cell_type": "markdown",
   "metadata": {
    "slideshow": {
     "slide_type": "fragment"
    }
   },
   "source": [
    "An \"if - else\" statement allows to execute commands only if a logical expression is True. The logical expression is called \"Boolean expression\" and is always either True or False. If False the block of commands is not executed."
   ]
  },
  {
   "cell_type": "code",
   "execution_count": 164,
   "metadata": {
    "slideshow": {
     "slide_type": "fragment"
    }
   },
   "outputs": [],
   "source": [
    "# Exam for which grade < 5 is fail, grade = 5 requires to resit exam, and grade > 5 is a pass\n",
    "grade = 7\n",
    "if grade < 5:\n",
    "    print(\"Grade too low\")"
   ]
  },
  {
   "cell_type": "markdown",
   "metadata": {
    "slideshow": {
     "slide_type": "fragment"
    }
   },
   "source": [
    "An `else` statement is executed if the `if` statement is false"
   ]
  },
  {
   "cell_type": "code",
   "execution_count": 165,
   "metadata": {
    "slideshow": {
     "slide_type": "fragment"
    }
   },
   "outputs": [
    {
     "name": "stdout",
     "output_type": "stream",
     "text": [
      "Grade high enough\n"
     ]
    }
   ],
   "source": [
    "grade = 7\n",
    "if grade < 5:\n",
    "    print(\"Grade too low\")\n",
    "else:\n",
    "    print(\"Grade high enough\")"
   ]
  },
  {
   "cell_type": "markdown",
   "metadata": {
    "slideshow": {
     "slide_type": "subslide"
    }
   },
   "source": [
    "One or more `elif` statements can be added to add tests. Tests are always evaluated only once, in order."
   ]
  },
  {
   "cell_type": "code",
   "execution_count": 235,
   "metadata": {
    "slideshow": {
     "slide_type": "fragment"
    }
   },
   "outputs": [
    {
     "name": "stdout",
     "output_type": "stream",
     "text": [
      "Grade high enough\n"
     ]
    }
   ],
   "source": [
    "grade = 7\n",
    "if grade < 5:\n",
    "    print(\"Grade too low\")\n",
    "elif  grade == 5:\n",
    "    print(\"Please resit exam\")\n",
    "elif grade < 8:\n",
    "    print(\"Grade high enough\")\n",
    "elif grade <= 10:\n",
    "    print(\"Excellent grade\")\n",
    "else:\n",
    "    print(\"Your grade is greater than 10!\")"
   ]
  },
  {
   "cell_type": "markdown",
   "metadata": {
    "slideshow": {
     "slide_type": "subslide"
    }
   },
   "source": [
    "Boolean expressions can be combined with boolean operators: `and`, `or` or `not`. Below is an example with a dictionary having as values other dictionaries (values can be any objects)."
   ]
  },
  {
   "cell_type": "code",
   "execution_count": 178,
   "metadata": {
    "slideshow": {
     "slide_type": "fragment"
    }
   },
   "outputs": [],
   "source": [
    "shopping_list = {\n",
    "              'kiwi': {'cals': 42, 'price': 2},\n",
    "              'mango': {'cals': 60, 'price': 5},\n",
    "              '4cheese-pizza': {'cals': 1200, 'price': 18},\n",
    "              'banana split': {'cals': 900, 'price': 9}\n",
    "              }"
   ]
  },
  {
   "cell_type": "code",
   "execution_count": 234,
   "metadata": {
    "slideshow": {
     "slide_type": "fragment"
    }
   },
   "outputs": [
    {
     "name": "stdout",
     "output_type": "stream",
     "text": [
      "Dinner tonight could be banana split\n"
     ]
    }
   ],
   "source": [
    "for food_name, food_info in shopping_list.items():\n",
    "    if (not food_info['cals'] < 500) and (food_info['price'] < 15):\n",
    "        print('Dinner tonight could be {}'.format(food_name))"
   ]
  },
  {
   "cell_type": "markdown",
   "metadata": {
    "slideshow": {
     "slide_type": "subslide"
    }
   },
   "source": [
    "### Exercise\n",
    "1. Create a variable 'my_dict' referring to a dictionary (any content is fine)\n",
    "2. Loop on all methods available for this dictionary, and only print the ones NOT starting with an underscore"
   ]
  },
  {
   "cell_type": "code",
   "execution_count": null,
   "metadata": {
    "slideshow": {
     "slide_type": "skip"
    }
   },
   "outputs": [],
   "source": []
  },
  {
   "cell_type": "markdown",
   "metadata": {
    "slideshow": {
     "slide_type": "slide"
    }
   },
   "source": [
    "## Functions"
   ]
  },
  {
   "cell_type": "markdown",
   "metadata": {
    "slideshow": {
     "slide_type": "fragment"
    }
   },
   "source": [
    "A function allows you to group *a logical unit set of commands*, which has a specific aim, into **a single entity**. This way you can reuse that function every time you want to achieve that aim. \n",
    "\n",
    "The aim can be very simple such has finding the maximum of a list (function `max`), its length (function `len`) or more complex (finding each unique element and count how many times it occurs )."
   ]
  },
  {
   "cell_type": "code",
   "execution_count": 236,
   "metadata": {
    "slideshow": {
     "slide_type": "fragment"
    }
   },
   "outputs": [],
   "source": [
    "def comment_grade(grade):\n",
    "    if grade < 5:\n",
    "        return('Grade too low')\n",
    "    else:\n",
    "        return('Grade high enough')"
   ]
  },
  {
   "cell_type": "markdown",
   "metadata": {
    "slideshow": {
     "slide_type": "subslide"
    }
   },
   "source": [
    "A function can have optional arguments, always indicated after the compulsory arguments."
   ]
  },
  {
   "cell_type": "code",
   "execution_count": null,
   "metadata": {
    "slideshow": {
     "slide_type": "fragment"
    }
   },
   "outputs": [],
   "source": [
    "def comment_grade(grade, mode = 'normal'):\n",
    "    if grade < 5:\n",
    "        return('Grade too low')\n",
    "    elif grade > 5:\n",
    "        if mode == 'normal':\n",
    "            return('Grade high enough')\n",
    "        elif mode == 'positive_reinforcement':\n",
    "            return('Well done, keep going!')"
   ]
  },
  {
   "cell_type": "markdown",
   "metadata": {
    "slideshow": {
     "slide_type": "fragment"
    }
   },
   "source": [
    "A function can also have no arguments at all. And return nothing."
   ]
  },
  {
   "cell_type": "code",
   "execution_count": 12,
   "metadata": {
    "slideshow": {
     "slide_type": "fragment"
    }
   },
   "outputs": [],
   "source": [
    "def say_hello():\n",
    "    print('hello')"
   ]
  },
  {
   "cell_type": "markdown",
   "metadata": {
    "slideshow": {
     "slide_type": "subslide"
    }
   },
   "source": [
    "When you write a function, you need to document it. This will be used to automatically generate help and documentation, and also help anyone (including yourself) better understanding what it does."
   ]
  },
  {
   "cell_type": "code",
   "execution_count": null,
   "metadata": {
    "slideshow": {
     "slide_type": "fragment"
    }
   },
   "outputs": [],
   "source": [
    "def comment_grade(grade, mode = 'normal'):\n",
    "    ''' Provide a feedback according to the grade value\n",
    "    \n",
    "        Parameters\n",
    "        ----------\n",
    "        grade : int\n",
    "            The amount of distance traveled\n",
    "        mode : str\n",
    "            The feedback mode, either \"normal\" (default) or \"positive_reinforcement\"\n",
    "\n",
    "        Returns\n",
    "        -------\n",
    "        comment : str\n",
    "            The grade feedback\n",
    "    '''\n",
    "    if grade < 5:\n",
    "        return('Grade too low')\n",
    "    elif grade > 5:\n",
    "        if mode == 'normal':\n",
    "            return('Grade high enough')\n",
    "        elif mode == 'positive_reinforcement':\n",
    "            return('Well done, keep going!')"
   ]
  },
  {
   "cell_type": "markdown",
   "metadata": {
    "slideshow": {
     "slide_type": "subslide"
    }
   },
   "source": [
    "Best practice is now to use Python \"type hints\" for the function arguments and return values. You can remove this information from the documentation since it is redundant. In addition of all benefits mentioned above, this information can also be used by the IDEs."
   ]
  },
  {
   "cell_type": "code",
   "execution_count": 5,
   "metadata": {
    "slideshow": {
     "slide_type": "fragment"
    }
   },
   "outputs": [],
   "source": [
    "def comment_grade(grade: int, mode: str = 'normal') -> str:\n",
    "    ''' Provide a feedback according to the grade value\n",
    "    \n",
    "        Parameters\n",
    "        ----------\n",
    "        grade\n",
    "            The amount of distance traveled\n",
    "        mode\n",
    "            The feedback mode, either \"normal\" (default) or \"positive_reinforcement\"\n",
    "\n",
    "        Returns\n",
    "        -------\n",
    "        comment\n",
    "            The grade feedback\n",
    "    '''\n",
    "    if grade < 5:\n",
    "        return('Grade too low')\n",
    "    elif grade > 5:\n",
    "        if mode == 'normal':\n",
    "            return('Grade high enough')\n",
    "        elif mode == 'positive_reinforcement':\n",
    "            return('Well done, keep going!')"
   ]
  },
  {
   "cell_type": "code",
   "execution_count": 6,
   "metadata": {
    "slideshow": {
     "slide_type": "subslide"
    }
   },
   "outputs": [],
   "source": [
    "student_results = {\n",
    "               'John': 3,\n",
    "               'Mary': 9,\n",
    "               'Peter': 5\n",
    "               }"
   ]
  },
  {
   "cell_type": "code",
   "execution_count": 7,
   "metadata": {
    "slideshow": {
     "slide_type": "fragment"
    }
   },
   "outputs": [
    {
     "name": "stdout",
     "output_type": "stream",
     "text": [
      "Feedback for John: Grade too low\n",
      "Feedback for Mary: Well done, keep going!\n",
      "Feedback for Peter: None\n"
     ]
    }
   ],
   "source": [
    "for s_name, s_grade in student_results.items():\n",
    "    s_feedback = comment_grade(s_grade, mode='positive_reinforcement')\n",
    "    print('Feedback for {}: {}'.format(s_name, s_feedback))"
   ]
  },
  {
   "cell_type": "markdown",
   "metadata": {
    "slideshow": {
     "slide_type": "fragment"
    }
   },
   "source": [
    "### A special Python keyword: None"
   ]
  },
  {
   "cell_type": "markdown",
   "metadata": {
    "slideshow": {
     "slide_type": "fragment"
    }
   },
   "source": [
    "`None` is a case-sensitive keyword to state that a variable does not have any value (like \"null\" in other languages). `None` is not the same as `0`, `False`, or an empty string. `None` has a datatype of its own."
   ]
  },
  {
   "cell_type": "code",
   "execution_count": 1,
   "metadata": {
    "slideshow": {
     "slide_type": "fragment"
    }
   },
   "outputs": [
    {
     "name": "stdout",
     "output_type": "stream",
     "text": [
      "<class 'NoneType'>\n"
     ]
    }
   ],
   "source": [
    "a = None\n",
    "print(type(a))"
   ]
  },
  {
   "cell_type": "markdown",
   "metadata": {
    "slideshow": {
     "slide_type": "subslide"
    }
   },
   "source": [
    "A function always return something. So if nothing is explicitely returned by the function, the return value is `None`."
   ]
  },
  {
   "cell_type": "code",
   "execution_count": 1,
   "metadata": {
    "slideshow": {
     "slide_type": "fragment"
    }
   },
   "outputs": [
    {
     "name": "stdout",
     "output_type": "stream",
     "text": [
      "The output of extend is None\n"
     ]
    }
   ],
   "source": [
    "test_list = [\"a\", \"b\", \"c\"]\n",
    "output_extend = test_list.extend([\"d\", \"e\"])\n",
    "print('The output of extend is {}'.format(output_extend))"
   ]
  },
  {
   "cell_type": "markdown",
   "metadata": {
    "slideshow": {
     "slide_type": "subslide"
    }
   },
   "source": [
    "## Proper Python code development: use an IDE (e.g. Visual Studio Code)"
   ]
  },
  {
   "cell_type": "code",
   "execution_count": 5,
   "metadata": {
    "slideshow": {
     "slide_type": "subslide"
    }
   },
   "outputs": [
    {
     "name": "stdout",
     "output_type": "stream",
     "text": [
      "Feedback for Elisa: Well done, keep going!\n",
      "Feedback for Danny: Grade too low\n",
      "Feedback for Kate: Well done, keep going!\n"
     ]
    }
   ],
   "source": [
    "import exam1\n",
    "#from exam1 import print_student_feedback\n",
    "#from exam1 import print_student_feedback as print_feedback\n",
    "new_student_results = {\n",
    "               'Elisa': 8,\n",
    "               'Danny': 4,\n",
    "               'Kate': 6\n",
    "               }\n",
    "exam1.print_student_feedback(new_student_results)"
   ]
  },
  {
   "cell_type": "code",
   "execution_count": 12,
   "metadata": {
    "slideshow": {
     "slide_type": "fragment"
    }
   },
   "outputs": [
    {
     "name": "stdout",
     "output_type": "stream",
     "text": [
      "Feedback for Elisa: Well done, keep going!\n",
      "Feedback for Danny: Grade too low\n",
      "Feedback for Kate: Well done, keep going!\n"
     ]
    }
   ],
   "source": [
    "#import exam1\n",
    "#from exam1 import print_student_feedback\n",
    "from exam1 import print_student_feedback as print_feedback\n",
    "new_student_results = {\n",
    "               'Elisa': 8,\n",
    "               'Danny': 4,\n",
    "               'Kate': 6\n",
    "               }\n",
    "print_feedback(new_student_results)"
   ]
  },
  {
   "cell_type": "markdown",
   "metadata": {
    "slideshow": {
     "slide_type": "subslide"
    }
   },
   "source": [
    "### Exercise\n",
    "0. Consider the two cells below\n",
    "1. Create a new file in VS Code (File --> New File) and save it in the directory `vs_tut` with the name you want (but with .py extension)\n",
    "2. Group the imports found in the two cells at the top of this new file\n",
    "3. Create two functions, one associated to each cell:\n",
    "    1. first cell: the function has no arguments and returns the astro_names list\n",
    "    2. second cell: the function has the number of trials and the trial pause as arguments, and returns a list of the iss_info strings (generated for for all trials)\n",
    "4. (If enough time) Import the module in the Jupyter notebook (the module name is  your filename without the .py extension) and call one of the functions (or both)\n",
    "5. (If enough time) Go back to VS Code, define a toy example which will be run if __main__ == '__main__', and test that:\n",
    "    1. You can run it on the terminal\n",
    "    2. Importing it as a module in Jupyter Notebook (or a new file in VS Code) will not run the code on the toy example\n",
    "    \n",
    "Tip: only focus on defining the functions first, and only add the hint types and documentation if you have time"
   ]
  },
  {
   "cell_type": "code",
   "execution_count": 17,
   "metadata": {
    "slideshow": {
     "slide_type": "subslide"
    }
   },
   "outputs": [
    {
     "name": "stdout",
     "output_type": "stream",
     "text": [
      "['Andrew Morgan', 'Oleg Skripochka', 'Jessica Meir']\n"
     ]
    }
   ],
   "source": [
    "# CELL 1 for exercise\n",
    "import requests\n",
    "# Get the names of astronauts on board the ISS \n",
    "astros_json = requests.get('http://api.open-notify.org/astros.json').json()\n",
    "astro_names = []\n",
    "for astro_info in astros_json['people']:\n",
    "    astro_names.append(astro_info['name'])\n",
    "# Note: equivalent to astro_names = [astro_info['name'] for astro_info in astros_json['people']]\n",
    "print(astro_names)"
   ]
  },
  {
   "cell_type": "code",
   "execution_count": 16,
   "metadata": {
    "slideshow": {
     "slide_type": "subslide"
    }
   },
   "outputs": [
    {
     "name": "stdout",
     "output_type": "stream",
     "text": [
      "At 19-Feb-2020 14:26:15, the ISS was above Baie aux Huîtres in Mauritius\n",
      "At 19-Feb-2020 14:26:20, the ISS was above Baie aux Huîtres in Mauritius\n",
      "At 19-Feb-2020 14:26:25, the ISS was above Port-aux-Français in French Southern Territories\n"
     ]
    }
   ],
   "source": [
    "# CELL 2 for exercise\n",
    "import time\n",
    "from datetime import datetime\n",
    "import reverse_geocode\n",
    "\n",
    "n_trials = 3\n",
    "trial_pause_seconds = 5\n",
    "for i_trial in range(n_trials):\n",
    "    # Get date and time\n",
    "    date_time_now = datetime.now()\n",
    "    time_str = date_time_now.strftime(\"%d-%b-%Y %H:%M:%S\")\n",
    "    # ISS position\n",
    "    issnow_json = requests.get('http://api.open-notify.org/iss-now.json').json()\n",
    "    if issnow_json['message']  == 'success':\n",
    "        iss_latlong = (issnow_json['iss_position']['latitude'], \n",
    "                       issnow_json['iss_position']['longitude'])\n",
    "        # The search method expects a list and returns a list.\n",
    "        # Hence we need to coerce a single value latlong to a list with [latlong]\n",
    "        # Afterwards we need to extract the result, itself a single-item list, with result_list[0]\n",
    "        iss_pos_list = reverse_geocode.search([iss_latlong])\n",
    "        iss_pos = iss_pos_list[0]\n",
    "        iss_info = 'At {}, the ISS was above {} in {}'.format(time_str, iss_pos['city'], iss_pos['country'])\n",
    "        print(iss_info)\n",
    "        time.sleep(trial_pause_seconds)"
   ]
  },
  {
   "cell_type": "markdown",
   "metadata": {
    "slideshow": {
     "slide_type": "slide"
    }
   },
   "source": [
    "## Numerical analysis and plotting with numpy and matplotlib "
   ]
  },
  {
   "cell_type": "code",
   "execution_count": 1,
   "metadata": {
    "slideshow": {
     "slide_type": "skip"
    }
   },
   "outputs": [
    {
     "name": "stderr",
     "output_type": "stream",
     "text": [
      "/home/brainhacker/pyutils/miniconda3/envs/sci37/lib/python3.7/site-packages/IPython/nbformat.py:13: ShimWarning: The `IPython.nbformat` package has been deprecated since IPython 4.0. You should import from nbformat instead.\n",
      "  \"You should import from nbformat instead.\", ShimWarning)\n"
     ]
    },
    {
     "name": "stdout",
     "output_type": "stream",
     "text": [
      "Starting MATLAB on ZMQ socket ipc:///tmp/pymatbridge-adde77ad-3e37-4edc-bf71-140e52f0c696\n",
      "Send 'exit' command to kill the server\n",
      ".....MATLAB started and connected!\n"
     ]
    }
   ],
   "source": [
    "%load_ext pymatbridge"
   ]
  },
  {
   "cell_type": "markdown",
   "metadata": {
    "slideshow": {
     "slide_type": "fragment"
    }
   },
   "source": [
    "Numpy is an essential package for scientific computing in python. At its core are n-dimensional arrays, called  ndarrays. \n",
    "\n",
    "ndarrays can be considered as \"homogeneous\" (same-type elements) nested lists having fixed size in a given dimension."
   ]
  },
  {
   "cell_type": "code",
   "execution_count": 2,
   "metadata": {
    "slideshow": {
     "slide_type": "fragment"
    }
   },
   "outputs": [],
   "source": [
    "import numpy as np"
   ]
  },
  {
   "cell_type": "code",
   "execution_count": 3,
   "metadata": {
    "slideshow": {
     "slide_type": "fragment"
    }
   },
   "outputs": [
    {
     "data": {
      "text/plain": [
       "array([2, 3, 5])"
      ]
     },
     "execution_count": 3,
     "metadata": {},
     "output_type": "execute_result"
    }
   ],
   "source": [
    "a_1d_list = [2, 3, 5]\n",
    "a_1d = np.array(a_1d_list)\n",
    "a_1d"
   ]
  },
  {
   "cell_type": "code",
   "execution_count": 4,
   "metadata": {
    "slideshow": {
     "slide_type": "fragment"
    }
   },
   "outputs": [
    {
     "data": {
      "text/plain": [
       "array([4, 6, 7])"
      ]
     },
     "execution_count": 4,
     "metadata": {},
     "output_type": "execute_result"
    }
   ],
   "source": [
    "b_1d = np.array([4, 6, 7])\n",
    "b_1d"
   ]
  },
  {
   "cell_type": "markdown",
   "metadata": {
    "slideshow": {
     "slide_type": "subslide"
    }
   },
   "source": [
    "Operations are very similar to Matlab (for those familier with it), but **careful with indices and slicing**."
   ]
  },
  {
   "cell_type": "code",
   "execution_count": 8,
   "metadata": {
    "slideshow": {
     "slide_type": "fragment"
    }
   },
   "outputs": [
    {
     "data": {
      "text/plain": [
       "array([0.        , 0.06342392, 0.12659245])"
      ]
     },
     "execution_count": 8,
     "metadata": {},
     "output_type": "execute_result"
    }
   ],
   "source": [
    "x = np.linspace(0, 2*np.pi, 100)\n",
    "y = np.sin(x)\n",
    "y[0:3]"
   ]
  },
  {
   "cell_type": "code",
   "execution_count": 9,
   "metadata": {
    "slideshow": {
     "slide_type": "fragment"
    }
   },
   "outputs": [
    {
     "data": {
      "text/plain": [
       "\n",
       "ans =\n",
       "\n",
       "         0    0.0634    0.1266\n",
       "\n"
      ]
     },
     "metadata": {},
     "output_type": "display_data"
    }
   ],
   "source": [
    "%%matlab\n",
    "x = linspace(0, 2*pi, 100);\n",
    "y = sin(x);\n",
    "y(1:3)"
   ]
  },
  {
   "cell_type": "markdown",
   "metadata": {
    "slideshow": {
     "slide_type": "subslide"
    }
   },
   "source": [
    "Similar functions but different \"defaults\""
   ]
  },
  {
   "cell_type": "code",
   "execution_count": 88,
   "metadata": {
    "slideshow": {
     "slide_type": "fragment"
    }
   },
   "outputs": [],
   "source": [
    "a_2d = np.array([[2, 3, 5], \n",
    "                 [8, 12, 16], \n",
    "                 [18, 22, 26],\n",
    "                 [27, 31, 40]] )"
   ]
  },
  {
   "cell_type": "code",
   "execution_count": 106,
   "metadata": {
    "slideshow": {
     "slide_type": "fragment"
    }
   },
   "outputs": [
    {
     "name": "stdout",
     "output_type": "stream",
     "text": [
      "(4, 3)\n",
      "17.0\n",
      "[13. 17. 21.]\n"
     ]
    }
   ],
   "source": [
    "print(a_2d.shape)\n",
    "print(np.median(a_2d))\n",
    "print(np.median(a_2d, axis=0))"
   ]
  },
  {
   "cell_type": "code",
   "execution_count": 105,
   "metadata": {
    "slideshow": {
     "slide_type": "fragment"
    }
   },
   "outputs": [
    {
     "data": {
      "text/plain": [
       "size A:      4     3\n",
       "\n",
       "m:     17\n",
       "\n",
       "M:     13    17    21\n",
       "\n"
      ]
     },
     "metadata": {},
     "output_type": "display_data"
    }
   ],
   "source": [
    "%%matlab\n",
    "A = [2 3 5; 8 12 16; 18 22 26; 27 31 40];\n",
    "fprintf('size A: '); disp(size(A))\n",
    "m = median(A, 'all');\n",
    "fprintf('m: '); disp(m)\n",
    "M = median(A);\n",
    "fprintf('M: '); disp(M)"
   ]
  },
  {
   "cell_type": "markdown",
   "metadata": {
    "slideshow": {
     "slide_type": "subslide"
    }
   },
   "source": [
    "You can make up arrays quickly"
   ]
  },
  {
   "cell_type": "code",
   "execution_count": 46,
   "metadata": {
    "slideshow": {
     "slide_type": "fragment"
    }
   },
   "outputs": [],
   "source": [
    "zeros_3by2 = np.zeros((3, 2))        \n",
    "ones_4by3 = np.ones((4, 3))\n",
    "eight_3by2 = np.full((3, 2), 8)  \n",
    "diag_of_5 = np.eye(5)        "
   ]
  },
  {
   "cell_type": "markdown",
   "metadata": {
    "slideshow": {
     "slide_type": "subslide"
    }
   },
   "source": [
    "You can index them the usual way as for lists."
   ]
  },
  {
   "cell_type": "code",
   "execution_count": 37,
   "metadata": {},
   "outputs": [
    {
     "data": {
      "text/plain": [
       "array([[ 80,  80],\n",
       "       [288, 288],\n",
       "       [528, 528],\n",
       "       [784, 784]])"
      ]
     },
     "execution_count": 37,
     "metadata": {},
     "output_type": "execute_result"
    }
   ],
   "source": [
    "a_2d.dot(eight_3by2)"
   ]
  },
  {
   "cell_type": "code",
   "execution_count": 28,
   "metadata": {
    "slideshow": {
     "slide_type": "fragment"
    }
   },
   "outputs": [
    {
     "name": "stdout",
     "output_type": "stream",
     "text": [
      "[[ 2  3  5]\n",
      " [ 8 12 16]\n",
      " [18 22 26]\n",
      " [27 31 40]]\n"
     ]
    }
   ],
   "source": [
    "print(a_2d)"
   ]
  },
  {
   "cell_type": "code",
   "execution_count": 29,
   "metadata": {
    "slideshow": {
     "slide_type": "fragment"
    }
   },
   "outputs": [
    {
     "name": "stdout",
     "output_type": "stream",
     "text": [
      "[[ 8 12]\n",
      " [18 22]\n",
      " [27 31]]\n"
     ]
    }
   ],
   "source": [
    "print(a_2d[1:4, :2])"
   ]
  },
  {
   "cell_type": "markdown",
   "metadata": {
    "slideshow": {
     "slide_type": "subslide"
    }
   },
   "source": [
    "Careful of changes of dimensions. Use slicing to keep dimensions."
   ]
  },
  {
   "cell_type": "code",
   "execution_count": 107,
   "metadata": {},
   "outputs": [
    {
     "data": {
      "text/plain": [
       "array([[ 2,  3,  5],\n",
       "       [ 8, 12, 16],\n",
       "       [18, 22, 26],\n",
       "       [27, 31, 40]])"
      ]
     },
     "execution_count": 107,
     "metadata": {},
     "output_type": "execute_result"
    }
   ],
   "source": [
    "a_2d"
   ]
  },
  {
   "cell_type": "code",
   "execution_count": 32,
   "metadata": {
    "slideshow": {
     "slide_type": "fragment"
    }
   },
   "outputs": [
    {
     "name": "stdout",
     "output_type": "stream",
     "text": [
      "Result of shape (2,): [ 8 12]\n"
     ]
    }
   ],
   "source": [
    "a_2d_row2 = a_2d[1, :2] \n",
    "print('Result of shape {}: {}'.format(a_2d_row2.shape, a_2d_row2))"
   ]
  },
  {
   "cell_type": "code",
   "execution_count": 33,
   "metadata": {
    "slideshow": {
     "slide_type": "fragment"
    }
   },
   "outputs": [
    {
     "name": "stdout",
     "output_type": "stream",
     "text": [
      "Result of shape (1, 2): [[ 8 12]]\n"
     ]
    }
   ],
   "source": [
    "a_2d_submat = a_2d[1:2, :2]\n",
    "print('Result of shape {}: {}'.format(a_2d_submat.shape, a_2d_submat))"
   ]
  },
  {
   "cell_type": "markdown",
   "metadata": {
    "slideshow": {
     "slide_type": "subslide"
    }
   },
   "source": [
    "You can create boolean arrays for masking"
   ]
  },
  {
   "cell_type": "code",
   "execution_count": 45,
   "metadata": {
    "slideshow": {
     "slide_type": "fragment"
    }
   },
   "outputs": [
    {
     "data": {
      "text/plain": [
       "array([[ 2,  3,  5],\n",
       "       [ 0,  0,  0],\n",
       "       [ 0, 22, 26],\n",
       "       [27, 31, 40]])"
      ]
     },
     "execution_count": 45,
     "metadata": {},
     "output_type": "execute_result"
    }
   ],
   "source": [
    "a_2d[np.logical_and(a_2d>5, a_2d<20)] = 0\n",
    "a_2d"
   ]
  },
  {
   "cell_type": "markdown",
   "metadata": {
    "slideshow": {
     "slide_type": "subslide"
    }
   },
   "source": [
    "And do typical operations. But careful of difference with Matlab: in Python `*` is element-wise multiplication. You need to use `dot` method for matrix dot product. Use `T` method for transpose."
   ]
  },
  {
   "cell_type": "code",
   "execution_count": 47,
   "metadata": {
    "slideshow": {
     "slide_type": "fragment"
    }
   },
   "outputs": [
    {
     "data": {
      "text/plain": [
       "array([[ 2.,  3.,  5.],\n",
       "       [ 0.,  0.,  0.],\n",
       "       [ 0., 22., 26.],\n",
       "       [27., 31., 40.]])"
      ]
     },
     "execution_count": 47,
     "metadata": {},
     "output_type": "execute_result"
    }
   ],
   "source": [
    "a_2d * ones_4by3"
   ]
  },
  {
   "cell_type": "code",
   "execution_count": 48,
   "metadata": {
    "slideshow": {
     "slide_type": "fragment"
    }
   },
   "outputs": [
    {
     "data": {
      "text/plain": [
       "array([[10., 10., 10., 10.],\n",
       "       [ 0.,  0.,  0.,  0.],\n",
       "       [48., 48., 48., 48.],\n",
       "       [98., 98., 98., 98.]])"
      ]
     },
     "execution_count": 48,
     "metadata": {},
     "output_type": "execute_result"
    }
   ],
   "source": [
    "a_2d.dot(ones_4by3.T)"
   ]
  },
  {
   "cell_type": "markdown",
   "metadata": {
    "slideshow": {
     "slide_type": "subslide"
    }
   },
   "source": [
    "`matplotlib` is a core Python plotting library, working particularly well with `numpy`."
   ]
  },
  {
   "cell_type": "code",
   "execution_count": 4,
   "metadata": {
    "slideshow": {
     "slide_type": "fragment"
    }
   },
   "outputs": [],
   "source": [
    "from matplotlib import pyplot as plt\n",
    "%matplotlib inline"
   ]
  },
  {
   "cell_type": "markdown",
   "metadata": {
    "slideshow": {
     "slide_type": "subslide"
    }
   },
   "source": [
    "Plot points"
   ]
  },
  {
   "cell_type": "code",
   "execution_count": 83,
   "metadata": {
    "slideshow": {
     "slide_type": "fragment"
    }
   },
   "outputs": [
    {
     "data": {
      "text/plain": [
       "[<matplotlib.lines.Line2D at 0x7fb1f3896910>]"
      ]
     },
     "execution_count": 83,
     "metadata": {},
     "output_type": "execute_result"
    },
    {
     "data": {
      "image/png": "[encoded data removed]",
      "text/plain": [
       "<Figure size 432x144 with 1 Axes>"
      ]
     },
     "metadata": {
      "needs_background": "light"
     },
     "output_type": "display_data"
    }
   ],
   "source": [
    "a_1d = np.array([2, 3, 5])\n",
    "b_1d = np.array([4, 6, 7])\n",
    "plt.figure(figsize=(6,2))\n",
    "plt.plot(a_1d, b_1d)"
   ]
  },
  {
   "cell_type": "code",
   "execution_count": 84,
   "metadata": {
    "slideshow": {
     "slide_type": "fragment"
    }
   },
   "outputs": [
    {
     "data": {
      "text/plain": [
       "(0, 6)"
      ]
     },
     "execution_count": 84,
     "metadata": {},
     "output_type": "execute_result"
    },
    {
     "data": {
      "image/png": "[encoded data removed]",
      "text/plain": [
       "<Figure size 432x144 with 1 Axes>"
      ]
     },
     "metadata": {
      "needs_background": "light"
     },
     "output_type": "display_data"
    }
   ],
   "source": [
    "plt.figure(figsize=(6,2))\n",
    "plt.scatter(a_1d, b_1d)\n",
    "plt.xlim((0, 6))"
   ]
  },
  {
   "cell_type": "markdown",
   "metadata": {
    "slideshow": {
     "slide_type": "subslide"
    }
   },
   "source": [
    "Plot curves"
   ]
  },
  {
   "cell_type": "code",
   "execution_count": 85,
   "metadata": {
    "slideshow": {
     "slide_type": "fragment"
    }
   },
   "outputs": [
    {
     "data": {
      "text/plain": [
       "[<matplotlib.lines.Line2D at 0x7fb1f3653b50>]"
      ]
     },
     "execution_count": 85,
     "metadata": {},
     "output_type": "execute_result"
    },
    {
     "data": {
      "image/png": "[encoded data removed]",
      "text/plain": [
       "<Figure size 432x144 with 1 Axes>"
      ]
     },
     "metadata": {
      "needs_background": "light"
     },
     "output_type": "display_data"
    }
   ],
   "source": [
    "x = np.linspace(0, 2*np.pi, 100)\n",
    "y_sin = np.sin(x)\n",
    "plt.figure(figsize=(6,2))\n",
    "plt.plot(x, y_sin)"
   ]
  },
  {
   "cell_type": "markdown",
   "metadata": {
    "slideshow": {
     "slide_type": "subslide"
    }
   },
   "source": [
    "... on the same figure"
   ]
  },
  {
   "cell_type": "code",
   "execution_count": 86,
   "metadata": {
    "slideshow": {
     "slide_type": "fragment"
    }
   },
   "outputs": [
    {
     "data": {
      "text/plain": [
       "<matplotlib.legend.Legend at 0x7fb1f35a0c50>"
      ]
     },
     "execution_count": 86,
     "metadata": {},
     "output_type": "execute_result"
    },
    {
     "data": {
      "image/png": "[encoded data removed]",
      "text/plain": [
       "<Figure size 432x144 with 1 Axes>"
      ]
     },
     "metadata": {
      "needs_background": "light"
     },
     "output_type": "display_data"
    }
   ],
   "source": [
    "y_cos = np.cos(x)\n",
    "# Plot the points using matplotlib\n",
    "plt.figure(figsize=(6,2))\n",
    "plt.plot(x, y_sin)\n",
    "plt.plot(x, y_cos)\n",
    "plt.xlabel('My x axis label')\n",
    "plt.ylabel('My y axis label')\n",
    "plt.title('sin and cos from 0 to $2\\pi$')\n",
    "plt.legend(['Sine', 'Cosine'])"
   ]
  },
  {
   "cell_type": "markdown",
   "metadata": {
    "slideshow": {
     "slide_type": "subslide"
    }
   },
   "source": [
    "Subplots"
   ]
  },
  {
   "cell_type": "code",
   "execution_count": 109,
   "metadata": {
    "slideshow": {
     "slide_type": "fragment"
    }
   },
   "outputs": [
    {
     "data": {
      "image/png": "[encoded data removed]",
      "text/plain": [
       "<Figure size 576x288 with 2 Axes>"
      ]
     },
     "metadata": {
      "needs_background": "light"
     },
     "output_type": "display_data"
    }
   ],
   "source": [
    "# Let's plot a total of 2 figures: 1 column and 2 rows\n",
    "plt.figure(figsize=(8, 4))\n",
    "n_plots = 2\n",
    "n_cols = 1\n",
    "# Plot first figure\n",
    "plt.subplot(n_plots, n_cols, 1)\n",
    "plt.plot(x, y_cos)\n",
    "plt.ylabel('Cos values')\n",
    "plt.title('sin and cos from 0 to $2\\pi$')\n",
    "plt.subplot(n_plots, n_cols, 2)\n",
    "plt.plot(x, y_sin)\n",
    "plt.xlabel('0 to 2 $\\pi$ values')\n",
    "plt.ylabel('Sin values')\n",
    "plt.tight_layout() # Magic command to clean the overall plot"
   ]
  },
  {
   "cell_type": "markdown",
   "metadata": {
    "slideshow": {
     "slide_type": "subslide"
    }
   },
   "source": [
    "2D plots"
   ]
  },
  {
   "cell_type": "code",
   "execution_count": 79,
   "metadata": {
    "slideshow": {
     "slide_type": "fragment"
    }
   },
   "outputs": [
    {
     "data": {
      "text/plain": [
       "Text(0.5, 1.0, 'visualizing a_2d')"
      ]
     },
     "execution_count": 79,
     "metadata": {},
     "output_type": "execute_result"
    },
    {
     "data": {
      "image/png": "[encoded data removed]",
      "text/plain": [
       "<Figure size 432x288 with 2 Axes>"
      ]
     },
     "metadata": {
      "needs_background": "light"
     },
     "output_type": "display_data"
    }
   ],
   "source": [
    "plt.imshow(a_2d)\n",
    "# Making sure x and y ticks are integers\n",
    "plt.xticks(np.arange(0, a_2d.shape[1]))\n",
    "plt.yticks(np.arange(0, a_2d.shape[0]))\n",
    "# Adding a colorbar\n",
    "plt.colorbar()\n",
    "plt.title('visualizing a_2d')"
   ]
  },
  {
   "cell_type": "markdown",
   "metadata": {
    "slideshow": {
     "slide_type": "slide"
    }
   },
   "source": [
    "### Examples of reading several files to examine data across dataset\n",
    "Daily inflammation measure in patients who have been given a new treatment for arthritis"
   ]
  },
  {
   "cell_type": "code",
   "execution_count": 9,
   "metadata": {
    "slideshow": {
     "slide_type": "fragment"
    }
   },
   "outputs": [],
   "source": [
    "import os\n",
    "import glob"
   ]
  },
  {
   "cell_type": "code",
   "execution_count": 11,
   "metadata": {
    "slideshow": {
     "slide_type": "fragment"
    }
   },
   "outputs": [
    {
     "data": {
      "text/plain": [
       "'/home/michael/python_lecture/inflammation_data'"
      ]
     },
     "execution_count": 11,
     "metadata": {},
     "output_type": "execute_result"
    }
   ],
   "source": [
    "# Get list of data files\n",
    "home_data_path = os.path.expanduser('~') \n",
    "data_path = os.path.join(home_data_path, 'python_lecture', 'inflammation_data')\n",
    "data_path"
   ]
  },
  {
   "cell_type": "code",
   "execution_count": 27,
   "metadata": {
    "slideshow": {
     "slide_type": "subslide"
    }
   },
   "outputs": [
    {
     "data": {
      "text/plain": [
       "['/home/michael/python_lecture/inflammation_data/inflammation-01.csv',\n",
       " '/home/michael/python_lecture/inflammation_data/inflammation-02.csv',\n",
       " '/home/michael/python_lecture/inflammation_data/inflammation-03.csv',\n",
       " '/home/michael/python_lecture/inflammation_data/inflammation-04.csv',\n",
       " '/home/michael/python_lecture/inflammation_data/inflammation-05.csv',\n",
       " '/home/michael/python_lecture/inflammation_data/inflammation-06.csv',\n",
       " '/home/michael/python_lecture/inflammation_data/inflammation-07.csv',\n",
       " '/home/michael/python_lecture/inflammation_data/inflammation-08.csv',\n",
       " '/home/michael/python_lecture/inflammation_data/inflammation-09.csv',\n",
       " '/home/michael/python_lecture/inflammation_data/inflammation-10.csv',\n",
       " '/home/michael/python_lecture/inflammation_data/inflammation-11.csv',\n",
       " '/home/michael/python_lecture/inflammation_data/inflammation-12.csv',\n",
       " '/home/michael/python_lecture/inflammation_data/small-01.csv',\n",
       " '/home/michael/python_lecture/inflammation_data/small-02.csv',\n",
       " '/home/michael/python_lecture/inflammation_data/small-03.csv']"
      ]
     },
     "execution_count": 27,
     "metadata": {},
     "output_type": "execute_result"
    }
   ],
   "source": [
    "patient_files_all = sorted(glob.glob(os.path.join(data_path, '*')))\n",
    "patient_files_all"
   ]
  },
  {
   "cell_type": "code",
   "execution_count": 28,
   "metadata": {
    "slideshow": {
     "slide_type": "fragment"
    }
   },
   "outputs": [
    {
     "data": {
      "text/plain": [
       "['/home/michael/python_lecture/inflammation_data/inflammation-01.csv',\n",
       " '/home/michael/python_lecture/inflammation_data/inflammation-02.csv',\n",
       " '/home/michael/python_lecture/inflammation_data/inflammation-03.csv',\n",
       " '/home/michael/python_lecture/inflammation_data/inflammation-04.csv',\n",
       " '/home/michael/python_lecture/inflammation_data/inflammation-05.csv',\n",
       " '/home/michael/python_lecture/inflammation_data/inflammation-06.csv',\n",
       " '/home/michael/python_lecture/inflammation_data/inflammation-07.csv',\n",
       " '/home/michael/python_lecture/inflammation_data/inflammation-08.csv',\n",
       " '/home/michael/python_lecture/inflammation_data/inflammation-09.csv',\n",
       " '/home/michael/python_lecture/inflammation_data/inflammation-10.csv',\n",
       " '/home/michael/python_lecture/inflammation_data/inflammation-11.csv',\n",
       " '/home/michael/python_lecture/inflammation_data/inflammation-12.csv']"
      ]
     },
     "execution_count": 28,
     "metadata": {},
     "output_type": "execute_result"
    }
   ],
   "source": [
    "patient_files = [f for f in patient_files_all if not 'small' in f]\n",
    "patient_files"
   ]
  },
  {
   "cell_type": "code",
   "execution_count": 9,
   "metadata": {},
   "outputs": [
    {
     "data": {
      "text/plain": [
       "(60, 40)"
      ]
     },
     "execution_count": 9,
     "metadata": {},
     "output_type": "execute_result"
    }
   ],
   "source": [
    "data_sample = np.loadtxt(fname=patient_files[0], delimiter=',')\n",
    "data_sample.shape"
   ]
  },
  {
   "cell_type": "code",
   "execution_count": 10,
   "metadata": {},
   "outputs": [
    {
     "data": {
      "text/plain": [
       "array([[0., 0., 1., ..., 3., 0., 0.],\n",
       "       [0., 1., 2., ..., 1., 0., 1.],\n",
       "       [0., 1., 1., ..., 2., 1., 1.],\n",
       "       ...,\n",
       "       [0., 1., 1., ..., 1., 1., 1.],\n",
       "       [0., 0., 0., ..., 0., 2., 0.],\n",
       "       [0., 0., 1., ..., 1., 1., 0.]])"
      ]
     },
     "execution_count": 10,
     "metadata": {},
     "output_type": "execute_result"
    }
   ],
   "source": [
    "# Each row is a patient, and each column is the number of inflammation episodes per day\n",
    "data_sample"
   ]
  },
  {
   "cell_type": "code",
   "execution_count": 20,
   "metadata": {},
   "outputs": [
    {
     "data": {
      "image/png": "[encoded data removed]",
      "text/plain": [
       "<Figure size 432x288 with 1 Axes>"
      ]
     },
     "metadata": {
      "needs_background": "light"
     },
     "output_type": "display_data"
    }
   ],
   "source": [
    "n_subjects = 3\n",
    "for i_subject in range(n_subjects):\n",
    "    plt.plot(data_sample[i_subject, :])"
   ]
  },
  {
   "cell_type": "code",
   "execution_count": 21,
   "metadata": {},
   "outputs": [
    {
     "data": {
      "text/plain": [
       "<matplotlib.image.AxesImage at 0x7fb9254b67b8>"
      ]
     },
     "execution_count": 21,
     "metadata": {},
     "output_type": "execute_result"
    },
    {
     "data": {
      "image/png": "[encoded data removed]",
      "text/plain": [
       "<Figure size 432x288 with 1 Axes>"
      ]
     },
     "metadata": {
      "needs_background": "light"
     },
     "output_type": "display_data"
    }
   ],
   "source": [
    "plt.imshow(data_sample)"
   ]
  },
  {
   "cell_type": "code",
   "execution_count": 25,
   "metadata": {},
   "outputs": [
    {
     "data": {
      "text/plain": [
       "[<matplotlib.lines.Line2D at 0x7fb924bb8e48>]"
      ]
     },
     "execution_count": 25,
     "metadata": {},
     "output_type": "execute_result"
    },
    {
     "data": {
      "image/png": "[encoded data removed]",
      "text/plain": [
       "<Figure size 432x288 with 1 Axes>"
      ]
     },
     "metadata": {
      "needs_background": "light"
     },
     "output_type": "display_data"
    }
   ],
   "source": [
    "plt.plot(np.min(data_sample, axis=0), label = 'min')\n",
    "plt.plot(np.median(data_sample, axis=0), label = 'median')\n",
    "plt.plot(np.max(data_sample, axis=0), label = 'max')"
   ]
  },
  {
   "cell_type": "code",
   "execution_count": 33,
   "metadata": {},
   "outputs": [
    {
     "data": {
      "text/plain": [
       "{'whiskers': [<matplotlib.lines.Line2D at 0x7fb924522f28>,\n",
       "  <matplotlib.lines.Line2D at 0x7fb9244cb5c0>,\n",
       "  <matplotlib.lines.Line2D at 0x7fb9244d59b0>,\n",
       "  <matplotlib.lines.Line2D at 0x7fb9244d5cf8>,\n",
       "  <matplotlib.lines.Line2D at 0x7fb9244e2e80>,\n",
       "  <matplotlib.lines.Line2D at 0x7fb9244ee470>,\n",
       "  <matplotlib.lines.Line2D at 0x7fb9244fb860>,\n",
       "  <matplotlib.lines.Line2D at 0x7fb9244fbba8>,\n",
       "  <matplotlib.lines.Line2D at 0x7fb924487f98>,\n",
       "  <matplotlib.lines.Line2D at 0x7fb924487f28>,\n",
       "  <matplotlib.lines.Line2D at 0x7fb9244a0710>,\n",
       "  <matplotlib.lines.Line2D at 0x7fb9244a0a58>,\n",
       "  <matplotlib.lines.Line2D at 0x7fb9244ace48>,\n",
       "  <matplotlib.lines.Line2D at 0x7fb9244acf28>,\n",
       "  <matplotlib.lines.Line2D at 0x7fb9244435c0>,\n",
       "  <matplotlib.lines.Line2D at 0x7fb924443908>,\n",
       "  <matplotlib.lines.Line2D at 0x7fb924451cf8>,\n",
       "  <matplotlib.lines.Line2D at 0x7fb924451dd8>,\n",
       "  <matplotlib.lines.Line2D at 0x7fb924469470>,\n",
       "  <matplotlib.lines.Line2D at 0x7fb9244697b8>,\n",
       "  <matplotlib.lines.Line2D at 0x7fb924474ba8>,\n",
       "  <matplotlib.lines.Line2D at 0x7fb924474ef0>,\n",
       "  <matplotlib.lines.Line2D at 0x7fb924402f60>,\n",
       "  <matplotlib.lines.Line2D at 0x7fb92440f668>,\n",
       "  <matplotlib.lines.Line2D at 0x7fb92441ba58>,\n",
       "  <matplotlib.lines.Line2D at 0x7fb92441bda0>,\n",
       "  <matplotlib.lines.Line2D at 0x7fb924424f28>,\n",
       "  <matplotlib.lines.Line2D at 0x7fb924435518>,\n",
       "  <matplotlib.lines.Line2D at 0x7fb9243c0908>,\n",
       "  <matplotlib.lines.Line2D at 0x7fb9243c0c50>,\n",
       "  <matplotlib.lines.Line2D at 0x7fb9243cdeb8>,\n",
       "  <matplotlib.lines.Line2D at 0x7fb9243cdfd0>,\n",
       "  <matplotlib.lines.Line2D at 0x7fb9243d8e80>,\n",
       "  <matplotlib.lines.Line2D at 0x7fb9243e67b8>,\n",
       "  <matplotlib.lines.Line2D at 0x7fb9243f1a58>,\n",
       "  <matplotlib.lines.Line2D at 0x7fb9243f1d68>,\n",
       "  <matplotlib.lines.Line2D at 0x7fb92437fe10>,\n",
       "  <matplotlib.lines.Line2D at 0x7fb92438f358>,\n",
       "  <matplotlib.lines.Line2D at 0x7fb92438ffd0>,\n",
       "  <matplotlib.lines.Line2D at 0x7fb92439a908>,\n",
       "  <matplotlib.lines.Line2D at 0x7fb9243a7ba8>,\n",
       "  <matplotlib.lines.Line2D at 0x7fb9243a7eb8>,\n",
       "  <matplotlib.lines.Line2D at 0x7fb9243b4f60>,\n",
       "  <matplotlib.lines.Line2D at 0x7fb9243424a8>,\n",
       "  <matplotlib.lines.Line2D at 0x7fb92434e748>,\n",
       "  <matplotlib.lines.Line2D at 0x7fb92434ea58>,\n",
       "  <matplotlib.lines.Line2D at 0x7fb92435acf8>,\n",
       "  <matplotlib.lines.Line2D at 0x7fb92435ae10>,\n",
       "  <matplotlib.lines.Line2D at 0x7fb92436acc0>,\n",
       "  <matplotlib.lines.Line2D at 0x7fb9243755f8>,\n",
       "  <matplotlib.lines.Line2D at 0x7fb924303898>,\n",
       "  <matplotlib.lines.Line2D at 0x7fb924303ba8>,\n",
       "  <matplotlib.lines.Line2D at 0x7fb92430fe48>,\n",
       "  <matplotlib.lines.Line2D at 0x7fb92430ff60>,\n",
       "  <matplotlib.lines.Line2D at 0x7fb92431fe10>,\n",
       "  <matplotlib.lines.Line2D at 0x7fb92432b748>,\n",
       "  <matplotlib.lines.Line2D at 0x7fb9243369e8>,\n",
       "  <matplotlib.lines.Line2D at 0x7fb924336cf8>,\n",
       "  <matplotlib.lines.Line2D at 0x7fb9242c5f98>,\n",
       "  <matplotlib.lines.Line2D at 0x7fb9242c5fd0>,\n",
       "  <matplotlib.lines.Line2D at 0x7fb9242d2f60>,\n",
       "  <matplotlib.lines.Line2D at 0x7fb9242df898>,\n",
       "  <matplotlib.lines.Line2D at 0x7fb9242ebb38>,\n",
       "  <matplotlib.lines.Line2D at 0x7fb9242ebe48>,\n",
       "  <matplotlib.lines.Line2D at 0x7fb9242f9ef0>,\n",
       "  <matplotlib.lines.Line2D at 0x7fb924285438>,\n",
       "  <matplotlib.lines.Line2D at 0x7fb9242936d8>,\n",
       "  <matplotlib.lines.Line2D at 0x7fb9242939e8>,\n",
       "  <matplotlib.lines.Line2D at 0x7fb9242a1c88>,\n",
       "  <matplotlib.lines.Line2D at 0x7fb9242a1f98>,\n",
       "  <matplotlib.lines.Line2D at 0x7fb9242adc50>,\n",
       "  <matplotlib.lines.Line2D at 0x7fb9242bb588>,\n",
       "  <matplotlib.lines.Line2D at 0x7fb924248828>,\n",
       "  <matplotlib.lines.Line2D at 0x7fb924248b38>,\n",
       "  <matplotlib.lines.Line2D at 0x7fb924254dd8>,\n",
       "  <matplotlib.lines.Line2D at 0x7fb924254ef0>,\n",
       "  <matplotlib.lines.Line2D at 0x7fb924261da0>,\n",
       "  <matplotlib.lines.Line2D at 0x7fb92426f6d8>,\n",
       "  <matplotlib.lines.Line2D at 0x7fb92427d978>,\n",
       "  <matplotlib.lines.Line2D at 0x7fb92427dc88>],\n",
       " 'caps': [<matplotlib.lines.Line2D at 0x7fb9244cb908>,\n",
       "  <matplotlib.lines.Line2D at 0x7fb9244cbc50>,\n",
       "  <matplotlib.lines.Line2D at 0x7fb9244d5dd8>,\n",
       "  <matplotlib.lines.Line2D at 0x7fb9244e23c8>,\n",
       "  <matplotlib.lines.Line2D at 0x7fb9244ee7b8>,\n",
       "  <matplotlib.lines.Line2D at 0x7fb9244eeb00>,\n",
       "  <matplotlib.lines.Line2D at 0x7fb9244fbef0>,\n",
       "  <matplotlib.lines.Line2D at 0x7fb9244fbfd0>,\n",
       "  <matplotlib.lines.Line2D at 0x7fb924494668>,\n",
       "  <matplotlib.lines.Line2D at 0x7fb9244949b0>,\n",
       "  <matplotlib.lines.Line2D at 0x7fb9244a0da0>,\n",
       "  <matplotlib.lines.Line2D at 0x7fb9244a0e80>,\n",
       "  <matplotlib.lines.Line2D at 0x7fb9244b8518>,\n",
       "  <matplotlib.lines.Line2D at 0x7fb9244b8860>,\n",
       "  <matplotlib.lines.Line2D at 0x7fb924443c50>,\n",
       "  <matplotlib.lines.Line2D at 0x7fb924443f98>,\n",
       "  <matplotlib.lines.Line2D at 0x7fb92445e3c8>,\n",
       "  <matplotlib.lines.Line2D at 0x7fb92445e710>,\n",
       "  <matplotlib.lines.Line2D at 0x7fb924469b00>,\n",
       "  <matplotlib.lines.Line2D at 0x7fb924469e48>,\n",
       "  <matplotlib.lines.Line2D at 0x7fb924474fd0>,\n",
       "  <matplotlib.lines.Line2D at 0x7fb9244025c0>,\n",
       "  <matplotlib.lines.Line2D at 0x7fb92440f9b0>,\n",
       "  <matplotlib.lines.Line2D at 0x7fb92440fcf8>,\n",
       "  <matplotlib.lines.Line2D at 0x7fb92441be80>,\n",
       "  <matplotlib.lines.Line2D at 0x7fb924424470>,\n",
       "  <matplotlib.lines.Line2D at 0x7fb924435860>,\n",
       "  <matplotlib.lines.Line2D at 0x7fb924435ba8>,\n",
       "  <matplotlib.lines.Line2D at 0x7fb9243c0f28>,\n",
       "  <matplotlib.lines.Line2D at 0x7fb9243c0f60>,\n",
       "  <matplotlib.lines.Line2D at 0x7fb9243d8518>,\n",
       "  <matplotlib.lines.Line2D at 0x7fb9243d8828>,\n",
       "  <matplotlib.lines.Line2D at 0x7fb9243e6ac8>,\n",
       "  <matplotlib.lines.Line2D at 0x7fb9243e6dd8>,\n",
       "  <matplotlib.lines.Line2D at 0x7fb9243f1e80>,\n",
       "  <matplotlib.lines.Line2D at 0x7fb92437f3c8>,\n",
       "  <matplotlib.lines.Line2D at 0x7fb92438f668>,\n",
       "  <matplotlib.lines.Line2D at 0x7fb92438f978>,\n",
       "  <matplotlib.lines.Line2D at 0x7fb92439ac18>,\n",
       "  <matplotlib.lines.Line2D at 0x7fb92439af28>,\n",
       "  <matplotlib.lines.Line2D at 0x7fb9243a7fd0>,\n",
       "  <matplotlib.lines.Line2D at 0x7fb9243b4518>,\n",
       "  <matplotlib.lines.Line2D at 0x7fb9243427b8>,\n",
       "  <matplotlib.lines.Line2D at 0x7fb924342ac8>,\n",
       "  <matplotlib.lines.Line2D at 0x7fb92434ed68>,\n",
       "  <matplotlib.lines.Line2D at 0x7fb92434ee80>,\n",
       "  <matplotlib.lines.Line2D at 0x7fb92436a358>,\n",
       "  <matplotlib.lines.Line2D at 0x7fb92436a668>,\n",
       "  <matplotlib.lines.Line2D at 0x7fb924375908>,\n",
       "  <matplotlib.lines.Line2D at 0x7fb924375c18>,\n",
       "  <matplotlib.lines.Line2D at 0x7fb924303eb8>,\n",
       "  <matplotlib.lines.Line2D at 0x7fb924303fd0>,\n",
       "  <matplotlib.lines.Line2D at 0x7fb92431f4a8>,\n",
       "  <matplotlib.lines.Line2D at 0x7fb92431f7b8>,\n",
       "  <matplotlib.lines.Line2D at 0x7fb92432ba58>,\n",
       "  <matplotlib.lines.Line2D at 0x7fb92432bd68>,\n",
       "  <matplotlib.lines.Line2D at 0x7fb924336e10>,\n",
       "  <matplotlib.lines.Line2D at 0x7fb9242c5358>,\n",
       "  <matplotlib.lines.Line2D at 0x7fb9242d25f8>,\n",
       "  <matplotlib.lines.Line2D at 0x7fb9242d2908>,\n",
       "  <matplotlib.lines.Line2D at 0x7fb9242dfba8>,\n",
       "  <matplotlib.lines.Line2D at 0x7fb9242dfeb8>,\n",
       "  <matplotlib.lines.Line2D at 0x7fb9242ebf60>,\n",
       "  <matplotlib.lines.Line2D at 0x7fb9242f94a8>,\n",
       "  <matplotlib.lines.Line2D at 0x7fb924285748>,\n",
       "  <matplotlib.lines.Line2D at 0x7fb924285a58>,\n",
       "  <matplotlib.lines.Line2D at 0x7fb924293cf8>,\n",
       "  <matplotlib.lines.Line2D at 0x7fb924293e10>,\n",
       "  <matplotlib.lines.Line2D at 0x7fb9242a1fd0>,\n",
       "  <matplotlib.lines.Line2D at 0x7fb9242ad5f8>,\n",
       "  <matplotlib.lines.Line2D at 0x7fb9242bb898>,\n",
       "  <matplotlib.lines.Line2D at 0x7fb9242bbba8>,\n",
       "  <matplotlib.lines.Line2D at 0x7fb924248e48>,\n",
       "  <matplotlib.lines.Line2D at 0x7fb924248f60>,\n",
       "  <matplotlib.lines.Line2D at 0x7fb924261438>,\n",
       "  <matplotlib.lines.Line2D at 0x7fb924261748>,\n",
       "  <matplotlib.lines.Line2D at 0x7fb92426f9e8>,\n",
       "  <matplotlib.lines.Line2D at 0x7fb92426fcf8>,\n",
       "  <matplotlib.lines.Line2D at 0x7fb92427df98>,\n",
       "  <matplotlib.lines.Line2D at 0x7fb92427dfd0>],\n",
       " 'boxes': [<matplotlib.lines.Line2D at 0x7fb924522dd8>,\n",
       "  <matplotlib.lines.Line2D at 0x7fb9244d5668>,\n",
       "  <matplotlib.lines.Line2D at 0x7fb9244e2da0>,\n",
       "  <matplotlib.lines.Line2D at 0x7fb9244fb518>,\n",
       "  <matplotlib.lines.Line2D at 0x7fb924487c50>,\n",
       "  <matplotlib.lines.Line2D at 0x7fb9244a03c8>,\n",
       "  <matplotlib.lines.Line2D at 0x7fb9244acb00>,\n",
       "  <matplotlib.lines.Line2D at 0x7fb9244b8f98>,\n",
       "  <matplotlib.lines.Line2D at 0x7fb9244519b0>,\n",
       "  <matplotlib.lines.Line2D at 0x7fb92445ee48>,\n",
       "  <matplotlib.lines.Line2D at 0x7fb924474860>,\n",
       "  <matplotlib.lines.Line2D at 0x7fb924402f98>,\n",
       "  <matplotlib.lines.Line2D at 0x7fb92441b710>,\n",
       "  <matplotlib.lines.Line2D at 0x7fb924424e48>,\n",
       "  <matplotlib.lines.Line2D at 0x7fb9243c05c0>,\n",
       "  <matplotlib.lines.Line2D at 0x7fb9243cdbe0>,\n",
       "  <matplotlib.lines.Line2D at 0x7fb9243d8f28>,\n",
       "  <matplotlib.lines.Line2D at 0x7fb9243f1780>,\n",
       "  <matplotlib.lines.Line2D at 0x7fb92437fd30>,\n",
       "  <matplotlib.lines.Line2D at 0x7fb92438fcc0>,\n",
       "  <matplotlib.lines.Line2D at 0x7fb9243a78d0>,\n",
       "  <matplotlib.lines.Line2D at 0x7fb9243b4e80>,\n",
       "  <matplotlib.lines.Line2D at 0x7fb92434e470>,\n",
       "  <matplotlib.lines.Line2D at 0x7fb92435aa20>,\n",
       "  <matplotlib.lines.Line2D at 0x7fb92436afd0>,\n",
       "  <matplotlib.lines.Line2D at 0x7fb9243035c0>,\n",
       "  <matplotlib.lines.Line2D at 0x7fb92430fb70>,\n",
       "  <matplotlib.lines.Line2D at 0x7fb92431feb8>,\n",
       "  <matplotlib.lines.Line2D at 0x7fb924336710>,\n",
       "  <matplotlib.lines.Line2D at 0x7fb9242c5cc0>,\n",
       "  <matplotlib.lines.Line2D at 0x7fb9242d2c50>,\n",
       "  <matplotlib.lines.Line2D at 0x7fb9242eb860>,\n",
       "  <matplotlib.lines.Line2D at 0x7fb9242f9e10>,\n",
       "  <matplotlib.lines.Line2D at 0x7fb924293400>,\n",
       "  <matplotlib.lines.Line2D at 0x7fb9242a19b0>,\n",
       "  <matplotlib.lines.Line2D at 0x7fb9242adf60>,\n",
       "  <matplotlib.lines.Line2D at 0x7fb924248550>,\n",
       "  <matplotlib.lines.Line2D at 0x7fb924254b00>,\n",
       "  <matplotlib.lines.Line2D at 0x7fb924261e48>,\n",
       "  <matplotlib.lines.Line2D at 0x7fb92427d6a0>],\n",
       " 'medians': [<matplotlib.lines.Line2D at 0x7fb9244cbf98>,\n",
       "  <matplotlib.lines.Line2D at 0x7fb9244e2710>,\n",
       "  <matplotlib.lines.Line2D at 0x7fb9244eee48>,\n",
       "  <matplotlib.lines.Line2D at 0x7fb9244875c0>,\n",
       "  <matplotlib.lines.Line2D at 0x7fb924494cf8>,\n",
       "  <matplotlib.lines.Line2D at 0x7fb9244ac470>,\n",
       "  <matplotlib.lines.Line2D at 0x7fb9244b8ba8>,\n",
       "  <matplotlib.lines.Line2D at 0x7fb924443f28>,\n",
       "  <matplotlib.lines.Line2D at 0x7fb92445ea58>,\n",
       "  <matplotlib.lines.Line2D at 0x7fb924469f28>,\n",
       "  <matplotlib.lines.Line2D at 0x7fb924402908>,\n",
       "  <matplotlib.lines.Line2D at 0x7fb92440fdd8>,\n",
       "  <matplotlib.lines.Line2D at 0x7fb9244247b8>,\n",
       "  <matplotlib.lines.Line2D at 0x7fb924435ef0>,\n",
       "  <matplotlib.lines.Line2D at 0x7fb9243cd588>,\n",
       "  <matplotlib.lines.Line2D at 0x7fb9243d8b38>,\n",
       "  <matplotlib.lines.Line2D at 0x7fb9243e6ef0>,\n",
       "  <matplotlib.lines.Line2D at 0x7fb92437f6d8>,\n",
       "  <matplotlib.lines.Line2D at 0x7fb92438fc88>,\n",
       "  <matplotlib.lines.Line2D at 0x7fb92439af60>,\n",
       "  <matplotlib.lines.Line2D at 0x7fb9243b4828>,\n",
       "  <matplotlib.lines.Line2D at 0x7fb924342dd8>,\n",
       "  <matplotlib.lines.Line2D at 0x7fb92435a3c8>,\n",
       "  <matplotlib.lines.Line2D at 0x7fb92436a978>,\n",
       "  <matplotlib.lines.Line2D at 0x7fb924375f28>,\n",
       "  <matplotlib.lines.Line2D at 0x7fb92430f518>,\n",
       "  <matplotlib.lines.Line2D at 0x7fb92431fac8>,\n",
       "  <matplotlib.lines.Line2D at 0x7fb92432be80>,\n",
       "  <matplotlib.lines.Line2D at 0x7fb9242c5668>,\n",
       "  <matplotlib.lines.Line2D at 0x7fb9242d2c18>,\n",
       "  <matplotlib.lines.Line2D at 0x7fb9242dffd0>,\n",
       "  <matplotlib.lines.Line2D at 0x7fb9242f97b8>,\n",
       "  <matplotlib.lines.Line2D at 0x7fb924285d68>,\n",
       "  <matplotlib.lines.Line2D at 0x7fb9242a1358>,\n",
       "  <matplotlib.lines.Line2D at 0x7fb9242ad908>,\n",
       "  <matplotlib.lines.Line2D at 0x7fb9242bbeb8>,\n",
       "  <matplotlib.lines.Line2D at 0x7fb9242544a8>,\n",
       "  <matplotlib.lines.Line2D at 0x7fb924261a58>,\n",
       "  <matplotlib.lines.Line2D at 0x7fb92426fe10>,\n",
       "  <matplotlib.lines.Line2D at 0x7fb9242085f8>],\n",
       " 'fliers': [<matplotlib.lines.Line2D at 0x7fb9244cbf28>,\n",
       "  <matplotlib.lines.Line2D at 0x7fb9244e2a58>,\n",
       "  <matplotlib.lines.Line2D at 0x7fb9244eef28>,\n",
       "  <matplotlib.lines.Line2D at 0x7fb924487908>,\n",
       "  <matplotlib.lines.Line2D at 0x7fb924494dd8>,\n",
       "  <matplotlib.lines.Line2D at 0x7fb9244ac7b8>,\n",
       "  <matplotlib.lines.Line2D at 0x7fb9244b8ef0>,\n",
       "  <matplotlib.lines.Line2D at 0x7fb924451668>,\n",
       "  <matplotlib.lines.Line2D at 0x7fb92445eda0>,\n",
       "  <matplotlib.lines.Line2D at 0x7fb924474518>,\n",
       "  <matplotlib.lines.Line2D at 0x7fb924402c50>,\n",
       "  <matplotlib.lines.Line2D at 0x7fb92441b3c8>,\n",
       "  <matplotlib.lines.Line2D at 0x7fb924424b00>,\n",
       "  <matplotlib.lines.Line2D at 0x7fb924435fd0>,\n",
       "  <matplotlib.lines.Line2D at 0x7fb9243cd898>,\n",
       "  <matplotlib.lines.Line2D at 0x7fb9243d8e48>,\n",
       "  <matplotlib.lines.Line2D at 0x7fb9243f1438>,\n",
       "  <matplotlib.lines.Line2D at 0x7fb92437f9e8>,\n",
       "  <matplotlib.lines.Line2D at 0x7fb92438ff98>,\n",
       "  <matplotlib.lines.Line2D at 0x7fb9243a7588>,\n",
       "  <matplotlib.lines.Line2D at 0x7fb9243b4b38>,\n",
       "  <matplotlib.lines.Line2D at 0x7fb924342ef0>,\n",
       "  <matplotlib.lines.Line2D at 0x7fb92435a6d8>,\n",
       "  <matplotlib.lines.Line2D at 0x7fb92436ac88>,\n",
       "  <matplotlib.lines.Line2D at 0x7fb924375f60>,\n",
       "  <matplotlib.lines.Line2D at 0x7fb92430f828>,\n",
       "  <matplotlib.lines.Line2D at 0x7fb92431fdd8>,\n",
       "  <matplotlib.lines.Line2D at 0x7fb9243363c8>,\n",
       "  <matplotlib.lines.Line2D at 0x7fb9242c5978>,\n",
       "  <matplotlib.lines.Line2D at 0x7fb9242d2f28>,\n",
       "  <matplotlib.lines.Line2D at 0x7fb9242eb518>,\n",
       "  <matplotlib.lines.Line2D at 0x7fb9242f9ac8>,\n",
       "  <matplotlib.lines.Line2D at 0x7fb924285e80>,\n",
       "  <matplotlib.lines.Line2D at 0x7fb9242a1668>,\n",
       "  <matplotlib.lines.Line2D at 0x7fb9242adc18>,\n",
       "  <matplotlib.lines.Line2D at 0x7fb9242bbfd0>,\n",
       "  <matplotlib.lines.Line2D at 0x7fb9242547b8>,\n",
       "  <matplotlib.lines.Line2D at 0x7fb924261d68>,\n",
       "  <matplotlib.lines.Line2D at 0x7fb92427d358>,\n",
       "  <matplotlib.lines.Line2D at 0x7fb924208908>],\n",
       " 'means': []}"
      ]
     },
     "execution_count": 33,
     "metadata": {},
     "output_type": "execute_result"
    },
    {
     "data": {
      "image/png": "[encoded data removed]",
      "text/plain": [
       "<Figure size 864x288 with 1 Axes>"
      ]
     },
     "metadata": {
      "needs_background": "light"
     },
     "output_type": "display_data"
    }
   ],
   "source": [
    "plt.figure(figsize=(12,4))\n",
    "plt.boxplot(data_sample)"
   ]
  },
  {
   "cell_type": "markdown",
   "metadata": {},
   "source": [
    "Read all files in one big array, but check they all have the same size before."
   ]
  },
  {
   "cell_type": "code",
   "execution_count": 34,
   "metadata": {},
   "outputs": [],
   "source": [
    "ref_shape = data_sample.shape\n",
    "for p_file in patient_files:\n",
    "    if np.loadtxt(fname=p_file, delimiter=',').shape != ref_shape:\n",
    "        print(\"File {} has shape different from reference\".format(p_file))"
   ]
  },
  {
   "cell_type": "code",
   "execution_count": 36,
   "metadata": {},
   "outputs": [
    {
     "name": "stdout",
     "output_type": "stream",
     "text": [
      "(720, 40)\n"
     ]
    }
   ],
   "source": [
    "# Preallocate zero array for all data\n",
    "n_sample, n_days = ref_shape\n",
    "n_patients = n_sample * len(patient_files)\n",
    "all_data = np.zeros((n_patients, n_days))\n",
    "# Fill array file by file\n",
    "for i_file, p_file in enumerate(patient_files):\n",
    "    start_ix = i_file * n_sample\n",
    "    stop_ix = (i_file+1) * n_sample\n",
    "    all_data[start_ix:stop_ix, :] = np.loadtxt(fname=p_file, delimiter=',')\n",
    "print(all_data.shape)"
   ]
  },
  {
   "cell_type": "code",
   "execution_count": 63,
   "metadata": {},
   "outputs": [
    {
     "data": {
      "text/plain": [
       "<matplotlib.image.AxesImage at 0x7fb9220685f8>"
      ]
     },
     "execution_count": 63,
     "metadata": {},
     "output_type": "execute_result"
    },
    {
     "data": {
      "image/png": "[encoded data removed]",
      "text/plain": [
       "<Figure size 576x4176 with 1 Axes>"
      ]
     },
     "metadata": {
      "needs_background": "light"
     },
     "output_type": "display_data"
    }
   ],
   "source": [
    "plt.figure(figsize=(8, 58))\n",
    "plt.imshow(all_data)"
   ]
  },
  {
   "cell_type": "code",
   "execution_count": 69,
   "metadata": {},
   "outputs": [
    {
     "data": {
      "text/plain": [
       "array([  0,  60, 120, 180, 240, 300, 360, 420, 480, 540, 600, 660])"
      ]
     },
     "execution_count": 69,
     "metadata": {},
     "output_type": "execute_result"
    }
   ],
   "source": [
    "# Get indices of each sample starting point\n",
    "sample_ixs = np.arange(len(patient_files)) * n_sample\n",
    "sample_ixs"
   ]
  },
  {
   "cell_type": "code",
   "execution_count": 71,
   "metadata": {},
   "outputs": [
    {
     "data": {
      "image/png": "[encoded data removed]",
      "text/plain": [
       "<Figure size 864x288 with 1 Axes>"
      ]
     },
     "metadata": {
      "needs_background": "light"
     },
     "output_type": "display_data"
    }
   ],
   "source": [
    "sample_ixs = np.arange(len(patient_files)) * n_sample\n",
    "plt.figure(figsize=(12,4))\n",
    "plt.plot(np.mean(all_data, axis=1))\n",
    "for sample_ix in sample_ixs:\n",
    "    plt.axvline(sample_ix, color='r', alpha=0.2)"
   ]
  },
  {
   "cell_type": "code",
   "execution_count": 65,
   "metadata": {},
   "outputs": [
    {
     "data": {
      "text/plain": [
       "(array([179, 479, 659]),)"
      ]
     },
     "execution_count": 65,
     "metadata": {},
     "output_type": "execute_result"
    }
   ],
   "source": [
    "healthy_ixs = np.where(all_data.sum(axis=1)==0)\n",
    "healthy_ixs"
   ]
  },
  {
   "cell_type": "markdown",
   "metadata": {
    "slideshow": {
     "slide_type": "slide"
    }
   },
   "source": [
    "## Data analysis with pandas (and seaborn)"
   ]
  },
  {
   "cell_type": "markdown",
   "metadata": {},
   "source": [
    "The `pandas` package is useful to deal with dataframes. A dataFrame is like a spreadsheet: it has rows for each observation, and labeled columns of potentially different types (`str`, `int`, ...). It is particularly convenient for reading csv or spreadsheet-like data, and describing the associated data."
   ]
  },
  {
   "cell_type": "code",
   "execution_count": 5,
   "metadata": {},
   "outputs": [],
   "source": [
    "import pandas as pd"
   ]
  },
  {
   "cell_type": "markdown",
   "metadata": {},
   "source": [
    "Let's look at a NASA meteorite dataset:\n",
    "* name: the name of the meteorite (typically a location, often modified with a number, year, composition, etc)\n",
    "* id: a unique identifier for the meteorite\n",
    "* nametype: one of: \n",
    "    * valid: a typical meteorite \n",
    "    * relict: a meteorite that has been highly degraded by weather on Earth\n",
    "* recclass: the class of the meteorite; one of a large number of classes based on physical, chemical, and other characteristics (see the Wikipedia article on meteorite classification for a primer)\n",
    "* mass: the mass of the meteorite, in grams\n",
    "* fall: whether the meteorite was seen falling, or was discovered after its impact; one of: \n",
    "    * Fell: the meteorite's fall was observed \n",
    "    * Found: the meteorite's fall was not observed\n",
    "* year: the year the meteorite fell, or the year it was found (depending on the value of fell)\n",
    "* reclat: the latitude of the meteorite's landing\n",
    "* reclong: the longitude of the meteorite's landing\n",
    "* GeoLocation: a parentheses-enclose, comma-separated tuple that combines reclat and reclong"
   ]
  },
  {
   "cell_type": "code",
   "execution_count": 12,
   "metadata": {
    "scrolled": true
   },
   "outputs": [
    {
     "data": {
      "text/html": [
       "<div>\n",
       "<style scoped>\n",
       "    .dataframe tbody tr th:only-of-type {\n",
       "        vertical-align: middle;\n",
       "    }\n",
       "\n",
       "    .dataframe tbody tr th {\n",
       "        vertical-align: top;\n",
       "    }\n",
       "\n",
       "    .dataframe thead th {\n",
       "        text-align: right;\n",
       "    }\n",
       "</style>\n",
       "<table border=\"1\" class=\"dataframe\">\n",
       "  <thead>\n",
       "    <tr style=\"text-align: right;\">\n",
       "      <th></th>\n",
       "      <th>name</th>\n",
       "      <th>id</th>\n",
       "      <th>nametype</th>\n",
       "      <th>recclass</th>\n",
       "      <th>mass</th>\n",
       "      <th>fall</th>\n",
       "      <th>year</th>\n",
       "      <th>reclat</th>\n",
       "      <th>reclong</th>\n",
       "      <th>GeoLocation</th>\n",
       "    </tr>\n",
       "  </thead>\n",
       "  <tbody>\n",
       "    <tr>\n",
       "      <th>0</th>\n",
       "      <td>Aachen</td>\n",
       "      <td>1</td>\n",
       "      <td>Valid</td>\n",
       "      <td>L5</td>\n",
       "      <td>21.0</td>\n",
       "      <td>Fell</td>\n",
       "      <td>1880.0</td>\n",
       "      <td>50.77500</td>\n",
       "      <td>6.08333</td>\n",
       "      <td>(50.775000, 6.083330)</td>\n",
       "    </tr>\n",
       "    <tr>\n",
       "      <th>1</th>\n",
       "      <td>Aarhus</td>\n",
       "      <td>2</td>\n",
       "      <td>Valid</td>\n",
       "      <td>H6</td>\n",
       "      <td>720.0</td>\n",
       "      <td>Fell</td>\n",
       "      <td>1951.0</td>\n",
       "      <td>56.18333</td>\n",
       "      <td>10.23333</td>\n",
       "      <td>(56.183330, 10.233330)</td>\n",
       "    </tr>\n",
       "    <tr>\n",
       "      <th>2</th>\n",
       "      <td>Abee</td>\n",
       "      <td>6</td>\n",
       "      <td>Valid</td>\n",
       "      <td>EH4</td>\n",
       "      <td>107000.0</td>\n",
       "      <td>Fell</td>\n",
       "      <td>1952.0</td>\n",
       "      <td>54.21667</td>\n",
       "      <td>-113.00000</td>\n",
       "      <td>(54.216670, -113.000000)</td>\n",
       "    </tr>\n",
       "    <tr>\n",
       "      <th>3</th>\n",
       "      <td>Acapulco</td>\n",
       "      <td>10</td>\n",
       "      <td>Valid</td>\n",
       "      <td>Acapulcoite</td>\n",
       "      <td>1914.0</td>\n",
       "      <td>Fell</td>\n",
       "      <td>1976.0</td>\n",
       "      <td>16.88333</td>\n",
       "      <td>-99.90000</td>\n",
       "      <td>(16.883330, -99.900000)</td>\n",
       "    </tr>\n",
       "    <tr>\n",
       "      <th>4</th>\n",
       "      <td>Achiras</td>\n",
       "      <td>370</td>\n",
       "      <td>Valid</td>\n",
       "      <td>L6</td>\n",
       "      <td>780.0</td>\n",
       "      <td>Fell</td>\n",
       "      <td>1902.0</td>\n",
       "      <td>-33.16667</td>\n",
       "      <td>-64.95000</td>\n",
       "      <td>(-33.166670, -64.950000)</td>\n",
       "    </tr>\n",
       "    <tr>\n",
       "      <th>5</th>\n",
       "      <td>Adhi Kot</td>\n",
       "      <td>379</td>\n",
       "      <td>Valid</td>\n",
       "      <td>EH4</td>\n",
       "      <td>4239.0</td>\n",
       "      <td>Fell</td>\n",
       "      <td>1919.0</td>\n",
       "      <td>32.10000</td>\n",
       "      <td>71.80000</td>\n",
       "      <td>(32.100000, 71.800000)</td>\n",
       "    </tr>\n",
       "    <tr>\n",
       "      <th>6</th>\n",
       "      <td>Adzhi-Bogdo (stone)</td>\n",
       "      <td>390</td>\n",
       "      <td>Valid</td>\n",
       "      <td>LL3-6</td>\n",
       "      <td>910.0</td>\n",
       "      <td>Fell</td>\n",
       "      <td>1949.0</td>\n",
       "      <td>44.83333</td>\n",
       "      <td>95.16667</td>\n",
       "      <td>(44.833330, 95.166670)</td>\n",
       "    </tr>\n",
       "    <tr>\n",
       "      <th>7</th>\n",
       "      <td>Agen</td>\n",
       "      <td>392</td>\n",
       "      <td>Valid</td>\n",
       "      <td>H5</td>\n",
       "      <td>30000.0</td>\n",
       "      <td>Fell</td>\n",
       "      <td>1814.0</td>\n",
       "      <td>44.21667</td>\n",
       "      <td>0.61667</td>\n",
       "      <td>(44.216670, 0.616670)</td>\n",
       "    </tr>\n",
       "    <tr>\n",
       "      <th>8</th>\n",
       "      <td>Aguada</td>\n",
       "      <td>398</td>\n",
       "      <td>Valid</td>\n",
       "      <td>L6</td>\n",
       "      <td>1620.0</td>\n",
       "      <td>Fell</td>\n",
       "      <td>1930.0</td>\n",
       "      <td>-31.60000</td>\n",
       "      <td>-65.23333</td>\n",
       "      <td>(-31.600000, -65.233330)</td>\n",
       "    </tr>\n",
       "    <tr>\n",
       "      <th>9</th>\n",
       "      <td>Aguila Blanca</td>\n",
       "      <td>417</td>\n",
       "      <td>Valid</td>\n",
       "      <td>L</td>\n",
       "      <td>1440.0</td>\n",
       "      <td>Fell</td>\n",
       "      <td>1920.0</td>\n",
       "      <td>-30.86667</td>\n",
       "      <td>-64.55000</td>\n",
       "      <td>(-30.866670, -64.550000)</td>\n",
       "    </tr>\n",
       "    <tr>\n",
       "      <th>10</th>\n",
       "      <td>Aioun el Atrouss</td>\n",
       "      <td>423</td>\n",
       "      <td>Valid</td>\n",
       "      <td>Diogenite-pm</td>\n",
       "      <td>1000.0</td>\n",
       "      <td>Fell</td>\n",
       "      <td>1974.0</td>\n",
       "      <td>16.39806</td>\n",
       "      <td>-9.57028</td>\n",
       "      <td>(16.398060, -9.570280)</td>\n",
       "    </tr>\n",
       "    <tr>\n",
       "      <th>11</th>\n",
       "      <td>Aïr</td>\n",
       "      <td>424</td>\n",
       "      <td>Valid</td>\n",
       "      <td>L6</td>\n",
       "      <td>24000.0</td>\n",
       "      <td>Fell</td>\n",
       "      <td>1925.0</td>\n",
       "      <td>19.08333</td>\n",
       "      <td>8.38333</td>\n",
       "      <td>(19.083330, 8.383330)</td>\n",
       "    </tr>\n",
       "    <tr>\n",
       "      <th>12</th>\n",
       "      <td>Aire-sur-la-Lys</td>\n",
       "      <td>425</td>\n",
       "      <td>Valid</td>\n",
       "      <td>Unknown</td>\n",
       "      <td>NaN</td>\n",
       "      <td>Fell</td>\n",
       "      <td>1769.0</td>\n",
       "      <td>50.66667</td>\n",
       "      <td>2.33333</td>\n",
       "      <td>(50.666670, 2.333330)</td>\n",
       "    </tr>\n",
       "    <tr>\n",
       "      <th>13</th>\n",
       "      <td>Akaba</td>\n",
       "      <td>426</td>\n",
       "      <td>Valid</td>\n",
       "      <td>L6</td>\n",
       "      <td>779.0</td>\n",
       "      <td>Fell</td>\n",
       "      <td>1949.0</td>\n",
       "      <td>29.51667</td>\n",
       "      <td>35.05000</td>\n",
       "      <td>(29.516670, 35.050000)</td>\n",
       "    </tr>\n",
       "    <tr>\n",
       "      <th>14</th>\n",
       "      <td>Akbarpur</td>\n",
       "      <td>427</td>\n",
       "      <td>Valid</td>\n",
       "      <td>H4</td>\n",
       "      <td>1800.0</td>\n",
       "      <td>Fell</td>\n",
       "      <td>1838.0</td>\n",
       "      <td>29.71667</td>\n",
       "      <td>77.95000</td>\n",
       "      <td>(29.716670, 77.950000)</td>\n",
       "    </tr>\n",
       "    <tr>\n",
       "      <th>15</th>\n",
       "      <td>Akwanga</td>\n",
       "      <td>432</td>\n",
       "      <td>Valid</td>\n",
       "      <td>H</td>\n",
       "      <td>3000.0</td>\n",
       "      <td>Fell</td>\n",
       "      <td>1959.0</td>\n",
       "      <td>8.91667</td>\n",
       "      <td>8.43333</td>\n",
       "      <td>(8.916670, 8.433330)</td>\n",
       "    </tr>\n",
       "    <tr>\n",
       "      <th>16</th>\n",
       "      <td>Akyumak</td>\n",
       "      <td>433</td>\n",
       "      <td>Valid</td>\n",
       "      <td>Iron, IVA</td>\n",
       "      <td>50000.0</td>\n",
       "      <td>Fell</td>\n",
       "      <td>1981.0</td>\n",
       "      <td>39.91667</td>\n",
       "      <td>42.81667</td>\n",
       "      <td>(39.916670, 42.816670)</td>\n",
       "    </tr>\n",
       "    <tr>\n",
       "      <th>17</th>\n",
       "      <td>Al Rais</td>\n",
       "      <td>446</td>\n",
       "      <td>Valid</td>\n",
       "      <td>CR2-an</td>\n",
       "      <td>160.0</td>\n",
       "      <td>Fell</td>\n",
       "      <td>1957.0</td>\n",
       "      <td>24.41667</td>\n",
       "      <td>39.51667</td>\n",
       "      <td>(24.416670, 39.516670)</td>\n",
       "    </tr>\n",
       "    <tr>\n",
       "      <th>18</th>\n",
       "      <td>Al Zarnkh</td>\n",
       "      <td>447</td>\n",
       "      <td>Valid</td>\n",
       "      <td>LL5</td>\n",
       "      <td>700.0</td>\n",
       "      <td>Fell</td>\n",
       "      <td>2001.0</td>\n",
       "      <td>13.66033</td>\n",
       "      <td>28.96000</td>\n",
       "      <td>(13.660330, 28.960000)</td>\n",
       "    </tr>\n",
       "    <tr>\n",
       "      <th>19</th>\n",
       "      <td>Alais</td>\n",
       "      <td>448</td>\n",
       "      <td>Valid</td>\n",
       "      <td>CI1</td>\n",
       "      <td>6000.0</td>\n",
       "      <td>Fell</td>\n",
       "      <td>1806.0</td>\n",
       "      <td>44.11667</td>\n",
       "      <td>4.08333</td>\n",
       "      <td>(44.116670, 4.083330)</td>\n",
       "    </tr>\n",
       "    <tr>\n",
       "      <th>20</th>\n",
       "      <td>Albareto</td>\n",
       "      <td>453</td>\n",
       "      <td>Valid</td>\n",
       "      <td>L/LL4</td>\n",
       "      <td>2000.0</td>\n",
       "      <td>Fell</td>\n",
       "      <td>1766.0</td>\n",
       "      <td>44.65000</td>\n",
       "      <td>11.01667</td>\n",
       "      <td>(44.650000, 11.016670)</td>\n",
       "    </tr>\n",
       "    <tr>\n",
       "      <th>21</th>\n",
       "      <td>Alberta</td>\n",
       "      <td>454</td>\n",
       "      <td>Valid</td>\n",
       "      <td>L</td>\n",
       "      <td>625.0</td>\n",
       "      <td>Fell</td>\n",
       "      <td>1949.0</td>\n",
       "      <td>2.00000</td>\n",
       "      <td>22.66667</td>\n",
       "      <td>(2.000000, 22.666670)</td>\n",
       "    </tr>\n",
       "    <tr>\n",
       "      <th>22</th>\n",
       "      <td>Alby sur Chéran</td>\n",
       "      <td>458</td>\n",
       "      <td>Valid</td>\n",
       "      <td>Eucrite-mmict</td>\n",
       "      <td>252.0</td>\n",
       "      <td>Fell</td>\n",
       "      <td>2002.0</td>\n",
       "      <td>45.82133</td>\n",
       "      <td>6.01533</td>\n",
       "      <td>(45.821330, 6.015330)</td>\n",
       "    </tr>\n",
       "    <tr>\n",
       "      <th>23</th>\n",
       "      <td>Aldsworth</td>\n",
       "      <td>461</td>\n",
       "      <td>Valid</td>\n",
       "      <td>LL5</td>\n",
       "      <td>700.0</td>\n",
       "      <td>Fell</td>\n",
       "      <td>1835.0</td>\n",
       "      <td>51.78333</td>\n",
       "      <td>-1.78333</td>\n",
       "      <td>(51.783330, -1.783330)</td>\n",
       "    </tr>\n",
       "    <tr>\n",
       "      <th>24</th>\n",
       "      <td>Aleppo</td>\n",
       "      <td>462</td>\n",
       "      <td>Valid</td>\n",
       "      <td>L6</td>\n",
       "      <td>3200.0</td>\n",
       "      <td>Fell</td>\n",
       "      <td>1873.0</td>\n",
       "      <td>36.23333</td>\n",
       "      <td>37.13333</td>\n",
       "      <td>(36.233330, 37.133330)</td>\n",
       "    </tr>\n",
       "    <tr>\n",
       "      <th>25</th>\n",
       "      <td>Alessandria</td>\n",
       "      <td>463</td>\n",
       "      <td>Valid</td>\n",
       "      <td>H5</td>\n",
       "      <td>908.0</td>\n",
       "      <td>Fell</td>\n",
       "      <td>1860.0</td>\n",
       "      <td>44.88333</td>\n",
       "      <td>8.75000</td>\n",
       "      <td>(44.883330, 8.750000)</td>\n",
       "    </tr>\n",
       "    <tr>\n",
       "      <th>26</th>\n",
       "      <td>Alexandrovsky</td>\n",
       "      <td>465</td>\n",
       "      <td>Valid</td>\n",
       "      <td>H4</td>\n",
       "      <td>9251.0</td>\n",
       "      <td>Fell</td>\n",
       "      <td>1900.0</td>\n",
       "      <td>50.95000</td>\n",
       "      <td>31.81667</td>\n",
       "      <td>(50.950000, 31.816670)</td>\n",
       "    </tr>\n",
       "    <tr>\n",
       "      <th>27</th>\n",
       "      <td>Alfianello</td>\n",
       "      <td>466</td>\n",
       "      <td>Valid</td>\n",
       "      <td>L6</td>\n",
       "      <td>228000.0</td>\n",
       "      <td>Fell</td>\n",
       "      <td>1883.0</td>\n",
       "      <td>45.26667</td>\n",
       "      <td>10.15000</td>\n",
       "      <td>(45.266670, 10.150000)</td>\n",
       "    </tr>\n",
       "    <tr>\n",
       "      <th>28</th>\n",
       "      <td>Allegan</td>\n",
       "      <td>2276</td>\n",
       "      <td>Valid</td>\n",
       "      <td>H5</td>\n",
       "      <td>32000.0</td>\n",
       "      <td>Fell</td>\n",
       "      <td>1899.0</td>\n",
       "      <td>42.53333</td>\n",
       "      <td>-85.88333</td>\n",
       "      <td>(42.533330, -85.883330)</td>\n",
       "    </tr>\n",
       "    <tr>\n",
       "      <th>29</th>\n",
       "      <td>Allende</td>\n",
       "      <td>2278</td>\n",
       "      <td>Valid</td>\n",
       "      <td>CV3</td>\n",
       "      <td>2000000.0</td>\n",
       "      <td>Fell</td>\n",
       "      <td>1969.0</td>\n",
       "      <td>26.96667</td>\n",
       "      <td>-105.31667</td>\n",
       "      <td>(26.966670, -105.316670)</td>\n",
       "    </tr>\n",
       "    <tr>\n",
       "      <th>...</th>\n",
       "      <td>...</td>\n",
       "      <td>...</td>\n",
       "      <td>...</td>\n",
       "      <td>...</td>\n",
       "      <td>...</td>\n",
       "      <td>...</td>\n",
       "      <td>...</td>\n",
       "      <td>...</td>\n",
       "      <td>...</td>\n",
       "      <td>...</td>\n",
       "    </tr>\n",
       "    <tr>\n",
       "      <th>45686</th>\n",
       "      <td>Ysleta</td>\n",
       "      <td>30375</td>\n",
       "      <td>Valid</td>\n",
       "      <td>Iron, ungrouped</td>\n",
       "      <td>140700.0</td>\n",
       "      <td>Found</td>\n",
       "      <td>1914.0</td>\n",
       "      <td>31.65000</td>\n",
       "      <td>-106.18333</td>\n",
       "      <td>(31.650000, -106.183330)</td>\n",
       "    </tr>\n",
       "    <tr>\n",
       "      <th>45687</th>\n",
       "      <td>Yucca 015</td>\n",
       "      <td>57175</td>\n",
       "      <td>Valid</td>\n",
       "      <td>H-metal</td>\n",
       "      <td>3.0</td>\n",
       "      <td>Found</td>\n",
       "      <td>2011.0</td>\n",
       "      <td>34.81970</td>\n",
       "      <td>-114.27610</td>\n",
       "      <td>(34.819700, -114.276100)</td>\n",
       "    </tr>\n",
       "    <tr>\n",
       "      <th>45688</th>\n",
       "      <td>Yucca 016</td>\n",
       "      <td>57158</td>\n",
       "      <td>Valid</td>\n",
       "      <td>H5</td>\n",
       "      <td>25.9</td>\n",
       "      <td>Found</td>\n",
       "      <td>2011.0</td>\n",
       "      <td>34.82658</td>\n",
       "      <td>-114.27763</td>\n",
       "      <td>(34.826580, -114.277630)</td>\n",
       "    </tr>\n",
       "    <tr>\n",
       "      <th>45689</th>\n",
       "      <td>Yucca 017</td>\n",
       "      <td>57159</td>\n",
       "      <td>Valid</td>\n",
       "      <td>H5</td>\n",
       "      <td>200.0</td>\n",
       "      <td>Found</td>\n",
       "      <td>2011.0</td>\n",
       "      <td>34.81923</td>\n",
       "      <td>-114.27735</td>\n",
       "      <td>(34.819230, -114.277350)</td>\n",
       "    </tr>\n",
       "    <tr>\n",
       "      <th>45690</th>\n",
       "      <td>Yudoma</td>\n",
       "      <td>30376</td>\n",
       "      <td>Valid</td>\n",
       "      <td>Iron, IVA</td>\n",
       "      <td>7600.0</td>\n",
       "      <td>Found</td>\n",
       "      <td>1946.0</td>\n",
       "      <td>60.00000</td>\n",
       "      <td>140.00000</td>\n",
       "      <td>(60.000000, 140.000000)</td>\n",
       "    </tr>\n",
       "    <tr>\n",
       "      <th>45691</th>\n",
       "      <td>Zacatecas (1792)</td>\n",
       "      <td>30381</td>\n",
       "      <td>Valid</td>\n",
       "      <td>Iron, ungrouped</td>\n",
       "      <td>1000000.0</td>\n",
       "      <td>Found</td>\n",
       "      <td>1792.0</td>\n",
       "      <td>22.81667</td>\n",
       "      <td>-102.56667</td>\n",
       "      <td>(22.816670, -102.566670)</td>\n",
       "    </tr>\n",
       "    <tr>\n",
       "      <th>45692</th>\n",
       "      <td>Zacatecas (1969)</td>\n",
       "      <td>30382</td>\n",
       "      <td>Valid</td>\n",
       "      <td>Iron, IIIAB</td>\n",
       "      <td>6660.0</td>\n",
       "      <td>Found</td>\n",
       "      <td>1969.0</td>\n",
       "      <td>NaN</td>\n",
       "      <td>NaN</td>\n",
       "      <td>NaN</td>\n",
       "    </tr>\n",
       "    <tr>\n",
       "      <th>45693</th>\n",
       "      <td>Zaffra</td>\n",
       "      <td>30383</td>\n",
       "      <td>Valid</td>\n",
       "      <td>Iron, IAB-MG</td>\n",
       "      <td>3000.0</td>\n",
       "      <td>Found</td>\n",
       "      <td>1919.0</td>\n",
       "      <td>35.00000</td>\n",
       "      <td>-94.75000</td>\n",
       "      <td>(35.000000, -94.750000)</td>\n",
       "    </tr>\n",
       "    <tr>\n",
       "      <th>45694</th>\n",
       "      <td>Zag (b)</td>\n",
       "      <td>30385</td>\n",
       "      <td>Valid</td>\n",
       "      <td>Winonaite</td>\n",
       "      <td>300.0</td>\n",
       "      <td>Found</td>\n",
       "      <td>1999.0</td>\n",
       "      <td>27.33333</td>\n",
       "      <td>-9.33333</td>\n",
       "      <td>(27.333330, -9.333330)</td>\n",
       "    </tr>\n",
       "    <tr>\n",
       "      <th>45695</th>\n",
       "      <td>Zagora</td>\n",
       "      <td>30387</td>\n",
       "      <td>Valid</td>\n",
       "      <td>Iron, IAB-ung</td>\n",
       "      <td>50000.0</td>\n",
       "      <td>Found</td>\n",
       "      <td>1987.0</td>\n",
       "      <td>30.36667</td>\n",
       "      <td>-5.85000</td>\n",
       "      <td>(30.366670, -5.850000)</td>\n",
       "    </tr>\n",
       "    <tr>\n",
       "      <th>45696</th>\n",
       "      <td>Zakłodzie</td>\n",
       "      <td>30390</td>\n",
       "      <td>Valid</td>\n",
       "      <td>Enst achon-ung</td>\n",
       "      <td>8680.0</td>\n",
       "      <td>Found</td>\n",
       "      <td>1998.0</td>\n",
       "      <td>50.76278</td>\n",
       "      <td>22.86611</td>\n",
       "      <td>(50.762780, 22.866110)</td>\n",
       "    </tr>\n",
       "    <tr>\n",
       "      <th>45697</th>\n",
       "      <td>Zapaliname</td>\n",
       "      <td>30392</td>\n",
       "      <td>Valid</td>\n",
       "      <td>Iron, IAB-MG</td>\n",
       "      <td>85000.0</td>\n",
       "      <td>Found</td>\n",
       "      <td>1998.0</td>\n",
       "      <td>25.00944</td>\n",
       "      <td>-100.75000</td>\n",
       "      <td>(25.009440, -100.750000)</td>\n",
       "    </tr>\n",
       "    <tr>\n",
       "      <th>45698</th>\n",
       "      <td>Zapata County</td>\n",
       "      <td>30393</td>\n",
       "      <td>Valid</td>\n",
       "      <td>Iron</td>\n",
       "      <td>NaN</td>\n",
       "      <td>Found</td>\n",
       "      <td>1930.0</td>\n",
       "      <td>27.00000</td>\n",
       "      <td>-99.00000</td>\n",
       "      <td>(27.000000, -99.000000)</td>\n",
       "    </tr>\n",
       "    <tr>\n",
       "      <th>45699</th>\n",
       "      <td>Zapotitlán Salinas</td>\n",
       "      <td>30394</td>\n",
       "      <td>Valid</td>\n",
       "      <td>L4</td>\n",
       "      <td>27.7</td>\n",
       "      <td>Found</td>\n",
       "      <td>1984.0</td>\n",
       "      <td>18.33333</td>\n",
       "      <td>-97.50000</td>\n",
       "      <td>(18.333330, -97.500000)</td>\n",
       "    </tr>\n",
       "    <tr>\n",
       "      <th>45700</th>\n",
       "      <td>Zaragoza</td>\n",
       "      <td>48916</td>\n",
       "      <td>Valid</td>\n",
       "      <td>Iron, IVA-an</td>\n",
       "      <td>162000.0</td>\n",
       "      <td>Found</td>\n",
       "      <td>NaN</td>\n",
       "      <td>41.65000</td>\n",
       "      <td>-0.86667</td>\n",
       "      <td>(41.650000, -0.866670)</td>\n",
       "    </tr>\n",
       "    <tr>\n",
       "      <th>45701</th>\n",
       "      <td>Zegdou</td>\n",
       "      <td>30398</td>\n",
       "      <td>Valid</td>\n",
       "      <td>H3</td>\n",
       "      <td>6700.0</td>\n",
       "      <td>Found</td>\n",
       "      <td>1998.0</td>\n",
       "      <td>29.75000</td>\n",
       "      <td>-4.50000</td>\n",
       "      <td>(29.750000, -4.500000)</td>\n",
       "    </tr>\n",
       "    <tr>\n",
       "      <th>45702</th>\n",
       "      <td>Zelfana</td>\n",
       "      <td>31353</td>\n",
       "      <td>Valid</td>\n",
       "      <td>L5</td>\n",
       "      <td>1058.0</td>\n",
       "      <td>Found</td>\n",
       "      <td>2002.0</td>\n",
       "      <td>32.15833</td>\n",
       "      <td>4.63333</td>\n",
       "      <td>(32.158330, 4.633330)</td>\n",
       "    </tr>\n",
       "    <tr>\n",
       "      <th>45703</th>\n",
       "      <td>Zenda</td>\n",
       "      <td>30400</td>\n",
       "      <td>Valid</td>\n",
       "      <td>Iron, IAB complex</td>\n",
       "      <td>3700.0</td>\n",
       "      <td>Found</td>\n",
       "      <td>1955.0</td>\n",
       "      <td>42.51333</td>\n",
       "      <td>-88.48944</td>\n",
       "      <td>(42.513330, -88.489440)</td>\n",
       "    </tr>\n",
       "    <tr>\n",
       "      <th>45704</th>\n",
       "      <td>Zerga</td>\n",
       "      <td>30402</td>\n",
       "      <td>Valid</td>\n",
       "      <td>LL6</td>\n",
       "      <td>76.0</td>\n",
       "      <td>Found</td>\n",
       "      <td>1973.0</td>\n",
       "      <td>20.25000</td>\n",
       "      <td>-12.68333</td>\n",
       "      <td>(20.250000, -12.683330)</td>\n",
       "    </tr>\n",
       "    <tr>\n",
       "      <th>45705</th>\n",
       "      <td>Zerhamra</td>\n",
       "      <td>30403</td>\n",
       "      <td>Valid</td>\n",
       "      <td>Iron, IIIAB-an</td>\n",
       "      <td>630000.0</td>\n",
       "      <td>Found</td>\n",
       "      <td>1967.0</td>\n",
       "      <td>29.85861</td>\n",
       "      <td>-2.64500</td>\n",
       "      <td>(29.858610, -2.645000)</td>\n",
       "    </tr>\n",
       "    <tr>\n",
       "      <th>45706</th>\n",
       "      <td>Zerkaly</td>\n",
       "      <td>31354</td>\n",
       "      <td>Valid</td>\n",
       "      <td>H5</td>\n",
       "      <td>16000.0</td>\n",
       "      <td>Found</td>\n",
       "      <td>1956.0</td>\n",
       "      <td>52.13333</td>\n",
       "      <td>81.96667</td>\n",
       "      <td>(52.133330, 81.966670)</td>\n",
       "    </tr>\n",
       "    <tr>\n",
       "      <th>45707</th>\n",
       "      <td>Zhaoping</td>\n",
       "      <td>54609</td>\n",
       "      <td>Valid</td>\n",
       "      <td>Iron, IAB complex</td>\n",
       "      <td>2000000.0</td>\n",
       "      <td>Found</td>\n",
       "      <td>1983.0</td>\n",
       "      <td>24.23333</td>\n",
       "      <td>111.18333</td>\n",
       "      <td>(24.233330, 111.183330)</td>\n",
       "    </tr>\n",
       "    <tr>\n",
       "      <th>45708</th>\n",
       "      <td>Zhigansk</td>\n",
       "      <td>30405</td>\n",
       "      <td>Valid</td>\n",
       "      <td>Iron, IIIAB</td>\n",
       "      <td>900000.0</td>\n",
       "      <td>Found</td>\n",
       "      <td>1966.0</td>\n",
       "      <td>68.00000</td>\n",
       "      <td>128.30000</td>\n",
       "      <td>(68.000000, 128.300000)</td>\n",
       "    </tr>\n",
       "    <tr>\n",
       "      <th>45709</th>\n",
       "      <td>Zhongxiang</td>\n",
       "      <td>30406</td>\n",
       "      <td>Valid</td>\n",
       "      <td>Iron</td>\n",
       "      <td>100000.0</td>\n",
       "      <td>Found</td>\n",
       "      <td>1981.0</td>\n",
       "      <td>31.20000</td>\n",
       "      <td>112.50000</td>\n",
       "      <td>(31.200000, 112.500000)</td>\n",
       "    </tr>\n",
       "    <tr>\n",
       "      <th>45710</th>\n",
       "      <td>Zillah 001</td>\n",
       "      <td>31355</td>\n",
       "      <td>Valid</td>\n",
       "      <td>L6</td>\n",
       "      <td>1475.0</td>\n",
       "      <td>Found</td>\n",
       "      <td>1990.0</td>\n",
       "      <td>29.03700</td>\n",
       "      <td>17.01850</td>\n",
       "      <td>(29.037000, 17.018500)</td>\n",
       "    </tr>\n",
       "    <tr>\n",
       "      <th>45711</th>\n",
       "      <td>Zillah 002</td>\n",
       "      <td>31356</td>\n",
       "      <td>Valid</td>\n",
       "      <td>Eucrite</td>\n",
       "      <td>172.0</td>\n",
       "      <td>Found</td>\n",
       "      <td>1990.0</td>\n",
       "      <td>29.03700</td>\n",
       "      <td>17.01850</td>\n",
       "      <td>(29.037000, 17.018500)</td>\n",
       "    </tr>\n",
       "    <tr>\n",
       "      <th>45712</th>\n",
       "      <td>Zinder</td>\n",
       "      <td>30409</td>\n",
       "      <td>Valid</td>\n",
       "      <td>Pallasite, ungrouped</td>\n",
       "      <td>46.0</td>\n",
       "      <td>Found</td>\n",
       "      <td>1999.0</td>\n",
       "      <td>13.78333</td>\n",
       "      <td>8.96667</td>\n",
       "      <td>(13.783330, 8.966670)</td>\n",
       "    </tr>\n",
       "    <tr>\n",
       "      <th>45713</th>\n",
       "      <td>Zlin</td>\n",
       "      <td>30410</td>\n",
       "      <td>Valid</td>\n",
       "      <td>H4</td>\n",
       "      <td>3.3</td>\n",
       "      <td>Found</td>\n",
       "      <td>1939.0</td>\n",
       "      <td>49.25000</td>\n",
       "      <td>17.66667</td>\n",
       "      <td>(49.250000, 17.666670)</td>\n",
       "    </tr>\n",
       "    <tr>\n",
       "      <th>45714</th>\n",
       "      <td>Zubkovsky</td>\n",
       "      <td>31357</td>\n",
       "      <td>Valid</td>\n",
       "      <td>L6</td>\n",
       "      <td>2167.0</td>\n",
       "      <td>Found</td>\n",
       "      <td>2003.0</td>\n",
       "      <td>49.78917</td>\n",
       "      <td>41.50460</td>\n",
       "      <td>(49.789170, 41.504600)</td>\n",
       "    </tr>\n",
       "    <tr>\n",
       "      <th>45715</th>\n",
       "      <td>Zulu Queen</td>\n",
       "      <td>30414</td>\n",
       "      <td>Valid</td>\n",
       "      <td>L3.7</td>\n",
       "      <td>200.0</td>\n",
       "      <td>Found</td>\n",
       "      <td>1976.0</td>\n",
       "      <td>33.98333</td>\n",
       "      <td>-115.68333</td>\n",
       "      <td>(33.983330, -115.683330)</td>\n",
       "    </tr>\n",
       "  </tbody>\n",
       "</table>\n",
       "<p>45716 rows × 10 columns</p>\n",
       "</div>"
      ],
      "text/plain": [
       "                      name     id nametype              recclass       mass  \\\n",
       "0                   Aachen      1    Valid                    L5       21.0   \n",
       "1                   Aarhus      2    Valid                    H6      720.0   \n",
       "2                     Abee      6    Valid                   EH4   107000.0   \n",
       "3                 Acapulco     10    Valid           Acapulcoite     1914.0   \n",
       "4                  Achiras    370    Valid                    L6      780.0   \n",
       "5                 Adhi Kot    379    Valid                   EH4     4239.0   \n",
       "6      Adzhi-Bogdo (stone)    390    Valid                 LL3-6      910.0   \n",
       "7                     Agen    392    Valid                    H5    30000.0   \n",
       "8                   Aguada    398    Valid                    L6     1620.0   \n",
       "9            Aguila Blanca    417    Valid                     L     1440.0   \n",
       "10        Aioun el Atrouss    423    Valid          Diogenite-pm     1000.0   \n",
       "11                     Aïr    424    Valid                    L6    24000.0   \n",
       "12         Aire-sur-la-Lys    425    Valid               Unknown        NaN   \n",
       "13                   Akaba    426    Valid                    L6      779.0   \n",
       "14                Akbarpur    427    Valid                    H4     1800.0   \n",
       "15                 Akwanga    432    Valid                     H     3000.0   \n",
       "16                 Akyumak    433    Valid             Iron, IVA    50000.0   \n",
       "17                 Al Rais    446    Valid                CR2-an      160.0   \n",
       "18               Al Zarnkh    447    Valid                   LL5      700.0   \n",
       "19                   Alais    448    Valid                   CI1     6000.0   \n",
       "20                Albareto    453    Valid                 L/LL4     2000.0   \n",
       "21                 Alberta    454    Valid                     L      625.0   \n",
       "22         Alby sur Chéran    458    Valid         Eucrite-mmict      252.0   \n",
       "23               Aldsworth    461    Valid                   LL5      700.0   \n",
       "24                  Aleppo    462    Valid                    L6     3200.0   \n",
       "25             Alessandria    463    Valid                    H5      908.0   \n",
       "26           Alexandrovsky    465    Valid                    H4     9251.0   \n",
       "27              Alfianello    466    Valid                    L6   228000.0   \n",
       "28                 Allegan   2276    Valid                    H5    32000.0   \n",
       "29                 Allende   2278    Valid                   CV3  2000000.0   \n",
       "...                    ...    ...      ...                   ...        ...   \n",
       "45686               Ysleta  30375    Valid       Iron, ungrouped   140700.0   \n",
       "45687            Yucca 015  57175    Valid               H-metal        3.0   \n",
       "45688            Yucca 016  57158    Valid                    H5       25.9   \n",
       "45689            Yucca 017  57159    Valid                    H5      200.0   \n",
       "45690               Yudoma  30376    Valid             Iron, IVA     7600.0   \n",
       "45691     Zacatecas (1792)  30381    Valid       Iron, ungrouped  1000000.0   \n",
       "45692     Zacatecas (1969)  30382    Valid           Iron, IIIAB     6660.0   \n",
       "45693               Zaffra  30383    Valid          Iron, IAB-MG     3000.0   \n",
       "45694              Zag (b)  30385    Valid             Winonaite      300.0   \n",
       "45695               Zagora  30387    Valid         Iron, IAB-ung    50000.0   \n",
       "45696            Zakłodzie  30390    Valid        Enst achon-ung     8680.0   \n",
       "45697           Zapaliname  30392    Valid          Iron, IAB-MG    85000.0   \n",
       "45698        Zapata County  30393    Valid                  Iron        NaN   \n",
       "45699   Zapotitlán Salinas  30394    Valid                    L4       27.7   \n",
       "45700             Zaragoza  48916    Valid          Iron, IVA-an   162000.0   \n",
       "45701               Zegdou  30398    Valid                    H3     6700.0   \n",
       "45702              Zelfana  31353    Valid                    L5     1058.0   \n",
       "45703                Zenda  30400    Valid     Iron, IAB complex     3700.0   \n",
       "45704                Zerga  30402    Valid                   LL6       76.0   \n",
       "45705             Zerhamra  30403    Valid        Iron, IIIAB-an   630000.0   \n",
       "45706              Zerkaly  31354    Valid                    H5    16000.0   \n",
       "45707             Zhaoping  54609    Valid     Iron, IAB complex  2000000.0   \n",
       "45708             Zhigansk  30405    Valid           Iron, IIIAB   900000.0   \n",
       "45709           Zhongxiang  30406    Valid                  Iron   100000.0   \n",
       "45710           Zillah 001  31355    Valid                    L6     1475.0   \n",
       "45711           Zillah 002  31356    Valid               Eucrite      172.0   \n",
       "45712               Zinder  30409    Valid  Pallasite, ungrouped       46.0   \n",
       "45713                 Zlin  30410    Valid                    H4        3.3   \n",
       "45714            Zubkovsky  31357    Valid                    L6     2167.0   \n",
       "45715           Zulu Queen  30414    Valid                  L3.7      200.0   \n",
       "\n",
       "        fall    year    reclat    reclong               GeoLocation  \n",
       "0       Fell  1880.0  50.77500    6.08333     (50.775000, 6.083330)  \n",
       "1       Fell  1951.0  56.18333   10.23333    (56.183330, 10.233330)  \n",
       "2       Fell  1952.0  54.21667 -113.00000  (54.216670, -113.000000)  \n",
       "3       Fell  1976.0  16.88333  -99.90000   (16.883330, -99.900000)  \n",
       "4       Fell  1902.0 -33.16667  -64.95000  (-33.166670, -64.950000)  \n",
       "5       Fell  1919.0  32.10000   71.80000    (32.100000, 71.800000)  \n",
       "6       Fell  1949.0  44.83333   95.16667    (44.833330, 95.166670)  \n",
       "7       Fell  1814.0  44.21667    0.61667     (44.216670, 0.616670)  \n",
       "8       Fell  1930.0 -31.60000  -65.23333  (-31.600000, -65.233330)  \n",
       "9       Fell  1920.0 -30.86667  -64.55000  (-30.866670, -64.550000)  \n",
       "10      Fell  1974.0  16.39806   -9.57028    (16.398060, -9.570280)  \n",
       "11      Fell  1925.0  19.08333    8.38333     (19.083330, 8.383330)  \n",
       "12      Fell  1769.0  50.66667    2.33333     (50.666670, 2.333330)  \n",
       "13      Fell  1949.0  29.51667   35.05000    (29.516670, 35.050000)  \n",
       "14      Fell  1838.0  29.71667   77.95000    (29.716670, 77.950000)  \n",
       "15      Fell  1959.0   8.91667    8.43333      (8.916670, 8.433330)  \n",
       "16      Fell  1981.0  39.91667   42.81667    (39.916670, 42.816670)  \n",
       "17      Fell  1957.0  24.41667   39.51667    (24.416670, 39.516670)  \n",
       "18      Fell  2001.0  13.66033   28.96000    (13.660330, 28.960000)  \n",
       "19      Fell  1806.0  44.11667    4.08333     (44.116670, 4.083330)  \n",
       "20      Fell  1766.0  44.65000   11.01667    (44.650000, 11.016670)  \n",
       "21      Fell  1949.0   2.00000   22.66667     (2.000000, 22.666670)  \n",
       "22      Fell  2002.0  45.82133    6.01533     (45.821330, 6.015330)  \n",
       "23      Fell  1835.0  51.78333   -1.78333    (51.783330, -1.783330)  \n",
       "24      Fell  1873.0  36.23333   37.13333    (36.233330, 37.133330)  \n",
       "25      Fell  1860.0  44.88333    8.75000     (44.883330, 8.750000)  \n",
       "26      Fell  1900.0  50.95000   31.81667    (50.950000, 31.816670)  \n",
       "27      Fell  1883.0  45.26667   10.15000    (45.266670, 10.150000)  \n",
       "28      Fell  1899.0  42.53333  -85.88333   (42.533330, -85.883330)  \n",
       "29      Fell  1969.0  26.96667 -105.31667  (26.966670, -105.316670)  \n",
       "...      ...     ...       ...        ...                       ...  \n",
       "45686  Found  1914.0  31.65000 -106.18333  (31.650000, -106.183330)  \n",
       "45687  Found  2011.0  34.81970 -114.27610  (34.819700, -114.276100)  \n",
       "45688  Found  2011.0  34.82658 -114.27763  (34.826580, -114.277630)  \n",
       "45689  Found  2011.0  34.81923 -114.27735  (34.819230, -114.277350)  \n",
       "45690  Found  1946.0  60.00000  140.00000   (60.000000, 140.000000)  \n",
       "45691  Found  1792.0  22.81667 -102.56667  (22.816670, -102.566670)  \n",
       "45692  Found  1969.0       NaN        NaN                       NaN  \n",
       "45693  Found  1919.0  35.00000  -94.75000   (35.000000, -94.750000)  \n",
       "45694  Found  1999.0  27.33333   -9.33333    (27.333330, -9.333330)  \n",
       "45695  Found  1987.0  30.36667   -5.85000    (30.366670, -5.850000)  \n",
       "45696  Found  1998.0  50.76278   22.86611    (50.762780, 22.866110)  \n",
       "45697  Found  1998.0  25.00944 -100.75000  (25.009440, -100.750000)  \n",
       "45698  Found  1930.0  27.00000  -99.00000   (27.000000, -99.000000)  \n",
       "45699  Found  1984.0  18.33333  -97.50000   (18.333330, -97.500000)  \n",
       "45700  Found     NaN  41.65000   -0.86667    (41.650000, -0.866670)  \n",
       "45701  Found  1998.0  29.75000   -4.50000    (29.750000, -4.500000)  \n",
       "45702  Found  2002.0  32.15833    4.63333     (32.158330, 4.633330)  \n",
       "45703  Found  1955.0  42.51333  -88.48944   (42.513330, -88.489440)  \n",
       "45704  Found  1973.0  20.25000  -12.68333   (20.250000, -12.683330)  \n",
       "45705  Found  1967.0  29.85861   -2.64500    (29.858610, -2.645000)  \n",
       "45706  Found  1956.0  52.13333   81.96667    (52.133330, 81.966670)  \n",
       "45707  Found  1983.0  24.23333  111.18333   (24.233330, 111.183330)  \n",
       "45708  Found  1966.0  68.00000  128.30000   (68.000000, 128.300000)  \n",
       "45709  Found  1981.0  31.20000  112.50000   (31.200000, 112.500000)  \n",
       "45710  Found  1990.0  29.03700   17.01850    (29.037000, 17.018500)  \n",
       "45711  Found  1990.0  29.03700   17.01850    (29.037000, 17.018500)  \n",
       "45712  Found  1999.0  13.78333    8.96667     (13.783330, 8.966670)  \n",
       "45713  Found  1939.0  49.25000   17.66667    (49.250000, 17.666670)  \n",
       "45714  Found  2003.0  49.78917   41.50460    (49.789170, 41.504600)  \n",
       "45715  Found  1976.0  33.98333 -115.68333  (33.983330, -115.683330)  \n",
       "\n",
       "[45716 rows x 10 columns]"
      ]
     },
     "execution_count": 12,
     "metadata": {},
     "output_type": "execute_result"
    }
   ],
   "source": [
    "met_data_path = os.path.join(home_data_path, 'python_lecture', 'meteorite_data')\n",
    "met_data_withna = pd.read_csv(os.path.join(met_data_path, 'meteorite-landings.csv'))\n",
    "met_data_withna"
   ]
  },
  {
   "cell_type": "code",
   "execution_count": 13,
   "metadata": {},
   "outputs": [
    {
     "data": {
      "text/html": [
       "<div>\n",
       "<style scoped>\n",
       "    .dataframe tbody tr th:only-of-type {\n",
       "        vertical-align: middle;\n",
       "    }\n",
       "\n",
       "    .dataframe tbody tr th {\n",
       "        vertical-align: top;\n",
       "    }\n",
       "\n",
       "    .dataframe thead th {\n",
       "        text-align: right;\n",
       "    }\n",
       "</style>\n",
       "<table border=\"1\" class=\"dataframe\">\n",
       "  <thead>\n",
       "    <tr style=\"text-align: right;\">\n",
       "      <th></th>\n",
       "      <th>name</th>\n",
       "      <th>id</th>\n",
       "      <th>nametype</th>\n",
       "      <th>recclass</th>\n",
       "      <th>mass</th>\n",
       "      <th>fall</th>\n",
       "      <th>year</th>\n",
       "      <th>reclat</th>\n",
       "      <th>reclong</th>\n",
       "      <th>GeoLocation</th>\n",
       "    </tr>\n",
       "  </thead>\n",
       "  <tbody>\n",
       "    <tr>\n",
       "      <th>0</th>\n",
       "      <td>Aachen</td>\n",
       "      <td>1</td>\n",
       "      <td>Valid</td>\n",
       "      <td>L5</td>\n",
       "      <td>21.0</td>\n",
       "      <td>Fell</td>\n",
       "      <td>1880.0</td>\n",
       "      <td>50.77500</td>\n",
       "      <td>6.08333</td>\n",
       "      <td>(50.775000, 6.083330)</td>\n",
       "    </tr>\n",
       "    <tr>\n",
       "      <th>1</th>\n",
       "      <td>Aarhus</td>\n",
       "      <td>2</td>\n",
       "      <td>Valid</td>\n",
       "      <td>H6</td>\n",
       "      <td>720.0</td>\n",
       "      <td>Fell</td>\n",
       "      <td>1951.0</td>\n",
       "      <td>56.18333</td>\n",
       "      <td>10.23333</td>\n",
       "      <td>(56.183330, 10.233330)</td>\n",
       "    </tr>\n",
       "    <tr>\n",
       "      <th>2</th>\n",
       "      <td>Abee</td>\n",
       "      <td>6</td>\n",
       "      <td>Valid</td>\n",
       "      <td>EH4</td>\n",
       "      <td>107000.0</td>\n",
       "      <td>Fell</td>\n",
       "      <td>1952.0</td>\n",
       "      <td>54.21667</td>\n",
       "      <td>-113.00000</td>\n",
       "      <td>(54.216670, -113.000000)</td>\n",
       "    </tr>\n",
       "    <tr>\n",
       "      <th>3</th>\n",
       "      <td>Acapulco</td>\n",
       "      <td>10</td>\n",
       "      <td>Valid</td>\n",
       "      <td>Acapulcoite</td>\n",
       "      <td>1914.0</td>\n",
       "      <td>Fell</td>\n",
       "      <td>1976.0</td>\n",
       "      <td>16.88333</td>\n",
       "      <td>-99.90000</td>\n",
       "      <td>(16.883330, -99.900000)</td>\n",
       "    </tr>\n",
       "    <tr>\n",
       "      <th>4</th>\n",
       "      <td>Achiras</td>\n",
       "      <td>370</td>\n",
       "      <td>Valid</td>\n",
       "      <td>L6</td>\n",
       "      <td>780.0</td>\n",
       "      <td>Fell</td>\n",
       "      <td>1902.0</td>\n",
       "      <td>-33.16667</td>\n",
       "      <td>-64.95000</td>\n",
       "      <td>(-33.166670, -64.950000)</td>\n",
       "    </tr>\n",
       "  </tbody>\n",
       "</table>\n",
       "</div>"
      ],
      "text/plain": [
       "       name   id nametype     recclass      mass  fall    year    reclat  \\\n",
       "0    Aachen    1    Valid           L5      21.0  Fell  1880.0  50.77500   \n",
       "1    Aarhus    2    Valid           H6     720.0  Fell  1951.0  56.18333   \n",
       "2      Abee    6    Valid          EH4  107000.0  Fell  1952.0  54.21667   \n",
       "3  Acapulco   10    Valid  Acapulcoite    1914.0  Fell  1976.0  16.88333   \n",
       "4   Achiras  370    Valid           L6     780.0  Fell  1902.0 -33.16667   \n",
       "\n",
       "     reclong               GeoLocation  \n",
       "0    6.08333     (50.775000, 6.083330)  \n",
       "1   10.23333    (56.183330, 10.233330)  \n",
       "2 -113.00000  (54.216670, -113.000000)  \n",
       "3  -99.90000   (16.883330, -99.900000)  \n",
       "4  -64.95000  (-33.166670, -64.950000)  "
      ]
     },
     "execution_count": 13,
     "metadata": {},
     "output_type": "execute_result"
    }
   ],
   "source": [
    "met_data_withna.head(5)"
   ]
  },
  {
   "cell_type": "code",
   "execution_count": 14,
   "metadata": {},
   "outputs": [
    {
     "data": {
      "text/html": [
       "<div>\n",
       "<style scoped>\n",
       "    .dataframe tbody tr th:only-of-type {\n",
       "        vertical-align: middle;\n",
       "    }\n",
       "\n",
       "    .dataframe tbody tr th {\n",
       "        vertical-align: top;\n",
       "    }\n",
       "\n",
       "    .dataframe thead th {\n",
       "        text-align: right;\n",
       "    }\n",
       "</style>\n",
       "<table border=\"1\" class=\"dataframe\">\n",
       "  <thead>\n",
       "    <tr style=\"text-align: right;\">\n",
       "      <th></th>\n",
       "      <th>id</th>\n",
       "      <th>mass</th>\n",
       "      <th>year</th>\n",
       "      <th>reclat</th>\n",
       "      <th>reclong</th>\n",
       "    </tr>\n",
       "  </thead>\n",
       "  <tbody>\n",
       "    <tr>\n",
       "      <th>count</th>\n",
       "      <td>45716.000000</td>\n",
       "      <td>4.558500e+04</td>\n",
       "      <td>45428.000000</td>\n",
       "      <td>38401.000000</td>\n",
       "      <td>38401.000000</td>\n",
       "    </tr>\n",
       "    <tr>\n",
       "      <th>mean</th>\n",
       "      <td>26889.735104</td>\n",
       "      <td>1.327808e+04</td>\n",
       "      <td>1991.772189</td>\n",
       "      <td>-39.122580</td>\n",
       "      <td>61.074319</td>\n",
       "    </tr>\n",
       "    <tr>\n",
       "      <th>std</th>\n",
       "      <td>16860.683030</td>\n",
       "      <td>5.749889e+05</td>\n",
       "      <td>27.181247</td>\n",
       "      <td>46.378511</td>\n",
       "      <td>80.647298</td>\n",
       "    </tr>\n",
       "    <tr>\n",
       "      <th>min</th>\n",
       "      <td>1.000000</td>\n",
       "      <td>0.000000e+00</td>\n",
       "      <td>301.000000</td>\n",
       "      <td>-87.366670</td>\n",
       "      <td>-165.433330</td>\n",
       "    </tr>\n",
       "    <tr>\n",
       "      <th>25%</th>\n",
       "      <td>12688.750000</td>\n",
       "      <td>7.200000e+00</td>\n",
       "      <td>1987.000000</td>\n",
       "      <td>-76.714240</td>\n",
       "      <td>0.000000</td>\n",
       "    </tr>\n",
       "    <tr>\n",
       "      <th>50%</th>\n",
       "      <td>24261.500000</td>\n",
       "      <td>3.260000e+01</td>\n",
       "      <td>1998.000000</td>\n",
       "      <td>-71.500000</td>\n",
       "      <td>35.666670</td>\n",
       "    </tr>\n",
       "    <tr>\n",
       "      <th>75%</th>\n",
       "      <td>40656.750000</td>\n",
       "      <td>2.026000e+02</td>\n",
       "      <td>2003.000000</td>\n",
       "      <td>0.000000</td>\n",
       "      <td>157.166670</td>\n",
       "    </tr>\n",
       "    <tr>\n",
       "      <th>max</th>\n",
       "      <td>57458.000000</td>\n",
       "      <td>6.000000e+07</td>\n",
       "      <td>2501.000000</td>\n",
       "      <td>81.166670</td>\n",
       "      <td>354.473330</td>\n",
       "    </tr>\n",
       "  </tbody>\n",
       "</table>\n",
       "</div>"
      ],
      "text/plain": [
       "                 id          mass          year        reclat       reclong\n",
       "count  45716.000000  4.558500e+04  45428.000000  38401.000000  38401.000000\n",
       "mean   26889.735104  1.327808e+04   1991.772189    -39.122580     61.074319\n",
       "std    16860.683030  5.749889e+05     27.181247     46.378511     80.647298\n",
       "min        1.000000  0.000000e+00    301.000000    -87.366670   -165.433330\n",
       "25%    12688.750000  7.200000e+00   1987.000000    -76.714240      0.000000\n",
       "50%    24261.500000  3.260000e+01   1998.000000    -71.500000     35.666670\n",
       "75%    40656.750000  2.026000e+02   2003.000000      0.000000    157.166670\n",
       "max    57458.000000  6.000000e+07   2501.000000     81.166670    354.473330"
      ]
     },
     "execution_count": 14,
     "metadata": {},
     "output_type": "execute_result"
    }
   ],
   "source": [
    "met_data_withna.describe()"
   ]
  },
  {
   "cell_type": "code",
   "execution_count": 15,
   "metadata": {},
   "outputs": [
    {
     "data": {
      "text/plain": [
       "name            object\n",
       "id               int64\n",
       "nametype        object\n",
       "recclass        object\n",
       "mass           float64\n",
       "fall            object\n",
       "year           float64\n",
       "reclat         float64\n",
       "reclong        float64\n",
       "GeoLocation     object\n",
       "dtype: object"
      ]
     },
     "execution_count": 15,
     "metadata": {},
     "output_type": "execute_result"
    }
   ],
   "source": [
    "met_data_withna.dtypes"
   ]
  },
  {
   "cell_type": "code",
   "execution_count": 16,
   "metadata": {},
   "outputs": [
    {
     "data": {
      "text/plain": [
       "(45716, 10)"
      ]
     },
     "execution_count": 16,
     "metadata": {},
     "output_type": "execute_result"
    }
   ],
   "source": [
    "met_data_withna.shape"
   ]
  },
  {
   "cell_type": "code",
   "execution_count": 17,
   "metadata": {},
   "outputs": [
    {
     "data": {
      "text/plain": [
       "name              0\n",
       "id                0\n",
       "nametype          0\n",
       "recclass          0\n",
       "mass            131\n",
       "fall              0\n",
       "year            288\n",
       "reclat         7315\n",
       "reclong        7315\n",
       "GeoLocation    7315\n",
       "dtype: int64"
      ]
     },
     "execution_count": 17,
     "metadata": {},
     "output_type": "execute_result"
    }
   ],
   "source": [
    "met_data_withna.isna().sum()"
   ]
  },
  {
   "cell_type": "markdown",
   "metadata": {},
   "source": [
    "Filter unplausible data"
   ]
  },
  {
   "cell_type": "code",
   "execution_count": 20,
   "metadata": {},
   "outputs": [
    {
     "data": {
      "text/plain": [
       "45418"
      ]
     },
     "execution_count": 20,
     "metadata": {},
     "output_type": "execute_result"
    }
   ],
   "source": [
    "year_mksense = np.logical_and(met_data_withna['year']>1500, met_data_withna['year']<=2016)\n",
    "year_mksense.sum()"
   ]
  },
  {
   "cell_type": "markdown",
   "metadata": {},
   "source": [
    "#### Exercise\n",
    "Make boolean series to select only longitudinal values (`reclong`) which make sense (i.e. between -180 and 180)"
   ]
  },
  {
   "cell_type": "code",
   "execution_count": 25,
   "metadata": {},
   "outputs": [],
   "source": [
    "met_data_clean = met_data_withna[np.logical_and(year_mksense, long_mksense)]"
   ]
  },
  {
   "cell_type": "code",
   "execution_count": 26,
   "metadata": {},
   "outputs": [
    {
     "data": {
      "text/plain": [
       "name             0\n",
       "id               0\n",
       "nametype         0\n",
       "recclass         0\n",
       "mass           105\n",
       "fall             0\n",
       "year             0\n",
       "reclat           0\n",
       "reclong          0\n",
       "GeoLocation      0\n",
       "dtype: int64"
      ]
     },
     "execution_count": 26,
     "metadata": {},
     "output_type": "execute_result"
    }
   ],
   "source": [
    "met_data_clean.isna().sum()"
   ]
  },
  {
   "cell_type": "code",
   "execution_count": 27,
   "metadata": {},
   "outputs": [
    {
     "data": {
      "text/plain": [
       "(38110, 10)"
      ]
     },
     "execution_count": 27,
     "metadata": {},
     "output_type": "execute_result"
    }
   ],
   "source": [
    "met_data = met_data_clean.dropna()\n",
    "met_data.shape"
   ]
  },
  {
   "cell_type": "markdown",
   "metadata": {},
   "source": [
    "Examine distribution across years"
   ]
  },
  {
   "cell_type": "code",
   "execution_count": 28,
   "metadata": {},
   "outputs": [],
   "source": [
    "import seaborn as sns\n",
    "sns.set_style(\"darkgrid\")"
   ]
  },
  {
   "cell_type": "code",
   "execution_count": 35,
   "metadata": {},
   "outputs": [
    {
     "data": {
      "text/plain": [
       "<matplotlib.axes._subplots.AxesSubplot at 0x7fac257ac470>"
      ]
     },
     "execution_count": 35,
     "metadata": {},
     "output_type": "execute_result"
    },
    {
     "data": {
      "image/png": "[encoded data removed]",
      "text/plain": [
       "<Figure size 576x288 with 1 Axes>"
      ]
     },
     "metadata": {},
     "output_type": "display_data"
    }
   ],
   "source": [
    "plt.figure(figsize=(8,4))\n",
    "sns.distplot(met_data['year'], kde=False)"
   ]
  },
  {
   "cell_type": "code",
   "execution_count": 72,
   "metadata": {},
   "outputs": [
    {
     "data": {
      "text/plain": [
       "(-90, 90)"
      ]
     },
     "execution_count": 72,
     "metadata": {},
     "output_type": "execute_result"
    },
    {
     "data": {
      "image/png": "[encoded data removed]",
      "text/plain": [
       "<Figure size 576x288 with 1 Axes>"
      ]
     },
     "metadata": {},
     "output_type": "display_data"
    }
   ],
   "source": [
    "plt.figure(figsize=(8,4))\n",
    "sns.kdeplot(met_data['reclong'], met_data['reclat'], shade=True, shade_lowest=False)\n",
    "plt.xlim(-180,180)\n",
    "plt.ylim(-90,90)"
   ]
  },
  {
   "cell_type": "code",
   "execution_count": 1,
   "metadata": {},
   "outputs": [
    {
     "ename": "ModuleNotFoundError",
     "evalue": "No module named 'mpl_toolkits.basemap'",
     "output_type": "error",
     "traceback": [
      "\u001b[0;31m---------------------------------------------------------------------------\u001b[0m",
      "\u001b[0;31mModuleNotFoundError\u001b[0m                       Traceback (most recent call last)",
      "\u001b[0;32m<ipython-input-1-0d060149b0b7>\u001b[0m in \u001b[0;36m<module>\u001b[0;34m\u001b[0m\n\u001b[0;32m----> 1\u001b[0;31m \u001b[0;32mfrom\u001b[0m \u001b[0mmpl_toolkits\u001b[0m\u001b[0;34m.\u001b[0m\u001b[0mbasemap\u001b[0m \u001b[0;32mimport\u001b[0m \u001b[0mBasemap\u001b[0m\u001b[0;34m\u001b[0m\u001b[0;34m\u001b[0m\u001b[0m\n\u001b[0m\u001b[1;32m      2\u001b[0m \u001b[0mmet_map\u001b[0m \u001b[0;34m=\u001b[0m \u001b[0mBasemap\u001b[0m\u001b[0;34m(\u001b[0m\u001b[0mprojection\u001b[0m\u001b[0;34m=\u001b[0m\u001b[0;34m'cyl'\u001b[0m\u001b[0;34m)\u001b[0m\u001b[0;34m\u001b[0m\u001b[0;34m\u001b[0m\u001b[0m\n\u001b[1;32m      3\u001b[0m \u001b[0mmet_map\u001b[0m\u001b[0;34m.\u001b[0m\u001b[0mdrawmapboundary\u001b[0m\u001b[0;34m(\u001b[0m\u001b[0mfill_color\u001b[0m\u001b[0;34m=\u001b[0m\u001b[0;34m'w'\u001b[0m\u001b[0;34m)\u001b[0m\u001b[0;34m\u001b[0m\u001b[0;34m\u001b[0m\u001b[0m\n\u001b[1;32m      4\u001b[0m \u001b[0mmet_map\u001b[0m\u001b[0;34m.\u001b[0m\u001b[0mdrawcoastlines\u001b[0m\u001b[0;34m(\u001b[0m\u001b[0mlinewidth\u001b[0m\u001b[0;34m=\u001b[0m\u001b[0;36m0.5\u001b[0m\u001b[0;34m)\u001b[0m\u001b[0;34m\u001b[0m\u001b[0;34m\u001b[0m\u001b[0m\n\u001b[1;32m      5\u001b[0m \u001b[0mmet_map\u001b[0m\u001b[0;34m.\u001b[0m\u001b[0mdrawmeridians\u001b[0m\u001b[0;34m(\u001b[0m\u001b[0mrange\u001b[0m\u001b[0;34m(\u001b[0m\u001b[0;36m0\u001b[0m\u001b[0;34m,\u001b[0m \u001b[0;36m360\u001b[0m\u001b[0;34m,\u001b[0m \u001b[0;36m20\u001b[0m\u001b[0;34m)\u001b[0m\u001b[0;34m,\u001b[0m\u001b[0mlinewidth\u001b[0m\u001b[0;34m=\u001b[0m\u001b[0;36m0.1\u001b[0m\u001b[0;34m)\u001b[0m\u001b[0;34m\u001b[0m\u001b[0;34m\u001b[0m\u001b[0m\n",
      "\u001b[0;31mModuleNotFoundError\u001b[0m: No module named 'mpl_toolkits.basemap'"
     ]
    }
   ],
   "source": [
    "from mpl_toolkits.basemap import Basemap\n",
    "met_map = Basemap(projection='cyl')\n",
    "met_map.drawmapboundary(fill_color='w')\n",
    "met_map.drawcoastlines(linewidth=0.5)\n",
    "met_map.drawmeridians(range(0, 360, 20),linewidth=0.1)\n",
    "met_map.drawparallels([-66.56083,-23.5,0.0,23.5,66.56083], linewidth=0.6) #plotting equator and tropics and polar circles\n",
    "met_map.scatter(met_data['reclong'], met_data['reclat'], marker='.',alpha=0.25,c='green',edgecolor='None')\n",
    "plt.title('Map of all valid impacts', fontsize=15)"
   ]
  },
  {
   "cell_type": "code",
   "execution_count": 38,
   "metadata": {},
   "outputs": [
    {
     "data": {
      "image/png": "[encoded data removed]",
      "text/plain": [
       "<Figure size 864x432 with 1 Axes>"
      ]
     },
     "metadata": {},
     "output_type": "display_data"
    }
   ],
   "source": [
    "plt.figure(figsize=(12,6))\n",
    "sns.scatterplot(x=met_data['year'], y=met_data['reclat'], alpha=0.4)\n",
    "plt.xlim(1800,2010)\n",
    "plt.ylim(-90,90)\n",
    "plt.ylabel('Latitude')\n",
    "plt.xlabel('Year')\n",
    "plt.title('Meteorite recorded latitude vs year');"
   ]
  },
  {
   "cell_type": "markdown",
   "metadata": {},
   "source": [
    "Count categorical variables"
   ]
  },
  {
   "cell_type": "code",
   "execution_count": 39,
   "metadata": {},
   "outputs": [
    {
     "data": {
      "text/plain": [
       "<matplotlib.axes._subplots.AxesSubplot at 0x7fac245c7b00>"
      ]
     },
     "execution_count": 39,
     "metadata": {},
     "output_type": "execute_result"
    },
    {
     "data": {
      "image/png": "[encoded data removed]",
      "text/plain": [
       "<Figure size 576x288 with 1 Axes>"
      ]
     },
     "metadata": {},
     "output_type": "display_data"
    }
   ],
   "source": [
    "plt.figure(figsize=(8,4))\n",
    "sns.countplot(y=\"nametype\", data=met_data)"
   ]
  },
  {
   "cell_type": "code",
   "execution_count": 40,
   "metadata": {},
   "outputs": [
    {
     "data": {
      "text/plain": [
       "<matplotlib.axes._subplots.AxesSubplot at 0x7fac243fbeb8>"
      ]
     },
     "execution_count": 40,
     "metadata": {},
     "output_type": "execute_result"
    },
    {
     "data": {
      "image/png": "[encoded data removed]",
      "text/plain": [
       "<Figure size 576x288 with 1 Axes>"
      ]
     },
     "metadata": {},
     "output_type": "display_data"
    }
   ],
   "source": [
    "plt.figure(figsize=(8,4))\n",
    "sns.countplot(y=\"fall\", data=met_data)"
   ]
  },
  {
   "cell_type": "code",
   "execution_count": 43,
   "metadata": {
    "scrolled": true
   },
   "outputs": [
    {
     "data": {
      "image/png": "[encoded data removed]",
      "text/plain": [
       "<Figure size 576x288 with 1 Axes>"
      ]
     },
     "metadata": {},
     "output_type": "display_data"
    }
   ],
   "source": [
    "sns.set_palette('deep')\n",
    "plt.figure(figsize=(8,4))\n",
    "count_met_cat = met_data['recclass'].value_counts()\n",
    "count_met_cat.nlargest(20).plot(kind='bar');"
   ]
  },
  {
   "cell_type": "code",
   "execution_count": 44,
   "metadata": {},
   "outputs": [
    {
     "data": {
      "text/plain": [
       "['L6', 'H5', 'H6', 'H4', 'L5', 'LL5', 'LL6', 'L4']"
      ]
     },
     "execution_count": 44,
     "metadata": {},
     "output_type": "execute_result"
    }
   ],
   "source": [
    "top_met_cat = list(count_met_cat.nlargest(8).index)\n",
    "top_met_cat"
   ]
  },
  {
   "cell_type": "code",
   "execution_count": 71,
   "metadata": {},
   "outputs": [
    {
     "data": {
      "text/plain": [
       "(-1000, 50000)"
      ]
     },
     "execution_count": 71,
     "metadata": {},
     "output_type": "execute_result"
    },
    {
     "data": {
      "image/png": "[encoded data removed]",
      "text/plain": [
       "<Figure size 720x360 with 1 Axes>"
      ]
     },
     "metadata": {},
     "output_type": "display_data"
    }
   ],
   "source": [
    "plt.figure(figsize=(10,5))\n",
    "met_data_topcat = met_data[met_data['recclass'].isin(top_met_cat)]\n",
    "sns.violinplot(x=\"mass\", y=\"recclass\", kind=\"box\", data=met_data_topcat)\n",
    "plt.xlim((-1000, 50000))"
   ]
  },
  {
   "cell_type": "markdown",
   "metadata": {},
   "source": [
    "### Exercise\n",
    "Use the previous examples to filter the data and create plots according to your own ideas."
   ]
  },
  {
   "cell_type": "code",
   "execution_count": null,
   "metadata": {},
   "outputs": [],
   "source": []
  }
 ],
 "metadata": {
  "celltoolbar": "Slideshow",
  "kernelspec": {
   "display_name": "Python 3",
   "language": "python",
   "name": "python3"
  },
  "language_info": {
   "codemirror_mode": {
    "name": "ipython",
    "version": 3
   },
   "file_extension": ".py",
   "mimetype": "text/x-python",
   "name": "python",
   "nbconvert_exporter": "python",
   "pygments_lexer": "ipython3",
   "version": "3.7.4"
  }
 },
 "nbformat": 4,
 "nbformat_minor": 2
}
