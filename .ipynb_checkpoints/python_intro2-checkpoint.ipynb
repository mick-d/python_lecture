{
 "cells": [
  {
   "cell_type": "markdown",
   "metadata": {
    "slideshow": {
     "slide_type": "slide"
    }
   },
   "source": [
    "# Introduction to Python"
   ]
  },
  {
   "cell_type": "markdown",
   "metadata": {
    "slideshow": {
     "slide_type": "fragment"
    }
   },
   "source": [
    "<img src=\"learning_python.jpeg\">"
   ]
  },
  {
   "cell_type": "markdown",
   "metadata": {
    "slideshow": {
     "slide_type": "subslide"
    }
   },
   "source": [
    "<img src=\"python_growth.png\">"
   ]
  },
  {
   "cell_type": "markdown",
   "metadata": {
    "slideshow": {
     "slide_type": "skip"
    }
   },
   "source": [
    "Python is called an interpreted language but is compiled to bytecode. The .py source code is first compiled to byte code as .pyc. This byte code can be interpreted (official CPython), or JIT compiled (PyPy)."
   ]
  },
  {
   "cell_type": "markdown",
   "metadata": {
    "slideshow": {
     "slide_type": "slide"
    }
   },
   "source": [
    "## Jupyter notebook"
   ]
  },
  {
   "cell_type": "markdown",
   "metadata": {
    "slideshow": {
     "slide_type": "fragment"
    }
   },
   "source": [
    "### Useful to write both code and text in the same place"
   ]
  },
  {
   "cell_type": "markdown",
   "metadata": {
    "slideshow": {
     "slide_type": "fragment"
    }
   },
   "source": [
    "#### Double click on a cell, choose in the top menu either \"code\" or \"Markdown\" for text.\n",
    "After writing something in the cell, just press \"shift + Enter\" to view the result."
   ]
  },
  {
   "cell_type": "markdown",
   "metadata": {
    "slideshow": {
     "slide_type": "subslide"
    }
   },
   "source": [
    "##### In addition of headings (#, ##, ###, ...) with markdown you can write bullet lists (\\*)\n",
    "* Use #, ##, ###, etc. on the first line for the size of your headings\n",
    "* Use single star (\\*) for each entry of your bullet list"
   ]
  },
  {
   "cell_type": "markdown",
   "metadata": {
    "slideshow": {
     "slide_type": "fragment"
    }
   },
   "source": [
    "Headings are obviously optional. In addition of bullet lists, you can create numbered lists using the format \"number\" \"fullpoint(.)\" \"space\":\n",
    "1. Markdown allows you to write simple text\n",
    "2. But also LaTeX formulas, by simply putting it between dollar signs: $\\sum_{n=1}^{\\infty} \\frac{1}{2^n} = 1$\n",
    "3. You can escape special markdown characters with a backslash (\\\\): \\*\n",
    "4. You can even quote commands by using apostrophes (\\`), as in: use `jupyter notebook` to launch Jupyter notebook from the terminal (after installing python and Jupyter)\n",
    "5. You can put words in *italics* by writing them in between stars (\\*) or in **bold** using two stars (\\*\\*)"
   ]
  },
  {
   "cell_type": "code",
   "execution_count": 35,
   "metadata": {
    "slideshow": {
     "slide_type": "subslide"
    }
   },
   "outputs": [
    {
     "data": {
      "text/plain": [
       "4"
      ]
     },
     "execution_count": 35,
     "metadata": {},
     "output_type": "execute_result"
    }
   ],
   "source": [
    "# Now let's do some python code. Comments can be made with a hash sign (#).\n",
    "2 + 2"
   ]
  },
  {
   "cell_type": "markdown",
   "metadata": {
    "slideshow": {
     "slide_type": "fragment"
    }
   },
   "source": [
    "While the result of executing a cell (\"shift + Enter\") in *Markdown* is **formatting that cell**, for *code* (like `python` code) the result is **running that code and displaying the output (if any)**"
   ]
  },
  {
   "cell_type": "markdown",
   "metadata": {
    "slideshow": {
     "slide_type": "fragment"
    }
   },
   "source": [
    "#### Exercise\n",
    "1. Create two new cells clicking on `+` (or pressing `b` on the keyboard)\n",
    "2. Make the first cell a Markdown cell (top menu, or pressing `m`) and write a bullet list of items\n",
    "3. Make the second cell a code cell (top menu, or pressing `y`) and write an arithmetic operation\n",
    "4. Make sure to execute both cells (if not already done)\n",
    "\n",
    "Note: to edit a cell you need to be in \"edit mode\". A selected cell will become in edit mode (and its border turn green) if you double-click on it or press `Enter`. You can activate the \"command mode\" to use most keyboard shortcuts by pressing `Escape` (cell border with turn blue)."
   ]
  },
  {
   "cell_type": "code",
   "execution_count": null,
   "metadata": {
    "slideshow": {
     "slide_type": "skip"
    }
   },
   "outputs": [],
   "source": []
  },
  {
   "cell_type": "markdown",
   "metadata": {
    "slideshow": {
     "slide_type": "slide"
    }
   },
   "source": [
    "## Python variables and datatypes"
   ]
  },
  {
   "cell_type": "raw",
   "metadata": {
    "slideshow": {
     "slide_type": "fragment"
    }
   },
   "source": [
    "In python, a variable is a name referencing an object, for example:"
   ]
  },
  {
   "cell_type": "code",
   "execution_count": 14,
   "metadata": {
    "slideshow": {
     "slide_type": "fragment"
    }
   },
   "outputs": [
    {
     "name": "stdout",
     "output_type": "stream",
     "text": [
      "2\n"
     ]
    }
   ],
   "source": [
    "# a refers to an integer (int)\n",
    "a = 2\n",
    "print(a)"
   ]
  },
  {
   "cell_type": "code",
   "execution_count": 36,
   "metadata": {
    "slideshow": {
     "slide_type": "fragment"
    }
   },
   "outputs": [
    {
     "name": "stdout",
     "output_type": "stream",
     "text": [
      "3.14\n"
     ]
    }
   ],
   "source": [
    "# simple_pi refers to a float\n",
    "simple_pi = 3.14\n",
    "print(simple_pi)"
   ]
  },
  {
   "cell_type": "code",
   "execution_count": 37,
   "metadata": {
    "slideshow": {
     "slide_type": "fragment"
    }
   },
   "outputs": [
    {
     "name": "stdout",
     "output_type": "stream",
     "text": [
      "kiwi\n"
     ]
    }
   ],
   "source": [
    "# favorite_fruit refers to a string (str)\n",
    "favorite_fruit = \"kiwi\"\n",
    "print(favorite_fruit)"
   ]
  },
  {
   "cell_type": "code",
   "execution_count": 38,
   "metadata": {
    "slideshow": {
     "slide_type": "fragment"
    }
   },
   "outputs": [
    {
     "name": "stdout",
     "output_type": "stream",
     "text": [
      "True\n"
     ]
    }
   ],
   "source": [
    "# like_kiwi refers to a boolean\n",
    "like_kiwi = True\n",
    "print(like_kiwi)"
   ]
  },
  {
   "cell_type": "markdown",
   "metadata": {
    "slideshow": {
     "slide_type": "subslide"
    }
   },
   "source": [
    "You can check the type of a variable with `type`"
   ]
  },
  {
   "cell_type": "code",
   "execution_count": 19,
   "metadata": {
    "slideshow": {
     "slide_type": "fragment"
    }
   },
   "outputs": [
    {
     "name": "stdout",
     "output_type": "stream",
     "text": [
      "<class 'int'> <class 'float'> <class 'str'> <class 'bool'>\n"
     ]
    }
   ],
   "source": [
    "print(type(a), type(simple_pi), type(favorite_fruit), type(like_kiwi))"
   ]
  },
  {
   "cell_type": "code",
   "execution_count": 52,
   "metadata": {
    "slideshow": {
     "slide_type": "fragment"
    }
   },
   "outputs": [],
   "source": [
    "print?\n",
    "# Output: print(value, ..., sep=' ', end='\\n', file=sys.stdout, flush=False) [can also use \"Shift\"+\"Tab\" for help]"
   ]
  },
  {
   "cell_type": "markdown",
   "metadata": {
    "slideshow": {
     "slide_type": "fragment"
    }
   },
   "source": [
    "Simple datatypes are **immutable** (you cannot change them)"
   ]
  },
  {
   "cell_type": "code",
   "execution_count": null,
   "metadata": {
    "slideshow": {
     "slide_type": "fragment"
    }
   },
   "outputs": [],
   "source": [
    "# Setting a variable to a new immutable object (e.g. integer) will refer to a new object entirely\n",
    "a = 3\n",
    "a = 4"
   ]
  },
  {
   "cell_type": "markdown",
   "metadata": {
    "slideshow": {
     "slide_type": "fragment"
    }
   },
   "source": [
    "<img src=\"immutvar_newval.png\">"
   ]
  },
  {
   "cell_type": "code",
   "execution_count": 23,
   "metadata": {
    "slideshow": {
     "slide_type": "slide"
    }
   },
   "outputs": [
    {
     "name": "stdout",
     "output_type": "stream",
     "text": [
      "a is 3\n",
      "b is 3\n"
     ]
    }
   ],
   "source": [
    "# Consider a variable 'a' referring to an immutable object (e.g. an int).\n",
    "# Setting a variable 'b' to 'a' can also be thought as creating a new object, with the same value but independent\n",
    "a = 3\n",
    "b = a\n",
    "print('a is', a)\n",
    "print('b is', b)"
   ]
  },
  {
   "cell_type": "markdown",
   "metadata": {
    "slideshow": {
     "slide_type": "fragment"
    }
   },
   "source": [
    "<tr><td><img src='immutvar_by_val.png'></td><td><img src='immutvar_by_val_wall.png'></td></tr>"
   ]
  },
  {
   "cell_type": "code",
   "execution_count": 25,
   "metadata": {
    "slideshow": {
     "slide_type": "subslide"
    }
   },
   "outputs": [
    {
     "name": "stdout",
     "output_type": "stream",
     "text": [
      "a is 4\n",
      "b is 3\n"
     ]
    }
   ],
   "source": [
    "# Since they are completely independent, changing one will not affect the other\n",
    "a = 3\n",
    "b = a\n",
    "a = 4\n",
    "print('a is', a)\n",
    "print('b is', b)"
   ]
  },
  {
   "cell_type": "markdown",
   "metadata": {
    "slideshow": {
     "slide_type": "fragment"
    }
   },
   "source": [
    "<img src=\"immutvar_by_val_newval.png\">"
   ]
  },
  {
   "cell_type": "markdown",
   "metadata": {
    "slideshow": {
     "slide_type": "subslide"
    }
   },
   "source": [
    "Variable names\n",
    "* can only contain letters, digits, and underscore _\n",
    "* cannot start with a digit\n",
    "* are case sensitive (fruit, FRUIT and Fruit are three different variables)"
   ]
  },
  {
   "cell_type": "code",
   "execution_count": 28,
   "metadata": {
    "slideshow": {
     "slide_type": "subslide"
    }
   },
   "outputs": [
    {
     "name": "stdout",
     "output_type": "stream",
     "text": [
      "letter at index 0 is h\n",
      "letter at index 4 is u\n"
     ]
    }
   ],
   "source": [
    "# Strings, similarly to list (cf next section), are 0-indexed sequences\n",
    "atom_name = 'helium'\n",
    "print('letter at index 0 is', atom_name[0])\n",
    "print('letter at index 4 is', atom_name[4])"
   ]
  },
  {
   "cell_type": "markdown",
   "metadata": {
    "slideshow": {
     "slide_type": "fragment"
    }
   },
   "source": [
    "<img src=str_indexing_only.svg>"
   ]
  },
  {
   "cell_type": "code",
   "execution_count": 29,
   "metadata": {
    "slideshow": {
     "slide_type": "fragment"
    }
   },
   "outputs": [
    {
     "ename": "TypeError",
     "evalue": "'str' object does not support item assignment",
     "output_type": "error",
     "traceback": [
      "\u001b[0;31m---------------------------------------------------------------------------\u001b[0m",
      "\u001b[0;31mTypeError\u001b[0m                                 Traceback (most recent call last)",
      "\u001b[0;32m<ipython-input-29-c3d4a72b0ab9>\u001b[0m in \u001b[0;36m<module>\u001b[0;34m\u001b[0m\n\u001b[1;32m      1\u001b[0m \u001b[0;31m# Do not forget that strings are immutable\u001b[0m\u001b[0;34m\u001b[0m\u001b[0;34m\u001b[0m\u001b[0;34m\u001b[0m\u001b[0m\n\u001b[0;32m----> 2\u001b[0;31m \u001b[0matom_name\u001b[0m\u001b[0;34m[\u001b[0m\u001b[0;36m1\u001b[0m\u001b[0;34m]\u001b[0m \u001b[0;34m=\u001b[0m \u001b[0;34m'i'\u001b[0m\u001b[0;34m\u001b[0m\u001b[0;34m\u001b[0m\u001b[0m\n\u001b[0m",
      "\u001b[0;31mTypeError\u001b[0m: 'str' object does not support item assignment"
     ]
    }
   ],
   "source": [
    "# Do not forget that strings are immutable (you cannot change them)\n",
    "atom_name[1] = 'i'"
   ]
  },
  {
   "cell_type": "code",
   "execution_count": 124,
   "metadata": {
    "slideshow": {
     "slide_type": "subslide"
    }
   },
   "outputs": [
    {
     "name": "stdout",
     "output_type": "stream",
     "text": [
      "Mr John Doe\n"
     ]
    }
   ],
   "source": [
    "# However you can do many things with strings, for example you can concatenate them\n",
    "first_name = 'John'\n",
    "last_name = 'Doe'\n",
    "full_name = 'Mr' + ' ' + first_name + ' ' + last_name\n",
    "print(full_name)"
   ]
  },
  {
   "cell_type": "code",
   "execution_count": 133,
   "metadata": {
    "scrolled": true,
    "slideshow": {
     "slide_type": "fragment"
    }
   },
   "outputs": [
    {
     "name": "stdout",
     "output_type": "stream",
     "text": [
      "sub_string is: raw\n"
     ]
    }
   ],
   "source": [
    "# You can slice them, i.e. extract several sequential characters at a time\n",
    "# <sub_string> = <main_string>[start:stop] where stop is the index AFTER the last wanted character\n",
    "red_fruit = 'strawberry'\n",
    "sub_string = red_fruit[2:5]\n",
    "print('sub_string is:', sub_string)"
   ]
  },
  {
   "cell_type": "code",
   "execution_count": 134,
   "metadata": {
    "slideshow": {
     "slide_type": "fragment"
    }
   },
   "outputs": [
    {
     "name": "stdout",
     "output_type": "stream",
     "text": [
      "sub_string is: berry\n"
     ]
    }
   ],
   "source": [
    "# You can ommit the starting index if you want to start from the beginning\n",
    "# Similarly, you can ommit the stop index if you want to stop at the end\n",
    "red_fruit = 'strawberry'\n",
    "sub_string = red_fruit[5:]\n",
    "print('sub_string is:', sub_string)"
   ]
  },
  {
   "cell_type": "markdown",
   "metadata": {
    "slideshow": {
     "slide_type": "slide"
    }
   },
   "source": [
    "## Python data structures"
   ]
  },
  {
   "cell_type": "markdown",
   "metadata": {
    "slideshow": {
     "slide_type": "fragment"
    }
   },
   "source": [
    "Data structures prove often essential to write any kind of code"
   ]
  },
  {
   "cell_type": "markdown",
   "metadata": {
    "slideshow": {
     "slide_type": "fragment"
    }
   },
   "source": [
    "### Lists"
   ]
  },
  {
   "cell_type": "code",
   "execution_count": 86,
   "metadata": {
    "slideshow": {
     "slide_type": "fragment"
    }
   },
   "outputs": [
    {
     "name": "stdout",
     "output_type": "stream",
     "text": [
      "fav_fruits: ['kiwi', 'mango']\n"
     ]
    }
   ],
   "source": [
    "fav_fruits = ['kiwi', 'mango']\n",
    "print('fav_fruits:', fav_fruits)"
   ]
  },
  {
   "cell_type": "code",
   "execution_count": 87,
   "metadata": {
    "slideshow": {
     "slide_type": "fragment"
    }
   },
   "outputs": [
    {
     "name": "stdout",
     "output_type": "stream",
     "text": [
      "fav_fruits_cals: [42, 60]\n"
     ]
    }
   ],
   "source": [
    "fav_fruits_cals = [42, 60]\n",
    "print('fav_fruits_cals:', fav_fruits_cals)"
   ]
  },
  {
   "cell_type": "code",
   "execution_count": 95,
   "metadata": {
    "slideshow": {
     "slide_type": "fragment"
    }
   },
   "outputs": [
    {
     "data": {
      "text/plain": [
       "'mango'"
      ]
     },
     "execution_count": 95,
     "metadata": {},
     "output_type": "execute_result"
    }
   ],
   "source": [
    "fav_fruits[1]"
   ]
  },
  {
   "cell_type": "markdown",
   "metadata": {
    "slideshow": {
     "slide_type": "subslide"
    }
   },
   "source": [
    "To use functions on objects such as lists, you can use either:\n",
    "* **general functions** with `<function_name>(<object_name>)` such as `len(fav_fruits)` (to compute length with `len`), OR \n",
    "* **specific object functions**, called **methods**, with  `<object_name>.<method_name>` such as `fav_fruits.extend(['apple', 'pear'])` (to append a list of new elements to the original list with `extend`)"
   ]
  },
  {
   "cell_type": "code",
   "execution_count": 88,
   "metadata": {
    "slideshow": {
     "slide_type": "fragment"
    }
   },
   "outputs": [
    {
     "data": {
      "text/plain": [
       "2"
      ]
     },
     "execution_count": 88,
     "metadata": {},
     "output_type": "execute_result"
    }
   ],
   "source": [
    "len(fav_fruits)"
   ]
  },
  {
   "cell_type": "markdown",
   "metadata": {
    "slideshow": {
     "slide_type": "subslide"
    }
   },
   "source": [
    "To see the list of all methods applying to an object, use general function `dir`. You can also use \"TAB\" after typing a dot ('.') after your variable name."
   ]
  },
  {
   "cell_type": "code",
   "execution_count": 96,
   "metadata": {
    "scrolled": true,
    "slideshow": {
     "slide_type": "fragment"
    }
   },
   "outputs": [
    {
     "data": {
      "text/plain": [
       "['__add__',\n",
       " '__class__',\n",
       " '__contains__',\n",
       " '__delattr__',\n",
       " '__delitem__',\n",
       " '__dir__',\n",
       " '__doc__',\n",
       " '__eq__',\n",
       " '__format__',\n",
       " '__ge__',\n",
       " '__getattribute__',\n",
       " '__getitem__',\n",
       " '__gt__',\n",
       " '__hash__',\n",
       " '__iadd__',\n",
       " '__imul__',\n",
       " '__init__',\n",
       " '__init_subclass__',\n",
       " '__iter__',\n",
       " '__le__',\n",
       " '__len__',\n",
       " '__lt__',\n",
       " '__mul__',\n",
       " '__ne__',\n",
       " '__new__',\n",
       " '__reduce__',\n",
       " '__reduce_ex__',\n",
       " '__repr__',\n",
       " '__reversed__',\n",
       " '__rmul__',\n",
       " '__setattr__',\n",
       " '__setitem__',\n",
       " '__sizeof__',\n",
       " '__str__',\n",
       " '__subclasshook__',\n",
       " 'append',\n",
       " 'clear',\n",
       " 'copy',\n",
       " 'count',\n",
       " 'extend',\n",
       " 'index',\n",
       " 'insert',\n",
       " 'pop',\n",
       " 'remove',\n",
       " 'reverse',\n",
       " 'sort']"
      ]
     },
     "execution_count": 96,
     "metadata": {},
     "output_type": "execute_result"
    }
   ],
   "source": [
    "dir(fav_fruits)"
   ]
  },
  {
   "cell_type": "code",
   "execution_count": null,
   "metadata": {
    "slideshow": {
     "slide_type": "fragment"
    }
   },
   "outputs": [],
   "source": [
    "fav_fruits."
   ]
  },
  {
   "cell_type": "code",
   "execution_count": 80,
   "metadata": {
    "slideshow": {
     "slide_type": "subslide"
    }
   },
   "outputs": [
    {
     "name": "stdout",
     "output_type": "stream",
     "text": [
      "fav_food: ['kiwi', 'mango', '4cheese_pizza', 'banana_split']\n"
     ]
    }
   ],
   "source": [
    "fav_food = fav_fruits\n",
    "fav_food.extend(['4cheese_pizza', 'banana_split'])\n",
    "print('fav_food:', fav_food)"
   ]
  },
  {
   "cell_type": "code",
   "execution_count": 81,
   "metadata": {
    "slideshow": {
     "slide_type": "fragment"
    }
   },
   "outputs": [
    {
     "name": "stdout",
     "output_type": "stream",
     "text": [
      "fav_food_cals: [42, 60, 1200, 900]\n"
     ]
    }
   ],
   "source": [
    "fav_food_cals = fav_fruits_cals\n",
    "fav_food_cals.extend([1200, 900])\n",
    "print('fav_food_cals:', fav_food_cals)"
   ]
  },
  {
   "cell_type": "code",
   "execution_count": 82,
   "metadata": {
    "slideshow": {
     "slide_type": "fragment"
    }
   },
   "outputs": [
    {
     "name": "stdout",
     "output_type": "stream",
     "text": [
      "total_fruit_diet_cals: 2202\n"
     ]
    }
   ],
   "source": [
    "total_fruit_diet_cals = sum(fav_fruits_cals)\n",
    "print('total_fruit_diet_cals:', total_fruit_diet_cals)"
   ]
  },
  {
   "cell_type": "markdown",
   "metadata": {
    "slideshow": {
     "slide_type": "subslide"
    }
   },
   "source": [
    "<img src=\"mutvar_error_article.png\">"
   ]
  },
  {
   "cell_type": "markdown",
   "metadata": {
    "slideshow": {
     "slide_type": "fragment"
    }
   },
   "source": [
    "## WARNING: Lists are mutable"
   ]
  },
  {
   "cell_type": "markdown",
   "metadata": {
    "slideshow": {
     "slide_type": "subslide"
    }
   },
   "source": [
    "<img src=\"mutvar_by_ref.png\">"
   ]
  },
  {
   "cell_type": "code",
   "execution_count": 83,
   "metadata": {
    "slideshow": {
     "slide_type": "fragment"
    }
   },
   "outputs": [
    {
     "name": "stdout",
     "output_type": "stream",
     "text": [
      "fav_fruits: ['kiwi', 'mango', '4cheese_pizza', 'banana_split']\n",
      "fav_fruits_cals: [42, 60, 1200, 900]\n"
     ]
    }
   ],
   "source": [
    "print('fav_fruits:', fav_fruits)\n",
    "print('fav_fruits_cals:', fav_fruits_cals)"
   ]
  },
  {
   "cell_type": "code",
   "execution_count": 89,
   "metadata": {
    "slideshow": {
     "slide_type": "fragment"
    }
   },
   "outputs": [
    {
     "name": "stdout",
     "output_type": "stream",
     "text": [
      "fav_fruits:  ['kiwi', 'mango']\n",
      "fav_fruits_cals  [42, 60]\n",
      "total_fruit_diet_cals: 102\n"
     ]
    }
   ],
   "source": [
    "fav_fruits = ['kiwi', 'mango']\n",
    "fav_fruits_cals = [42, 60]\n",
    "# Copy then extend fav_food and fav_food_cals\n",
    "fav_food = fav_fruits.copy() # copy\n",
    "fav_food.extend(['4cheese_pizza', 'banana_split'])\n",
    "fav_food_cals = fav_fruits_cals.copy() # copy\n",
    "fav_food_cals.extend([1200, 900])\n",
    "print('fav_fruits: ', fav_fruits)\n",
    "print('fav_fruits_cals ', fav_fruits_cals)\n",
    "total_fruit_diet_cals = sum(fav_fruits_cals)\n",
    "print('total_fruit_diet_cals:', total_fruit_diet_cals)"
   ]
  },
  {
   "cell_type": "markdown",
   "metadata": {
    "slideshow": {
     "slide_type": "subslide"
    }
   },
   "source": [
    "<img src=\"mutvar_error_articleerratum.png\">"
   ]
  },
  {
   "cell_type": "code",
   "execution_count": 113,
   "metadata": {
    "slideshow": {
     "slide_type": "fragment"
    }
   },
   "outputs": [
    {
     "name": "stdout",
     "output_type": "stream",
     "text": [
      "fav_fruits:  ['kiwi', 'mango']\n",
      "fav_food:  ['kiwi', 'mango', '4cheese_pizza', 'banana_split']\n"
     ]
    }
   ],
   "source": [
    "# Typically there are no problems such as above if you do not initialize a list with another\n",
    "fav_fruits = ['kiwi', 'mango']\n",
    "fav_food = fav_fruits + ['4cheese_pizza', 'banana_split']\n",
    "print('fav_fruits: ', fav_fruits)\n",
    "print('fav_food: ', fav_food)"
   ]
  },
  {
   "cell_type": "code",
   "execution_count": null,
   "metadata": {
    "slideshow": {
     "slide_type": "fragment"
    }
   },
   "outputs": [],
   "source": [
    "# Python overloads traditional operators in context you may not have think of\n",
    "print(['we', 'will'] * 2)"
   ]
  },
  {
   "cell_type": "code",
   "execution_count": null,
   "metadata": {
    "slideshow": {
     "slide_type": "fragment"
    }
   },
   "outputs": [],
   "source": [
    "print(['we', 'will'] * 2 + ['rock', 'you'])"
   ]
  },
  {
   "cell_type": "markdown",
   "metadata": {
    "slideshow": {
     "slide_type": "subslide"
    }
   },
   "source": [
    "## Dictionaries"
   ]
  },
  {
   "cell_type": "code",
   "execution_count": 111,
   "metadata": {
    "slideshow": {
     "slide_type": "fragment"
    }
   },
   "outputs": [],
   "source": [
    "food_cals = {\n",
    "          'kiwi': 42,\n",
    "          'mango': 60,\n",
    "          '4cheese_pizza': 1200,\n",
    "          'banana_split': 900\n",
    "          }"
   ]
  },
  {
   "cell_type": "code",
   "execution_count": 112,
   "metadata": {
    "slideshow": {
     "slide_type": "fragment"
    }
   },
   "outputs": [
    {
     "data": {
      "text/plain": [
       "60"
      ]
     },
     "execution_count": 112,
     "metadata": {},
     "output_type": "execute_result"
    }
   ],
   "source": [
    "food_cals['mango']"
   ]
  },
  {
   "cell_type": "code",
   "execution_count": 107,
   "metadata": {
    "slideshow": {
     "slide_type": "fragment"
    }
   },
   "outputs": [
    {
     "data": {
      "text/plain": [
       "dict_keys(['kiwi', '4cheese_pizza', 'mango', 'banana_split'])"
      ]
     },
     "execution_count": 107,
     "metadata": {},
     "output_type": "execute_result"
    }
   ],
   "source": [
    "food_cals.keys()"
   ]
  },
  {
   "cell_type": "code",
   "execution_count": 109,
   "metadata": {
    "slideshow": {
     "slide_type": "fragment"
    }
   },
   "outputs": [
    {
     "data": {
      "text/plain": [
       "dict_values([1200, 60, 42, 900])"
      ]
     },
     "execution_count": 109,
     "metadata": {},
     "output_type": "execute_result"
    }
   ],
   "source": [
    "food_cals.values()"
   ]
  },
  {
   "cell_type": "code",
   "execution_count": 104,
   "metadata": {
    "slideshow": {
     "slide_type": "fragment"
    }
   },
   "outputs": [
    {
     "ename": "KeyError",
     "evalue": "1",
     "output_type": "error",
     "traceback": [
      "\u001b[0;31m---------------------------------------------------------------------------\u001b[0m",
      "\u001b[0;31mKeyError\u001b[0m                                  Traceback (most recent call last)",
      "\u001b[0;32m<ipython-input-104-69ae36855740>\u001b[0m in \u001b[0;36m<module>\u001b[0;34m\u001b[0m\n\u001b[0;32m----> 1\u001b[0;31m \u001b[0mfood_cals\u001b[0m\u001b[0;34m[\u001b[0m\u001b[0;36m1\u001b[0m\u001b[0;34m]\u001b[0m\u001b[0;34m\u001b[0m\u001b[0;34m\u001b[0m\u001b[0m\n\u001b[0m",
      "\u001b[0;31mKeyError\u001b[0m: 1"
     ]
    }
   ],
   "source": [
    "food_cals[1]"
   ]
  },
  {
   "cell_type": "markdown",
   "metadata": {
    "slideshow": {
     "slide_type": "fragment"
    }
   },
   "source": [
    "## WARNING: Dictionaries are mutable"
   ]
  },
  {
   "cell_type": "markdown",
   "metadata": {
    "slideshow": {
     "slide_type": "subslide"
    }
   },
   "source": [
    "## Tuples: like lists but immutable"
   ]
  },
  {
   "cell_type": "code",
   "execution_count": 121,
   "metadata": {
    "slideshow": {
     "slide_type": "fragment"
    }
   },
   "outputs": [],
   "source": [
    "my_experiment_params = (42, 'method3', 3.14, 'paramx', 'paramy')\n",
    "office_lat_long = (46.2221685, 6.1482567)"
   ]
  },
  {
   "cell_type": "code",
   "execution_count": 115,
   "metadata": {
    "scrolled": true,
    "slideshow": {
     "slide_type": "fragment"
    }
   },
   "outputs": [
    {
     "data": {
      "text/plain": [
       "['__add__',\n",
       " '__class__',\n",
       " '__contains__',\n",
       " '__delattr__',\n",
       " '__dir__',\n",
       " '__doc__',\n",
       " '__eq__',\n",
       " '__format__',\n",
       " '__ge__',\n",
       " '__getattribute__',\n",
       " '__getitem__',\n",
       " '__getnewargs__',\n",
       " '__gt__',\n",
       " '__hash__',\n",
       " '__init__',\n",
       " '__init_subclass__',\n",
       " '__iter__',\n",
       " '__le__',\n",
       " '__len__',\n",
       " '__lt__',\n",
       " '__mul__',\n",
       " '__ne__',\n",
       " '__new__',\n",
       " '__reduce__',\n",
       " '__reduce_ex__',\n",
       " '__repr__',\n",
       " '__rmul__',\n",
       " '__setattr__',\n",
       " '__sizeof__',\n",
       " '__str__',\n",
       " '__subclasshook__',\n",
       " 'count',\n",
       " 'index']"
      ]
     },
     "execution_count": 115,
     "metadata": {},
     "output_type": "execute_result"
    }
   ],
   "source": [
    "dir(work_lat_long)"
   ]
  },
  {
   "cell_type": "code",
   "execution_count": 140,
   "metadata": {
    "slideshow": {
     "slide_type": "fragment"
    }
   },
   "outputs": [
    {
     "data": {
      "text/plain": [
       "2"
      ]
     },
     "execution_count": 140,
     "metadata": {},
     "output_type": "execute_result"
    }
   ],
   "source": [
    "# Unpack tuple (number of variables on the left should be equal to len(tuple))\n",
    "office_lat, office_long = office_lat_long"
   ]
  },
  {
   "cell_type": "code",
   "execution_count": 141,
   "metadata": {
    "slideshow": {
     "slide_type": "fragment"
    }
   },
   "outputs": [
    {
     "name": "stdout",
     "output_type": "stream",
     "text": [
      "My office latitude is 46.2221685 and its longitude is 6.1482567\n"
     ]
    }
   ],
   "source": [
    "print('My office latitude is {} and its longitude is {}'.format(office_lat, office_long))"
   ]
  },
  {
   "cell_type": "code",
   "execution_count": 142,
   "metadata": {
    "slideshow": {
     "slide_type": "fragment"
    }
   },
   "outputs": [
    {
     "name": "stdout",
     "output_type": "stream",
     "text": [
      "My office latitude is 46.2221685 and its longitude is 6.1482567\n"
     ]
    }
   ],
   "source": [
    "print('My office latitude is {lat} and its longitude is {long}'.format(lat=office_lat, long=office_long))"
   ]
  },
  {
   "cell_type": "markdown",
   "metadata": {
    "slideshow": {
     "slide_type": "subslide"
    }
   },
   "source": [
    "### Exercise 1\n",
    "1. Create a variable named `my_fruit` referring to the string 'pineapple'\n",
    "2. Using indices, slice (i.e. extract) 'pine' from your variable\n",
    "3. Use either `dir` or \"TAB\" (after writing '.' after your variable name) to display all methods applicable to your variable `my_fruit`\n",
    "4. Use the list above to find a method to test if what is in your variable `my_fruit` ends with `apple`"
   ]
  },
  {
   "cell_type": "code",
   "execution_count": null,
   "metadata": {
    "slideshow": {
     "slide_type": "skip"
    }
   },
   "outputs": [],
   "source": []
  },
  {
   "cell_type": "markdown",
   "metadata": {
    "slideshow": {
     "slide_type": "subslide"
    }
   },
   "source": [
    "### Exercise 2\n",
    "1. Create a dictionary `wish_list` representing a list of items you'd like with item names as keys and item prices as values\n",
    "2. Using your dictionary `wish_list`, print the list of item names\n",
    "3. Using your dictionary `wish_list`, print the total cost of your wish list"
   ]
  },
  {
   "cell_type": "code",
   "execution_count": null,
   "metadata": {
    "slideshow": {
     "slide_type": "skip"
    }
   },
   "outputs": [],
   "source": []
  },
  {
   "cell_type": "markdown",
   "metadata": {
    "slideshow": {
     "slide_type": "slide"
    }
   },
   "source": [
    "## Control structures"
   ]
  },
  {
   "cell_type": "markdown",
   "metadata": {
    "slideshow": {
     "slide_type": "fragment"
    }
   },
   "source": [
    "Most programs need to do repeated actions, and perform different actions according to different conditions. That is why control structures such as \"for loop\" and \"if else statements\" are essential."
   ]
  },
  {
   "cell_type": "markdown",
   "metadata": {
    "slideshow": {
     "slide_type": "subslide"
    }
   },
   "source": [
    "### For loops"
   ]
  },
  {
   "cell_type": "markdown",
   "metadata": {
    "slideshow": {
     "slide_type": "fragment"
    }
   },
   "source": [
    "A for loop will iterate for each item in a sequence. A typical example is iterating over a list of integers."
   ]
  },
  {
   "cell_type": "code",
   "execution_count": 144,
   "metadata": {
    "slideshow": {
     "slide_type": "fragment"
    }
   },
   "outputs": [
    {
     "name": "stdout",
     "output_type": "stream",
     "text": [
      "0\n",
      "1\n",
      "2\n",
      "3\n"
     ]
    }
   ],
   "source": [
    "seq = [0, 1, 2, 3]\n",
    "for i in seq:\n",
    "    print(i)"
   ]
  },
  {
   "cell_type": "markdown",
   "metadata": {
    "slideshow": {
     "slide_type": "subslide"
    }
   },
   "source": [
    "In Python, a built-in function `range` is typically used to generate this sequence. Only indicating the integer `n` to stop at (exclusive) is enough, such as in `range(n)`. Both starting and stopping integers could be used, as in `range(k, n)`. And in the latter case, a `step` can even be set, as in `range(k, n, step)`."
   ]
  },
  {
   "cell_type": "code",
   "execution_count": 146,
   "metadata": {
    "slideshow": {
     "slide_type": "fragment"
    }
   },
   "outputs": [
    {
     "name": "stdout",
     "output_type": "stream",
     "text": [
      "0\n",
      "1\n",
      "2\n"
     ]
    }
   ],
   "source": [
    "n = 3\n",
    "for i in range(n): # same as: for i in range(0, n)\n",
    "    print(i)"
   ]
  },
  {
   "cell_type": "code",
   "execution_count": 147,
   "metadata": {
    "slideshow": {
     "slide_type": "fragment"
    }
   },
   "outputs": [
    {
     "name": "stdout",
     "output_type": "stream",
     "text": [
      "1\n",
      "2\n",
      "3\n"
     ]
    }
   ],
   "source": [
    "n = 3\n",
    "for i in range(1, n+1): # remember that stopping integer is exclusive\n",
    "    print(i)"
   ]
  },
  {
   "cell_type": "code",
   "execution_count": 149,
   "metadata": {
    "slideshow": {
     "slide_type": "fragment"
    }
   },
   "outputs": [
    {
     "name": "stdout",
     "output_type": "stream",
     "text": [
      "0\n",
      "2\n"
     ]
    }
   ],
   "source": [
    "n = 3\n",
    "for i in range(0, n, 2): # the index increase by 2 at each iteration\n",
    "    print(i)"
   ]
  },
  {
   "cell_type": "markdown",
   "metadata": {
    "slideshow": {
     "slide_type": "subslide"
    }
   },
   "source": [
    "The \"for block\" is indicated by an \"indentation\" (typically 4 spaces)"
   ]
  },
  {
   "cell_type": "code",
   "execution_count": 156,
   "metadata": {
    "slideshow": {
     "slide_type": "fragment"
    }
   },
   "outputs": [
    {
     "name": "stdout",
     "output_type": "stream",
     "text": [
      "0\n",
      "launch!\n",
      "1\n",
      "launch!\n",
      "2\n",
      "launch!\n"
     ]
    }
   ],
   "source": [
    "n = 3\n",
    "for i in range(n):\n",
    "    print(i)\n",
    "    print('launch!')"
   ]
  },
  {
   "cell_type": "code",
   "execution_count": 157,
   "metadata": {
    "slideshow": {
     "slide_type": "fragment"
    }
   },
   "outputs": [
    {
     "name": "stdout",
     "output_type": "stream",
     "text": [
      "0\n",
      "1\n",
      "2\n",
      "launch!\n"
     ]
    }
   ],
   "source": [
    "n = 3\n",
    "for i in range(n):\n",
    "    print(i)\n",
    "print('launch!')"
   ]
  },
  {
   "cell_type": "markdown",
   "metadata": {
    "slideshow": {
     "slide_type": "subslide"
    }
   },
   "source": [
    "The sequence does not have to be a sequence of integers, it can be any \"iterable\"."
   ]
  },
  {
   "cell_type": "code",
   "execution_count": 152,
   "metadata": {
    "slideshow": {
     "slide_type": "fragment"
    }
   },
   "outputs": [
    {
     "name": "stdout",
     "output_type": "stream",
     "text": [
      "kiwi\n",
      "mango\n",
      "papaya\n"
     ]
    }
   ],
   "source": [
    "fav_fruits = ['kiwi', 'mango', 'papaya']\n",
    "for fruit in fav_fruits:\n",
    "    print(fruit)"
   ]
  },
  {
   "cell_type": "markdown",
   "metadata": {
    "slideshow": {
     "slide_type": "fragment"
    }
   },
   "source": [
    "Python allows for concise and elegant syntax and this shows when extracting both the iterating index and the corresponding item."
   ]
  },
  {
   "cell_type": "code",
   "execution_count": 154,
   "metadata": {
    "slideshow": {
     "slide_type": "fragment"
    }
   },
   "outputs": [
    {
     "name": "stdout",
     "output_type": "stream",
     "text": [
      "Rank 1: kiwi\n",
      "Rank 2: mango\n",
      "Rank 3: papaya\n"
     ]
    }
   ],
   "source": [
    "# Other programming language\n",
    "n = len(fav_fruits)\n",
    "for i in range(n):\n",
    "    fruit = fav_fruits[i]\n",
    "    print('Rank {}: {}'.format(i+1, fruit))"
   ]
  },
  {
   "cell_type": "code",
   "execution_count": 155,
   "metadata": {
    "slideshow": {
     "slide_type": "fragment"
    }
   },
   "outputs": [
    {
     "name": "stdout",
     "output_type": "stream",
     "text": [
      "Rank 1: kiwi\n",
      "Rank 2: mango\n",
      "Rank 3: papaya\n"
     ]
    }
   ],
   "source": [
    "# Python uses the built-in function \"enumerate\" to extract both index and item at the same time\n",
    "for i, fruit in enumerate(fav_fruits):\n",
    "    print('Rank {}: {}'.format(i+1, fruit))"
   ]
  },
  {
   "cell_type": "markdown",
   "metadata": {
    "slideshow": {
     "slide_type": "subslide"
    }
   },
   "source": [
    "This shows as well when iterating over dictionary items."
   ]
  },
  {
   "cell_type": "code",
   "execution_count": 158,
   "metadata": {
    "slideshow": {
     "slide_type": "fragment"
    }
   },
   "outputs": [],
   "source": [
    "food_cals = {\n",
    "          'kiwi': 42,\n",
    "          'mango': 60,\n",
    "          '4cheese_pizza': 1200,\n",
    "          'banana_split': 900\n",
    "          }"
   ]
  },
  {
   "cell_type": "code",
   "execution_count": 159,
   "metadata": {
    "slideshow": {
     "slide_type": "fragment"
    }
   },
   "outputs": [
    {
     "name": "stdout",
     "output_type": "stream",
     "text": [
      "Food item kiwi has 42 calories\n",
      "Food item mango has 60 calories\n",
      "Food item 4cheese_pizza has 1200 calories\n",
      "Food item banana_split has 900 calories\n"
     ]
    }
   ],
   "source": [
    "# Other programming language\n",
    "all_food_names = food_cals.keys()\n",
    "for food_name in all_food_names:\n",
    "    n_cals = food_cals[food_name]\n",
    "    print('Food item {} has {} calories'.format(food_name, n_cals))"
   ]
  },
  {
   "cell_type": "code",
   "execution_count": 160,
   "metadata": {
    "slideshow": {
     "slide_type": "fragment"
    }
   },
   "outputs": [
    {
     "name": "stdout",
     "output_type": "stream",
     "text": [
      "Food item kiwi has 42 calories\n",
      "Food item mango has 60 calories\n",
      "Food item 4cheese_pizza has 1200 calories\n",
      "Food item banana_split has 900 calories\n"
     ]
    }
   ],
   "source": [
    "# Python extract directly the (key, val) pairs with the \"items\" method function\n",
    "for food_name, n_cals in food_cals.items():\n",
    "    print('Food item {} has {} calories'.format(food_name, n_cals))"
   ]
  },
  {
   "cell_type": "markdown",
   "metadata": {
    "slideshow": {
     "slide_type": "slide"
    }
   },
   "source": [
    "## If - else statements"
   ]
  },
  {
   "cell_type": "markdown",
   "metadata": {
    "slideshow": {
     "slide_type": "fragment"
    }
   },
   "source": [
    "An \"if - else\" statement allows to execute commands only if a logical expression is True. The logical expression is called \"Boolean expression\" and is always either True or False. If False the block of commands is not executed."
   ]
  },
  {
   "cell_type": "code",
   "execution_count": 164,
   "metadata": {
    "slideshow": {
     "slide_type": "fragment"
    }
   },
   "outputs": [],
   "source": [
    "# Exam for which grade < 5 is fail, grade = 5 requires to resit exam, and grade > 5 is a pass\n",
    "grade = 7\n",
    "if grade < 5:\n",
    "    print(\"Grade too low\")"
   ]
  },
  {
   "cell_type": "markdown",
   "metadata": {
    "slideshow": {
     "slide_type": "fragment"
    }
   },
   "source": [
    "An `else` statement is executed if the `if` statement is false"
   ]
  },
  {
   "cell_type": "code",
   "execution_count": 165,
   "metadata": {
    "slideshow": {
     "slide_type": "fragment"
    }
   },
   "outputs": [
    {
     "name": "stdout",
     "output_type": "stream",
     "text": [
      "Grade high enough\n"
     ]
    }
   ],
   "source": [
    "grade = 7\n",
    "if grade < 5:\n",
    "    print(\"Grade too low\")\n",
    "else:\n",
    "    print(\"Grade high enough\")"
   ]
  },
  {
   "cell_type": "markdown",
   "metadata": {
    "slideshow": {
     "slide_type": "subslide"
    }
   },
   "source": [
    "One or more `elif` statements can be added to add tests. Tests are always evaluated only once, in order."
   ]
  },
  {
   "cell_type": "code",
   "execution_count": 235,
   "metadata": {
    "slideshow": {
     "slide_type": "fragment"
    }
   },
   "outputs": [
    {
     "name": "stdout",
     "output_type": "stream",
     "text": [
      "Grade high enough\n"
     ]
    }
   ],
   "source": [
    "grade = 7\n",
    "if grade < 5:\n",
    "    print(\"Grade too low\")\n",
    "elif  grade == 5:\n",
    "    print(\"Please resit exam\")\n",
    "elif grade < 8:\n",
    "    print(\"Grade high enough\")\n",
    "elif grade <= 10:\n",
    "    print(\"Excellent grade\")\n",
    "else:\n",
    "    print(\"Your grade is greater than 10!\")"
   ]
  },
  {
   "cell_type": "markdown",
   "metadata": {
    "slideshow": {
     "slide_type": "subslide"
    }
   },
   "source": [
    "Boolean expressions can be combined with boolean operators: `and`, `or` or `not`. Below is an example with a dictionary having as values other dictionaries (values can be any objects)."
   ]
  },
  {
   "cell_type": "code",
   "execution_count": 178,
   "metadata": {
    "slideshow": {
     "slide_type": "fragment"
    }
   },
   "outputs": [],
   "source": [
    "shopping_list = {\n",
    "              'kiwi': {'cals': 42, 'price': 2},\n",
    "              'mango': {'cals': 60, 'price': 5},\n",
    "              '4cheese-pizza': {'cals': 1200, 'price': 18},\n",
    "              'banana split': {'cals': 900, 'price': 9}\n",
    "              }"
   ]
  },
  {
   "cell_type": "code",
   "execution_count": 234,
   "metadata": {
    "slideshow": {
     "slide_type": "fragment"
    }
   },
   "outputs": [
    {
     "name": "stdout",
     "output_type": "stream",
     "text": [
      "Dinner tonight could be banana split\n"
     ]
    }
   ],
   "source": [
    "for food_name, food_info in shopping_list.items():\n",
    "    if (not food_info['cals'] < 500) and (food_info['price'] < 15):\n",
    "        print('Dinner tonight could be {}'.format(food_name))"
   ]
  },
  {
   "cell_type": "markdown",
   "metadata": {
    "slideshow": {
     "slide_type": "subslide"
    }
   },
   "source": [
    "### Exercise\n",
    "1. Create a variable 'my_dict' referring to a dictionary (any content is fine)\n",
    "2. Loop on all methods available for this dictionary, and only print the ones NOT starting with an underscore"
   ]
  },
  {
   "cell_type": "code",
   "execution_count": null,
   "metadata": {
    "slideshow": {
     "slide_type": "skip"
    }
   },
   "outputs": [],
   "source": []
  },
  {
   "cell_type": "markdown",
   "metadata": {
    "slideshow": {
     "slide_type": "slide"
    }
   },
   "source": [
    "## Functions"
   ]
  },
  {
   "cell_type": "markdown",
   "metadata": {
    "slideshow": {
     "slide_type": "fragment"
    }
   },
   "source": [
    "A function allows you to group *a logical unit set of commands*, which has a specific aim, into **a single entity**. This way you can reuse that function every time you want to achieve that aim. \n",
    "\n",
    "The aim can be very simple such has finding the maximum of a list (function `max`), its length (function `len`) or more complex (finding each unique element and count how many times it occurs )."
   ]
  },
  {
   "cell_type": "code",
   "execution_count": 236,
   "metadata": {
    "slideshow": {
     "slide_type": "fragment"
    }
   },
   "outputs": [],
   "source": [
    "def comment_grade(grade):\n",
    "    if grade < 5:\n",
    "        return('Grade too low')\n",
    "    else:\n",
    "        return('Grade high enough')"
   ]
  },
  {
   "cell_type": "markdown",
   "metadata": {
    "slideshow": {
     "slide_type": "subslide"
    }
   },
   "source": [
    "A function can have optional arguments, always indicated after the compulsory arguments."
   ]
  },
  {
   "cell_type": "code",
   "execution_count": null,
   "metadata": {
    "slideshow": {
     "slide_type": "fragment"
    }
   },
   "outputs": [],
   "source": [
    "def comment_grade(grade, mode = 'normal'):\n",
    "    if grade < 5:\n",
    "        return('Grade too low')\n",
    "    elif grade > 5:\n",
    "        if mode == 'normal':\n",
    "            return('Grade high enough')\n",
    "        elif mode == 'positive_reinforcement':\n",
    "            return('Well done, keep going!')"
   ]
  },
  {
   "cell_type": "markdown",
   "metadata": {
    "slideshow": {
     "slide_type": "fragment"
    }
   },
   "source": [
    "A function can also have no arguments at all. And return nothing."
   ]
  },
  {
   "cell_type": "code",
   "execution_count": 12,
   "metadata": {
    "slideshow": {
     "slide_type": "fragment"
    }
   },
   "outputs": [],
   "source": [
    "def say_hello():\n",
    "    print('hello')"
   ]
  },
  {
   "cell_type": "markdown",
   "metadata": {
    "slideshow": {
     "slide_type": "subslide"
    }
   },
   "source": [
    "When you write a function, you need to document it. This will be used to automatically generate help and documentation, and also help anyone (including yourself) better understanding what it does."
   ]
  },
  {
   "cell_type": "code",
   "execution_count": null,
   "metadata": {
    "slideshow": {
     "slide_type": "fragment"
    }
   },
   "outputs": [],
   "source": [
    "def comment_grade(grade, mode = 'normal'):\n",
    "    ''' Provide a feedback according to the grade value\n",
    "    \n",
    "        Parameters\n",
    "        ----------\n",
    "        grade : int\n",
    "            The amount of distance traveled\n",
    "        mode : str\n",
    "            The feedback mode, either \"normal\" (default) or \"positive_reinforcement\"\n",
    "\n",
    "        Returns\n",
    "        -------\n",
    "        comment : str\n",
    "            The grade feedback\n",
    "    '''\n",
    "    if grade < 5:\n",
    "        return('Grade too low')\n",
    "    elif grade > 5:\n",
    "        if mode == 'normal':\n",
    "            return('Grade high enough')\n",
    "        elif mode == 'positive_reinforcement':\n",
    "            return('Well done, keep going!')"
   ]
  },
  {
   "cell_type": "markdown",
   "metadata": {
    "slideshow": {
     "slide_type": "subslide"
    }
   },
   "source": [
    "Best practice is now to use Python \"type hints\" for the function arguments and return values. You can remove this information from the documentation since it is redundant. In addition of all benefits mentioned above, this information can also be used by the IDEs."
   ]
  },
  {
   "cell_type": "code",
   "execution_count": 5,
   "metadata": {
    "slideshow": {
     "slide_type": "fragment"
    }
   },
   "outputs": [],
   "source": [
    "def comment_grade(grade: int, mode: str = 'normal') -> str:\n",
    "    ''' Provide a feedback according to the grade value\n",
    "    \n",
    "        Parameters\n",
    "        ----------\n",
    "        grade\n",
    "            The amount of distance traveled\n",
    "        mode\n",
    "            The feedback mode, either \"normal\" (default) or \"positive_reinforcement\"\n",
    "\n",
    "        Returns\n",
    "        -------\n",
    "        comment\n",
    "            The grade feedback\n",
    "    '''\n",
    "    if grade < 5:\n",
    "        return('Grade too low')\n",
    "    elif grade > 5:\n",
    "        if mode == 'normal':\n",
    "            return('Grade high enough')\n",
    "        elif mode == 'positive_reinforcement':\n",
    "            return('Well done, keep going!')"
   ]
  },
  {
   "cell_type": "code",
   "execution_count": 6,
   "metadata": {
    "slideshow": {
     "slide_type": "subslide"
    }
   },
   "outputs": [],
   "source": [
    "student_results = {\n",
    "               'John': 3,\n",
    "               'Mary': 9,\n",
    "               'Peter': 5\n",
    "               }"
   ]
  },
  {
   "cell_type": "code",
   "execution_count": 7,
   "metadata": {
    "slideshow": {
     "slide_type": "fragment"
    }
   },
   "outputs": [
    {
     "name": "stdout",
     "output_type": "stream",
     "text": [
      "Feedback for John: Grade too low\n",
      "Feedback for Mary: Well done, keep going!\n",
      "Feedback for Peter: None\n"
     ]
    }
   ],
   "source": [
    "for s_name, s_grade in student_results.items():\n",
    "    s_feedback = comment_grade(s_grade, mode='positive_reinforcement')\n",
    "    print('Feedback for {}: {}'.format(s_name, s_feedback))"
   ]
  },
  {
   "cell_type": "markdown",
   "metadata": {
    "slideshow": {
     "slide_type": "fragment"
    }
   },
   "source": [
    "### A special Python keyword: None"
   ]
  },
  {
   "cell_type": "markdown",
   "metadata": {
    "slideshow": {
     "slide_type": "fragment"
    }
   },
   "source": [
    "`None` is a case-sensitive keyword to state that a variable does not have any value (like \"null\" in other languages). `None` is not the same as `0`, `False`, or an empty string. `None` has a datatype of its own."
   ]
  },
  {
   "cell_type": "code",
   "execution_count": 1,
   "metadata": {
    "slideshow": {
     "slide_type": "fragment"
    }
   },
   "outputs": [
    {
     "name": "stdout",
     "output_type": "stream",
     "text": [
      "<class 'NoneType'>\n"
     ]
    }
   ],
   "source": [
    "a = None\n",
    "print(type(a))"
   ]
  },
  {
   "cell_type": "markdown",
   "metadata": {
    "slideshow": {
     "slide_type": "subslide"
    }
   },
   "source": [
    "A function always return something. So if nothing is explicitely returned by the function, the return value is `None`."
   ]
  },
  {
   "cell_type": "code",
   "execution_count": 1,
   "metadata": {
    "slideshow": {
     "slide_type": "fragment"
    }
   },
   "outputs": [
    {
     "name": "stdout",
     "output_type": "stream",
     "text": [
      "The output of extend is None\n"
     ]
    }
   ],
   "source": [
    "test_list = [\"a\", \"b\", \"c\"]\n",
    "output_extend = test_list.extend([\"d\", \"e\"])\n",
    "print('The output of extend is {}'.format(output_extend))"
   ]
  },
  {
   "cell_type": "markdown",
   "metadata": {
    "slideshow": {
     "slide_type": "subslide"
    }
   },
   "source": [
    "## Proper Python code development: use an IDE (e.g. Visual Studio Code)"
   ]
  },
  {
   "cell_type": "code",
   "execution_count": 5,
   "metadata": {
    "slideshow": {
     "slide_type": "subslide"
    }
   },
   "outputs": [
    {
     "name": "stdout",
     "output_type": "stream",
     "text": [
      "Feedback for Elisa: Well done, keep going!\n",
      "Feedback for Danny: Grade too low\n",
      "Feedback for Kate: Well done, keep going!\n"
     ]
    }
   ],
   "source": [
    "import exam1\n",
    "#from exam1 import print_student_feedback\n",
    "#from exam1 import print_student_feedback as print_feedback\n",
    "new_student_results = {\n",
    "               'Elisa': 8,\n",
    "               'Danny': 4,\n",
    "               'Kate': 6\n",
    "               }\n",
    "exam1.print_student_feedback(new_student_results)"
   ]
  },
  {
   "cell_type": "code",
   "execution_count": 12,
   "metadata": {
    "slideshow": {
     "slide_type": "fragment"
    }
   },
   "outputs": [
    {
     "name": "stdout",
     "output_type": "stream",
     "text": [
      "Feedback for Elisa: Well done, keep going!\n",
      "Feedback for Danny: Grade too low\n",
      "Feedback for Kate: Well done, keep going!\n"
     ]
    }
   ],
   "source": [
    "#import exam1\n",
    "#from exam1 import print_student_feedback\n",
    "from exam1 import print_student_feedback as print_feedback\n",
    "new_student_results = {\n",
    "               'Elisa': 8,\n",
    "               'Danny': 4,\n",
    "               'Kate': 6\n",
    "               }\n",
    "print_feedback(new_student_results)"
   ]
  },
  {
   "cell_type": "markdown",
   "metadata": {
    "slideshow": {
     "slide_type": "subslide"
    }
   },
   "source": [
    "### Exercise\n",
    "0. Consider the two cells below\n",
    "1. Create a new file in VS Code (File --> New File) and save it in the directory `vs_tut` with the name you want (but with .py extension)\n",
    "2. Group the imports found in the two cells at the top of this new file\n",
    "3. Create two functions, one associated to each cell:\n",
    "    1. first cell: the function has no arguments and returns the astro_names list\n",
    "    2. second cell: the function has the number of trials and the trial pause as arguments, and returns a list of the iss_info strings (generated for for all trials)\n",
    "4. (If enough time) Import the module in the Jupyter notebook (the module name is  your filename without the .py extension) and call one of the functions (or both)\n",
    "5. (If enough time) Go back to VS Code, define a toy example which will be run if __main__ == '__main__', and test that:\n",
    "    1. You can run it on the terminal\n",
    "    2. Importing it as a module in Jupyter Notebook (or a new file in VS Code) will not run the code on the toy example\n",
    "    \n",
    "Tip: only focus on defining the functions first, and only add the hint types and documentation if you have time"
   ]
  },
  {
   "cell_type": "code",
   "execution_count": 17,
   "metadata": {
    "slideshow": {
     "slide_type": "subslide"
    }
   },
   "outputs": [
    {
     "name": "stdout",
     "output_type": "stream",
     "text": [
      "['Andrew Morgan', 'Oleg Skripochka', 'Jessica Meir']\n"
     ]
    }
   ],
   "source": [
    "# CELL 1 for exercise\n",
    "import requests\n",
    "# Get the names of astronauts on board the ISS \n",
    "astros_json = requests.get('http://api.open-notify.org/astros.json').json()\n",
    "astro_names = []\n",
    "for astro_info in astros_json['people']:\n",
    "    astro_names.append(astro_info['name'])\n",
    "# Note: equivalent to astro_names = [astro_info['name'] for astro_info in astros_json['people']]\n",
    "print(astro_names)"
   ]
  },
  {
   "cell_type": "code",
   "execution_count": 16,
   "metadata": {
    "slideshow": {
     "slide_type": "subslide"
    }
   },
   "outputs": [
    {
     "name": "stdout",
     "output_type": "stream",
     "text": [
      "At 19-Feb-2020 14:26:15, the ISS was above Baie aux Huîtres in Mauritius\n",
      "At 19-Feb-2020 14:26:20, the ISS was above Baie aux Huîtres in Mauritius\n",
      "At 19-Feb-2020 14:26:25, the ISS was above Port-aux-Français in French Southern Territories\n"
     ]
    }
   ],
   "source": [
    "# CELL 2 for exercise\n",
    "import time\n",
    "from datetime import datetime\n",
    "import reverse_geocode\n",
    "\n",
    "n_trials = 3\n",
    "trial_pause_seconds = 5\n",
    "for i_trial in range(n_trials):\n",
    "    # Get date and time\n",
    "    date_time_now = datetime.now()\n",
    "    time_str = date_time_now.strftime(\"%d-%b-%Y %H:%M:%S\")\n",
    "    # ISS position\n",
    "    issnow_json = requests.get('http://api.open-notify.org/iss-now.json').json()\n",
    "    if issnow_json['message']  == 'success':\n",
    "        iss_latlong = (issnow_json['iss_position']['latitude'], \n",
    "                       issnow_json['iss_position']['longitude'])\n",
    "        # The search method expects a list and returns a list.\n",
    "        # Hence we need to coerce a single value latlong to a list with [latlong]\n",
    "        # Afterwards we need to extract the result, itself a single-item list, with result_list[0]\n",
    "        iss_pos_list = reverse_geocode.search([iss_latlong])\n",
    "        iss_pos = iss_pos_list[0]\n",
    "        iss_info = 'At {}, the ISS was above {} in {}'.format(time_str, iss_pos['city'], iss_pos['country'])\n",
    "        print(iss_info)\n",
    "        time.sleep(trial_pause_seconds)"
   ]
  },
  {
   "cell_type": "markdown",
   "metadata": {
    "slideshow": {
     "slide_type": "slide"
    }
   },
   "source": [
    "## Numerical analysis and plotting with numpy and matplotlib "
   ]
  },
  {
   "cell_type": "code",
   "execution_count": 1,
   "metadata": {
    "slideshow": {
     "slide_type": "skip"
    }
   },
   "outputs": [
    {
     "name": "stderr",
     "output_type": "stream",
     "text": [
      "/home/brainhacker/pyutils/miniconda3/envs/sci37/lib/python3.7/site-packages/IPython/nbformat.py:13: ShimWarning: The `IPython.nbformat` package has been deprecated since IPython 4.0. You should import from nbformat instead.\n",
      "  \"You should import from nbformat instead.\", ShimWarning)\n"
     ]
    },
    {
     "name": "stdout",
     "output_type": "stream",
     "text": [
      "Starting MATLAB on ZMQ socket ipc:///tmp/pymatbridge-adde77ad-3e37-4edc-bf71-140e52f0c696\n",
      "Send 'exit' command to kill the server\n",
      ".....MATLAB started and connected!\n"
     ]
    }
   ],
   "source": [
    "%load_ext pymatbridge"
   ]
  },
  {
   "cell_type": "markdown",
   "metadata": {
    "slideshow": {
     "slide_type": "fragment"
    }
   },
   "source": [
    "Numpy is an essential package for scientific computing in python. At its core are n-dimensional arrays, called  ndarrays. \n",
    "\n",
    "ndarrays can be considered as \"homogeneous\" (same-type elements) nested lists having fixed size in a given dimension."
   ]
  },
  {
   "cell_type": "code",
   "execution_count": 2,
   "metadata": {
    "slideshow": {
     "slide_type": "fragment"
    }
   },
   "outputs": [],
   "source": [
    "import numpy as np"
   ]
  },
  {
   "cell_type": "code",
   "execution_count": 3,
   "metadata": {
    "slideshow": {
     "slide_type": "fragment"
    }
   },
   "outputs": [
    {
     "data": {
      "text/plain": [
       "array([2, 3, 5])"
      ]
     },
     "execution_count": 3,
     "metadata": {},
     "output_type": "execute_result"
    }
   ],
   "source": [
    "a_1d_list = [2, 3, 5]\n",
    "a_1d = np.array(a_1d_list)\n",
    "a_1d"
   ]
  },
  {
   "cell_type": "code",
   "execution_count": 4,
   "metadata": {
    "slideshow": {
     "slide_type": "fragment"
    }
   },
   "outputs": [
    {
     "data": {
      "text/plain": [
       "array([4, 6, 7])"
      ]
     },
     "execution_count": 4,
     "metadata": {},
     "output_type": "execute_result"
    }
   ],
   "source": [
    "b_1d = np.array([4, 6, 7])\n",
    "b_1d"
   ]
  },
  {
   "cell_type": "markdown",
   "metadata": {
    "slideshow": {
     "slide_type": "subslide"
    }
   },
   "source": [
    "Operations are very similar to Matlab (for those familier with it), but **careful with indices and slicing**."
   ]
  },
  {
   "cell_type": "code",
   "execution_count": 8,
   "metadata": {
    "slideshow": {
     "slide_type": "fragment"
    }
   },
   "outputs": [
    {
     "data": {
      "text/plain": [
       "array([0.        , 0.06342392, 0.12659245])"
      ]
     },
     "execution_count": 8,
     "metadata": {},
     "output_type": "execute_result"
    }
   ],
   "source": [
    "x = np.linspace(0, 2*np.pi, 100)\n",
    "y = np.sin(x)\n",
    "y[0:3]"
   ]
  },
  {
   "cell_type": "code",
   "execution_count": 9,
   "metadata": {
    "slideshow": {
     "slide_type": "fragment"
    }
   },
   "outputs": [
    {
     "data": {
      "text/plain": [
       "\n",
       "ans =\n",
       "\n",
       "         0    0.0634    0.1266\n",
       "\n"
      ]
     },
     "metadata": {},
     "output_type": "display_data"
    }
   ],
   "source": [
    "%%matlab\n",
    "x = linspace(0, 2*pi, 100);\n",
    "y = sin(x);\n",
    "y(1:3)"
   ]
  },
  {
   "cell_type": "markdown",
   "metadata": {
    "slideshow": {
     "slide_type": "subslide"
    }
   },
   "source": [
    "Similar functions but different \"defaults\""
   ]
  },
  {
   "cell_type": "code",
   "execution_count": 88,
   "metadata": {
    "slideshow": {
     "slide_type": "fragment"
    }
   },
   "outputs": [],
   "source": [
    "a_2d = np.array([[2, 3, 5], \n",
    "                 [8, 12, 16], \n",
    "                 [18, 22, 26],\n",
    "                 [27, 31, 40]] )"
   ]
  },
  {
   "cell_type": "code",
   "execution_count": 106,
   "metadata": {
    "slideshow": {
     "slide_type": "fragment"
    }
   },
   "outputs": [
    {
     "name": "stdout",
     "output_type": "stream",
     "text": [
      "(4, 3)\n",
      "17.0\n",
      "[13. 17. 21.]\n"
     ]
    }
   ],
   "source": [
    "print(a_2d.shape)\n",
    "print(np.median(a_2d))\n",
    "print(np.median(a_2d, axis=0))"
   ]
  },
  {
   "cell_type": "code",
   "execution_count": 105,
   "metadata": {
    "slideshow": {
     "slide_type": "fragment"
    }
   },
   "outputs": [
    {
     "data": {
      "text/plain": [
       "size A:      4     3\n",
       "\n",
       "m:     17\n",
       "\n",
       "M:     13    17    21\n",
       "\n"
      ]
     },
     "metadata": {},
     "output_type": "display_data"
    }
   ],
   "source": [
    "%%matlab\n",
    "A = [2 3 5; 8 12 16; 18 22 26; 27 31 40];\n",
    "fprintf('size A: '); disp(size(A))\n",
    "m = median(A, 'all');\n",
    "fprintf('m: '); disp(m)\n",
    "M = median(A);\n",
    "fprintf('M: '); disp(M)"
   ]
  },
  {
   "cell_type": "markdown",
   "metadata": {
    "slideshow": {
     "slide_type": "subslide"
    }
   },
   "source": [
    "You can make up arrays quickly"
   ]
  },
  {
   "cell_type": "code",
   "execution_count": 46,
   "metadata": {
    "slideshow": {
     "slide_type": "fragment"
    }
   },
   "outputs": [],
   "source": [
    "zeros_3by2 = np.zeros((3, 2))        \n",
    "ones_4by3 = np.ones((4, 3))\n",
    "eight_3by2 = np.full((3, 2), 8)  \n",
    "diag_of_5 = np.eye(5)        "
   ]
  },
  {
   "cell_type": "markdown",
   "metadata": {
    "slideshow": {
     "slide_type": "subslide"
    }
   },
   "source": [
    "You can index them the usual way as for lists."
   ]
  },
  {
   "cell_type": "code",
   "execution_count": 37,
   "metadata": {},
   "outputs": [
    {
     "data": {
      "text/plain": [
       "array([[ 80,  80],\n",
       "       [288, 288],\n",
       "       [528, 528],\n",
       "       [784, 784]])"
      ]
     },
     "execution_count": 37,
     "metadata": {},
     "output_type": "execute_result"
    }
   ],
   "source": [
    "a_2d.dot(eight_3by2)"
   ]
  },
  {
   "cell_type": "code",
   "execution_count": 28,
   "metadata": {
    "slideshow": {
     "slide_type": "fragment"
    }
   },
   "outputs": [
    {
     "name": "stdout",
     "output_type": "stream",
     "text": [
      "[[ 2  3  5]\n",
      " [ 8 12 16]\n",
      " [18 22 26]\n",
      " [27 31 40]]\n"
     ]
    }
   ],
   "source": [
    "print(a_2d)"
   ]
  },
  {
   "cell_type": "code",
   "execution_count": 29,
   "metadata": {
    "slideshow": {
     "slide_type": "fragment"
    }
   },
   "outputs": [
    {
     "name": "stdout",
     "output_type": "stream",
     "text": [
      "[[ 8 12]\n",
      " [18 22]\n",
      " [27 31]]\n"
     ]
    }
   ],
   "source": [
    "print(a_2d[1:4, :2])"
   ]
  },
  {
   "cell_type": "markdown",
   "metadata": {
    "slideshow": {
     "slide_type": "subslide"
    }
   },
   "source": [
    "Careful of changes of dimensions. Use slicing to keep dimensions."
   ]
  },
  {
   "cell_type": "code",
   "execution_count": 107,
   "metadata": {},
   "outputs": [
    {
     "data": {
      "text/plain": [
       "array([[ 2,  3,  5],\n",
       "       [ 8, 12, 16],\n",
       "       [18, 22, 26],\n",
       "       [27, 31, 40]])"
      ]
     },
     "execution_count": 107,
     "metadata": {},
     "output_type": "execute_result"
    }
   ],
   "source": [
    "a_2d"
   ]
  },
  {
   "cell_type": "code",
   "execution_count": 32,
   "metadata": {
    "slideshow": {
     "slide_type": "fragment"
    }
   },
   "outputs": [
    {
     "name": "stdout",
     "output_type": "stream",
     "text": [
      "Result of shape (2,): [ 8 12]\n"
     ]
    }
   ],
   "source": [
    "a_2d_row2 = a_2d[1, :2] \n",
    "print('Result of shape {}: {}'.format(a_2d_row2.shape, a_2d_row2))"
   ]
  },
  {
   "cell_type": "code",
   "execution_count": 33,
   "metadata": {
    "slideshow": {
     "slide_type": "fragment"
    }
   },
   "outputs": [
    {
     "name": "stdout",
     "output_type": "stream",
     "text": [
      "Result of shape (1, 2): [[ 8 12]]\n"
     ]
    }
   ],
   "source": [
    "a_2d_submat = a_2d[1:2, :2]\n",
    "print('Result of shape {}: {}'.format(a_2d_submat.shape, a_2d_submat))"
   ]
  },
  {
   "cell_type": "markdown",
   "metadata": {
    "slideshow": {
     "slide_type": "subslide"
    }
   },
   "source": [
    "You can create boolean arrays for masking"
   ]
  },
  {
   "cell_type": "code",
   "execution_count": 45,
   "metadata": {
    "slideshow": {
     "slide_type": "fragment"
    }
   },
   "outputs": [
    {
     "data": {
      "text/plain": [
       "array([[ 2,  3,  5],\n",
       "       [ 0,  0,  0],\n",
       "       [ 0, 22, 26],\n",
       "       [27, 31, 40]])"
      ]
     },
     "execution_count": 45,
     "metadata": {},
     "output_type": "execute_result"
    }
   ],
   "source": [
    "a_2d[np.logical_and(a_2d>5, a_2d<20)] = 0\n",
    "a_2d"
   ]
  },
  {
   "cell_type": "markdown",
   "metadata": {
    "slideshow": {
     "slide_type": "subslide"
    }
   },
   "source": [
    "And do typical operations. But careful of difference with Matlab: in Python `*` is element-wise multiplication. You need to use `dot` method for matrix dot product. Use `T` method for transpose."
   ]
  },
  {
   "cell_type": "code",
   "execution_count": 47,
   "metadata": {
    "slideshow": {
     "slide_type": "fragment"
    }
   },
   "outputs": [
    {
     "data": {
      "text/plain": [
       "array([[ 2.,  3.,  5.],\n",
       "       [ 0.,  0.,  0.],\n",
       "       [ 0., 22., 26.],\n",
       "       [27., 31., 40.]])"
      ]
     },
     "execution_count": 47,
     "metadata": {},
     "output_type": "execute_result"
    }
   ],
   "source": [
    "a_2d * ones_4by3"
   ]
  },
  {
   "cell_type": "code",
   "execution_count": 48,
   "metadata": {
    "slideshow": {
     "slide_type": "fragment"
    }
   },
   "outputs": [
    {
     "data": {
      "text/plain": [
       "array([[10., 10., 10., 10.],\n",
       "       [ 0.,  0.,  0.,  0.],\n",
       "       [48., 48., 48., 48.],\n",
       "       [98., 98., 98., 98.]])"
      ]
     },
     "execution_count": 48,
     "metadata": {},
     "output_type": "execute_result"
    }
   ],
   "source": [
    "a_2d.dot(ones_4by3.T)"
   ]
  },
  {
   "cell_type": "markdown",
   "metadata": {
    "slideshow": {
     "slide_type": "subslide"
    }
   },
   "source": [
    "`matplotlib` is a core Python plotting library, working particularly well with `numpy`."
   ]
  },
  {
   "cell_type": "code",
   "execution_count": 18,
   "metadata": {
    "slideshow": {
     "slide_type": "fragment"
    }
   },
   "outputs": [],
   "source": [
    "from matplotlib import pyplot as plt\n",
    "%matplotlib inline"
   ]
  },
  {
   "cell_type": "markdown",
   "metadata": {
    "slideshow": {
     "slide_type": "subslide"
    }
   },
   "source": [
    "Plot points"
   ]
  },
  {
   "cell_type": "code",
   "execution_count": 83,
   "metadata": {
    "slideshow": {
     "slide_type": "fragment"
    }
   },
   "outputs": [
    {
     "data": {
      "text/plain": [
       "[<matplotlib.lines.Line2D at 0x7fb1f3896910>]"
      ]
     },
     "execution_count": 83,
     "metadata": {},
     "output_type": "execute_result"
    },
    {
     "data": {
      "image/png": "[encoded data removed]",
      "text/plain": [
       "<Figure size 432x144 with 1 Axes>"
      ]
     },
     "metadata": {
      "needs_background": "light"
     },
     "output_type": "display_data"
    }
   ],
   "source": [
    "a_1d = np.array([2, 3, 5])\n",
    "b_1d = np.array([4, 6, 7])\n",
    "plt.figure(figsize=(6,2))\n",
    "plt.plot(a_1d, b_1d)"
   ]
  },
  {
   "cell_type": "code",
   "execution_count": 84,
   "metadata": {
    "slideshow": {
     "slide_type": "fragment"
    }
   },
   "outputs": [
    {
     "data": {
      "text/plain": [
       "(0, 6)"
      ]
     },
     "execution_count": 84,
     "metadata": {},
     "output_type": "execute_result"
    },
    {
     "data": {
      "image/png": "[encoded data removed]",
      "text/plain": [
       "<Figure size 432x144 with 1 Axes>"
      ]
     },
     "metadata": {
      "needs_background": "light"
     },
     "output_type": "display_data"
    }
   ],
   "source": [
    "plt.figure(figsize=(6,2))\n",
    "plt.scatter(a_1d, b_1d)\n",
    "plt.xlim((0, 6))"
   ]
  },
  {
   "cell_type": "markdown",
   "metadata": {
    "slideshow": {
     "slide_type": "subslide"
    }
   },
   "source": [
    "Plot curves"
   ]
  },
  {
   "cell_type": "code",
   "execution_count": 85,
   "metadata": {
    "slideshow": {
     "slide_type": "fragment"
    }
   },
   "outputs": [
    {
     "data": {
      "text/plain": [
       "[<matplotlib.lines.Line2D at 0x7fb1f3653b50>]"
      ]
     },
     "execution_count": 85,
     "metadata": {},
     "output_type": "execute_result"
    },
    {
     "data": {
      "image/png": "[encoded data removed]",
      "text/plain": [
       "<Figure size 432x144 with 1 Axes>"
      ]
     },
     "metadata": {
      "needs_background": "light"
     },
     "output_type": "display_data"
    }
   ],
   "source": [
    "x = np.linspace(0, 2*np.pi, 100)\n",
    "y_sin = np.sin(x)\n",
    "plt.figure(figsize=(6,2))\n",
    "plt.plot(x, y_sin)"
   ]
  },
  {
   "cell_type": "markdown",
   "metadata": {
    "slideshow": {
     "slide_type": "subslide"
    }
   },
   "source": [
    "... on the same figure"
   ]
  },
  {
   "cell_type": "code",
   "execution_count": 86,
   "metadata": {
    "slideshow": {
     "slide_type": "fragment"
    }
   },
   "outputs": [
    {
     "data": {
      "text/plain": [
       "<matplotlib.legend.Legend at 0x7fb1f35a0c50>"
      ]
     },
     "execution_count": 86,
     "metadata": {},
     "output_type": "execute_result"
    },
    {
     "data": {
      "image/png": "[encoded data removed]",
      "text/plain": [
       "<Figure size 432x144 with 1 Axes>"
      ]
     },
     "metadata": {
      "needs_background": "light"
     },
     "output_type": "display_data"
    }
   ],
   "source": [
    "y_cos = np.cos(x)\n",
    "# Plot the points using matplotlib\n",
    "plt.figure(figsize=(6,2))\n",
    "plt.plot(x, y_sin)\n",
    "plt.plot(x, y_cos)\n",
    "plt.xlabel('My x axis label')\n",
    "plt.ylabel('My y axis label')\n",
    "plt.title('sin and cos from 0 to $2\\pi$')\n",
    "plt.legend(['Sine', 'Cosine'])"
   ]
  },
  {
   "cell_type": "markdown",
   "metadata": {
    "slideshow": {
     "slide_type": "subslide"
    }
   },
   "source": [
    "Subplots"
   ]
  },
  {
   "cell_type": "code",
   "execution_count": 109,
   "metadata": {
    "slideshow": {
     "slide_type": "fragment"
    }
   },
   "outputs": [
    {
     "data": {
      "image/png": "[encoded data removed]",
      "text/plain": [
       "<Figure size 576x288 with 2 Axes>"
      ]
     },
     "metadata": {
      "needs_background": "light"
     },
     "output_type": "display_data"
    }
   ],
   "source": [
    "# Let's plot a total of 2 figures: 1 column and 2 rows\n",
    "plt.figure(figsize=(8, 4))\n",
    "n_plots = 2\n",
    "n_cols = 1\n",
    "# Plot first figure\n",
    "plt.subplot(n_plots, n_cols, 1)\n",
    "plt.plot(x, y_cos)\n",
    "plt.ylabel('Cos values')\n",
    "plt.title('sin and cos from 0 to $2\\pi$')\n",
    "plt.subplot(n_plots, n_cols, 2)\n",
    "plt.plot(x, y_sin)\n",
    "plt.xlabel('0 to 2 $\\pi$ values')\n",
    "plt.ylabel('Sin values')\n",
    "plt.tight_layout() # Magic command to clean the overall plot"
   ]
  },
  {
   "cell_type": "markdown",
   "metadata": {
    "slideshow": {
     "slide_type": "subslide"
    }
   },
   "source": [
    "2D plots"
   ]
  },
  {
   "cell_type": "code",
   "execution_count": 79,
   "metadata": {
    "slideshow": {
     "slide_type": "fragment"
    }
   },
   "outputs": [
    {
     "data": {
      "text/plain": [
       "Text(0.5, 1.0, 'visualizing a_2d')"
      ]
     },
     "execution_count": 79,
     "metadata": {},
     "output_type": "execute_result"
    },
    {
     "data": {
      "image/png": "[encoded data removed]",
      "text/plain": [
       "<Figure size 432x288 with 2 Axes>"
      ]
     },
     "metadata": {
      "needs_background": "light"
     },
     "output_type": "display_data"
    }
   ],
   "source": [
    "plt.imshow(a_2d)\n",
    "# Making sure x and y ticks are integers\n",
    "plt.xticks(np.arange(0, a_2d.shape[1]))\n",
    "plt.yticks(np.arange(0, a_2d.shape[0]))\n",
    "# Adding a colorbar\n",
    "plt.colorbar()\n",
    "plt.title('visualizing a_2d')"
   ]
  },
  {
   "cell_type": "markdown",
   "metadata": {
    "slideshow": {
     "slide_type": "slide"
    }
   },
   "source": [
    "### Examples of reading several files to examine data across dataset\n",
    "Daily inflammation measure in patients who have been given a new treatment for arthritis"
   ]
  },
  {
   "cell_type": "code",
   "execution_count": 2,
   "metadata": {
    "slideshow": {
     "slide_type": "fragment"
    }
   },
   "outputs": [],
   "source": [
    "import os\n",
    "import glob"
   ]
  },
  {
   "cell_type": "code",
   "execution_count": 5,
   "metadata": {
    "slideshow": {
     "slide_type": "fragment"
    }
   },
   "outputs": [
    {
     "data": {
      "text/plain": [
       "'/home/michael/python_lecture/inflammation_data'"
      ]
     },
     "execution_count": 5,
     "metadata": {},
     "output_type": "execute_result"
    }
   ],
   "source": [
    "# Get list of data files\n",
    "home_data_path = os.path.expanduser('~') \n",
    "data_path = os.path.join(home_data_path, 'python_lecture', 'inflammation_data')\n",
    "data_path"
   ]
  },
  {
   "cell_type": "code",
   "execution_count": 27,
   "metadata": {
    "slideshow": {
     "slide_type": "subslide"
    }
   },
   "outputs": [
    {
     "data": {
      "text/plain": [
       "['/home/michael/python_lecture/inflammation_data/inflammation-01.csv',\n",
       " '/home/michael/python_lecture/inflammation_data/inflammation-02.csv',\n",
       " '/home/michael/python_lecture/inflammation_data/inflammation-03.csv',\n",
       " '/home/michael/python_lecture/inflammation_data/inflammation-04.csv',\n",
       " '/home/michael/python_lecture/inflammation_data/inflammation-05.csv',\n",
       " '/home/michael/python_lecture/inflammation_data/inflammation-06.csv',\n",
       " '/home/michael/python_lecture/inflammation_data/inflammation-07.csv',\n",
       " '/home/michael/python_lecture/inflammation_data/inflammation-08.csv',\n",
       " '/home/michael/python_lecture/inflammation_data/inflammation-09.csv',\n",
       " '/home/michael/python_lecture/inflammation_data/inflammation-10.csv',\n",
       " '/home/michael/python_lecture/inflammation_data/inflammation-11.csv',\n",
       " '/home/michael/python_lecture/inflammation_data/inflammation-12.csv',\n",
       " '/home/michael/python_lecture/inflammation_data/small-01.csv',\n",
       " '/home/michael/python_lecture/inflammation_data/small-02.csv',\n",
       " '/home/michael/python_lecture/inflammation_data/small-03.csv']"
      ]
     },
     "execution_count": 27,
     "metadata": {},
     "output_type": "execute_result"
    }
   ],
   "source": [
    "patient_files_all = sorted(glob.glob(os.path.join(data_path, '*')))\n",
    "patient_files_all"
   ]
  },
  {
   "cell_type": "code",
   "execution_count": 28,
   "metadata": {
    "slideshow": {
     "slide_type": "fragment"
    }
   },
   "outputs": [
    {
     "data": {
      "text/plain": [
       "['/home/michael/python_lecture/inflammation_data/inflammation-01.csv',\n",
       " '/home/michael/python_lecture/inflammation_data/inflammation-02.csv',\n",
       " '/home/michael/python_lecture/inflammation_data/inflammation-03.csv',\n",
       " '/home/michael/python_lecture/inflammation_data/inflammation-04.csv',\n",
       " '/home/michael/python_lecture/inflammation_data/inflammation-05.csv',\n",
       " '/home/michael/python_lecture/inflammation_data/inflammation-06.csv',\n",
       " '/home/michael/python_lecture/inflammation_data/inflammation-07.csv',\n",
       " '/home/michael/python_lecture/inflammation_data/inflammation-08.csv',\n",
       " '/home/michael/python_lecture/inflammation_data/inflammation-09.csv',\n",
       " '/home/michael/python_lecture/inflammation_data/inflammation-10.csv',\n",
       " '/home/michael/python_lecture/inflammation_data/inflammation-11.csv',\n",
       " '/home/michael/python_lecture/inflammation_data/inflammation-12.csv']"
      ]
     },
     "execution_count": 28,
     "metadata": {},
     "output_type": "execute_result"
    }
   ],
   "source": [
    "patient_files = [f for f in patient_files_all if not 'small' in f]\n",
    "patient_files"
   ]
  },
  {
   "cell_type": "code",
   "execution_count": 9,
   "metadata": {},
   "outputs": [
    {
     "data": {
      "text/plain": [
       "(60, 40)"
      ]
     },
     "execution_count": 9,
     "metadata": {},
     "output_type": "execute_result"
    }
   ],
   "source": [
    "data_sample = np.loadtxt(fname=patient_files[0], delimiter=',')\n",
    "data_sample.shape"
   ]
  },
  {
   "cell_type": "code",
   "execution_count": 10,
   "metadata": {},
   "outputs": [
    {
     "data": {
      "text/plain": [
       "array([[0., 0., 1., ..., 3., 0., 0.],\n",
       "       [0., 1., 2., ..., 1., 0., 1.],\n",
       "       [0., 1., 1., ..., 2., 1., 1.],\n",
       "       ...,\n",
       "       [0., 1., 1., ..., 1., 1., 1.],\n",
       "       [0., 0., 0., ..., 0., 2., 0.],\n",
       "       [0., 0., 1., ..., 1., 1., 0.]])"
      ]
     },
     "execution_count": 10,
     "metadata": {},
     "output_type": "execute_result"
    }
   ],
   "source": [
    "# Each row is a patient, and each column is the number of inflammation episodes per day\n",
    "data_sample"
   ]
  },
  {
   "cell_type": "code",
   "execution_count": 20,
   "metadata": {},
   "outputs": [
    {
     "data": {
      "image/png": "[encoded data removed]",
      "text/plain": [
       "<Figure size 432x288 with 1 Axes>"
      ]
     },
     "metadata": {
      "needs_background": "light"
     },
     "output_type": "display_data"
    }
   ],
   "source": [
    "n_subjects = 3\n",
    "for i_subject in range(n_subjects):\n",
    "    plt.plot(data_sample[i_subject, :])"
   ]
  },
  {
   "cell_type": "code",
   "execution_count": 21,
   "metadata": {},
   "outputs": [
    {
     "data": {
      "text/plain": [
       "<matplotlib.image.AxesImage at 0x7fb9254b67b8>"
      ]
     },
     "execution_count": 21,
     "metadata": {},
     "output_type": "execute_result"
    },
    {
     "data": {
      "image/png": "[encoded data removed]",
      "text/plain": [
       "<Figure size 432x288 with 1 Axes>"
      ]
     },
     "metadata": {
      "needs_background": "light"
     },
     "output_type": "display_data"
    }
   ],
   "source": [
    "plt.imshow(data_sample)"
   ]
  },
  {
   "cell_type": "code",
   "execution_count": 25,
   "metadata": {},
   "outputs": [
    {
     "data": {
      "text/plain": [
       "[<matplotlib.lines.Line2D at 0x7fb924bb8e48>]"
      ]
     },
     "execution_count": 25,
     "metadata": {},
     "output_type": "execute_result"
    },
    {
     "data": {
      "image/png": "[encoded data removed]",
      "text/plain": [
       "<Figure size 432x288 with 1 Axes>"
      ]
     },
     "metadata": {
      "needs_background": "light"
     },
     "output_type": "display_data"
    }
   ],
   "source": [
    "plt.plot(np.min(data_sample, axis=0), label = 'min')\n",
    "plt.plot(np.median(data_sample, axis=0), label = 'median')\n",
    "plt.plot(np.max(data_sample, axis=0), label = 'max')"
   ]
  },
  {
   "cell_type": "code",
   "execution_count": 33,
   "metadata": {},
   "outputs": [
    {
     "data": {
      "text/plain": [
       "{'whiskers': [<matplotlib.lines.Line2D at 0x7fb924522f28>,\n",
       "  <matplotlib.lines.Line2D at 0x7fb9244cb5c0>,\n",
       "  <matplotlib.lines.Line2D at 0x7fb9244d59b0>,\n",
       "  <matplotlib.lines.Line2D at 0x7fb9244d5cf8>,\n",
       "  <matplotlib.lines.Line2D at 0x7fb9244e2e80>,\n",
       "  <matplotlib.lines.Line2D at 0x7fb9244ee470>,\n",
       "  <matplotlib.lines.Line2D at 0x7fb9244fb860>,\n",
       "  <matplotlib.lines.Line2D at 0x7fb9244fbba8>,\n",
       "  <matplotlib.lines.Line2D at 0x7fb924487f98>,\n",
       "  <matplotlib.lines.Line2D at 0x7fb924487f28>,\n",
       "  <matplotlib.lines.Line2D at 0x7fb9244a0710>,\n",
       "  <matplotlib.lines.Line2D at 0x7fb9244a0a58>,\n",
       "  <matplotlib.lines.Line2D at 0x7fb9244ace48>,\n",
       "  <matplotlib.lines.Line2D at 0x7fb9244acf28>,\n",
       "  <matplotlib.lines.Line2D at 0x7fb9244435c0>,\n",
       "  <matplotlib.lines.Line2D at 0x7fb924443908>,\n",
       "  <matplotlib.lines.Line2D at 0x7fb924451cf8>,\n",
       "  <matplotlib.lines.Line2D at 0x7fb924451dd8>,\n",
       "  <matplotlib.lines.Line2D at 0x7fb924469470>,\n",
       "  <matplotlib.lines.Line2D at 0x7fb9244697b8>,\n",
       "  <matplotlib.lines.Line2D at 0x7fb924474ba8>,\n",
       "  <matplotlib.lines.Line2D at 0x7fb924474ef0>,\n",
       "  <matplotlib.lines.Line2D at 0x7fb924402f60>,\n",
       "  <matplotlib.lines.Line2D at 0x7fb92440f668>,\n",
       "  <matplotlib.lines.Line2D at 0x7fb92441ba58>,\n",
       "  <matplotlib.lines.Line2D at 0x7fb92441bda0>,\n",
       "  <matplotlib.lines.Line2D at 0x7fb924424f28>,\n",
       "  <matplotlib.lines.Line2D at 0x7fb924435518>,\n",
       "  <matplotlib.lines.Line2D at 0x7fb9243c0908>,\n",
       "  <matplotlib.lines.Line2D at 0x7fb9243c0c50>,\n",
       "  <matplotlib.lines.Line2D at 0x7fb9243cdeb8>,\n",
       "  <matplotlib.lines.Line2D at 0x7fb9243cdfd0>,\n",
       "  <matplotlib.lines.Line2D at 0x7fb9243d8e80>,\n",
       "  <matplotlib.lines.Line2D at 0x7fb9243e67b8>,\n",
       "  <matplotlib.lines.Line2D at 0x7fb9243f1a58>,\n",
       "  <matplotlib.lines.Line2D at 0x7fb9243f1d68>,\n",
       "  <matplotlib.lines.Line2D at 0x7fb92437fe10>,\n",
       "  <matplotlib.lines.Line2D at 0x7fb92438f358>,\n",
       "  <matplotlib.lines.Line2D at 0x7fb92438ffd0>,\n",
       "  <matplotlib.lines.Line2D at 0x7fb92439a908>,\n",
       "  <matplotlib.lines.Line2D at 0x7fb9243a7ba8>,\n",
       "  <matplotlib.lines.Line2D at 0x7fb9243a7eb8>,\n",
       "  <matplotlib.lines.Line2D at 0x7fb9243b4f60>,\n",
       "  <matplotlib.lines.Line2D at 0x7fb9243424a8>,\n",
       "  <matplotlib.lines.Line2D at 0x7fb92434e748>,\n",
       "  <matplotlib.lines.Line2D at 0x7fb92434ea58>,\n",
       "  <matplotlib.lines.Line2D at 0x7fb92435acf8>,\n",
       "  <matplotlib.lines.Line2D at 0x7fb92435ae10>,\n",
       "  <matplotlib.lines.Line2D at 0x7fb92436acc0>,\n",
       "  <matplotlib.lines.Line2D at 0x7fb9243755f8>,\n",
       "  <matplotlib.lines.Line2D at 0x7fb924303898>,\n",
       "  <matplotlib.lines.Line2D at 0x7fb924303ba8>,\n",
       "  <matplotlib.lines.Line2D at 0x7fb92430fe48>,\n",
       "  <matplotlib.lines.Line2D at 0x7fb92430ff60>,\n",
       "  <matplotlib.lines.Line2D at 0x7fb92431fe10>,\n",
       "  <matplotlib.lines.Line2D at 0x7fb92432b748>,\n",
       "  <matplotlib.lines.Line2D at 0x7fb9243369e8>,\n",
       "  <matplotlib.lines.Line2D at 0x7fb924336cf8>,\n",
       "  <matplotlib.lines.Line2D at 0x7fb9242c5f98>,\n",
       "  <matplotlib.lines.Line2D at 0x7fb9242c5fd0>,\n",
       "  <matplotlib.lines.Line2D at 0x7fb9242d2f60>,\n",
       "  <matplotlib.lines.Line2D at 0x7fb9242df898>,\n",
       "  <matplotlib.lines.Line2D at 0x7fb9242ebb38>,\n",
       "  <matplotlib.lines.Line2D at 0x7fb9242ebe48>,\n",
       "  <matplotlib.lines.Line2D at 0x7fb9242f9ef0>,\n",
       "  <matplotlib.lines.Line2D at 0x7fb924285438>,\n",
       "  <matplotlib.lines.Line2D at 0x7fb9242936d8>,\n",
       "  <matplotlib.lines.Line2D at 0x7fb9242939e8>,\n",
       "  <matplotlib.lines.Line2D at 0x7fb9242a1c88>,\n",
       "  <matplotlib.lines.Line2D at 0x7fb9242a1f98>,\n",
       "  <matplotlib.lines.Line2D at 0x7fb9242adc50>,\n",
       "  <matplotlib.lines.Line2D at 0x7fb9242bb588>,\n",
       "  <matplotlib.lines.Line2D at 0x7fb924248828>,\n",
       "  <matplotlib.lines.Line2D at 0x7fb924248b38>,\n",
       "  <matplotlib.lines.Line2D at 0x7fb924254dd8>,\n",
       "  <matplotlib.lines.Line2D at 0x7fb924254ef0>,\n",
       "  <matplotlib.lines.Line2D at 0x7fb924261da0>,\n",
       "  <matplotlib.lines.Line2D at 0x7fb92426f6d8>,\n",
       "  <matplotlib.lines.Line2D at 0x7fb92427d978>,\n",
       "  <matplotlib.lines.Line2D at 0x7fb92427dc88>],\n",
       " 'caps': [<matplotlib.lines.Line2D at 0x7fb9244cb908>,\n",
       "  <matplotlib.lines.Line2D at 0x7fb9244cbc50>,\n",
       "  <matplotlib.lines.Line2D at 0x7fb9244d5dd8>,\n",
       "  <matplotlib.lines.Line2D at 0x7fb9244e23c8>,\n",
       "  <matplotlib.lines.Line2D at 0x7fb9244ee7b8>,\n",
       "  <matplotlib.lines.Line2D at 0x7fb9244eeb00>,\n",
       "  <matplotlib.lines.Line2D at 0x7fb9244fbef0>,\n",
       "  <matplotlib.lines.Line2D at 0x7fb9244fbfd0>,\n",
       "  <matplotlib.lines.Line2D at 0x7fb924494668>,\n",
       "  <matplotlib.lines.Line2D at 0x7fb9244949b0>,\n",
       "  <matplotlib.lines.Line2D at 0x7fb9244a0da0>,\n",
       "  <matplotlib.lines.Line2D at 0x7fb9244a0e80>,\n",
       "  <matplotlib.lines.Line2D at 0x7fb9244b8518>,\n",
       "  <matplotlib.lines.Line2D at 0x7fb9244b8860>,\n",
       "  <matplotlib.lines.Line2D at 0x7fb924443c50>,\n",
       "  <matplotlib.lines.Line2D at 0x7fb924443f98>,\n",
       "  <matplotlib.lines.Line2D at 0x7fb92445e3c8>,\n",
       "  <matplotlib.lines.Line2D at 0x7fb92445e710>,\n",
       "  <matplotlib.lines.Line2D at 0x7fb924469b00>,\n",
       "  <matplotlib.lines.Line2D at 0x7fb924469e48>,\n",
       "  <matplotlib.lines.Line2D at 0x7fb924474fd0>,\n",
       "  <matplotlib.lines.Line2D at 0x7fb9244025c0>,\n",
       "  <matplotlib.lines.Line2D at 0x7fb92440f9b0>,\n",
       "  <matplotlib.lines.Line2D at 0x7fb92440fcf8>,\n",
       "  <matplotlib.lines.Line2D at 0x7fb92441be80>,\n",
       "  <matplotlib.lines.Line2D at 0x7fb924424470>,\n",
       "  <matplotlib.lines.Line2D at 0x7fb924435860>,\n",
       "  <matplotlib.lines.Line2D at 0x7fb924435ba8>,\n",
       "  <matplotlib.lines.Line2D at 0x7fb9243c0f28>,\n",
       "  <matplotlib.lines.Line2D at 0x7fb9243c0f60>,\n",
       "  <matplotlib.lines.Line2D at 0x7fb9243d8518>,\n",
       "  <matplotlib.lines.Line2D at 0x7fb9243d8828>,\n",
       "  <matplotlib.lines.Line2D at 0x7fb9243e6ac8>,\n",
       "  <matplotlib.lines.Line2D at 0x7fb9243e6dd8>,\n",
       "  <matplotlib.lines.Line2D at 0x7fb9243f1e80>,\n",
       "  <matplotlib.lines.Line2D at 0x7fb92437f3c8>,\n",
       "  <matplotlib.lines.Line2D at 0x7fb92438f668>,\n",
       "  <matplotlib.lines.Line2D at 0x7fb92438f978>,\n",
       "  <matplotlib.lines.Line2D at 0x7fb92439ac18>,\n",
       "  <matplotlib.lines.Line2D at 0x7fb92439af28>,\n",
       "  <matplotlib.lines.Line2D at 0x7fb9243a7fd0>,\n",
       "  <matplotlib.lines.Line2D at 0x7fb9243b4518>,\n",
       "  <matplotlib.lines.Line2D at 0x7fb9243427b8>,\n",
       "  <matplotlib.lines.Line2D at 0x7fb924342ac8>,\n",
       "  <matplotlib.lines.Line2D at 0x7fb92434ed68>,\n",
       "  <matplotlib.lines.Line2D at 0x7fb92434ee80>,\n",
       "  <matplotlib.lines.Line2D at 0x7fb92436a358>,\n",
       "  <matplotlib.lines.Line2D at 0x7fb92436a668>,\n",
       "  <matplotlib.lines.Line2D at 0x7fb924375908>,\n",
       "  <matplotlib.lines.Line2D at 0x7fb924375c18>,\n",
       "  <matplotlib.lines.Line2D at 0x7fb924303eb8>,\n",
       "  <matplotlib.lines.Line2D at 0x7fb924303fd0>,\n",
       "  <matplotlib.lines.Line2D at 0x7fb92431f4a8>,\n",
       "  <matplotlib.lines.Line2D at 0x7fb92431f7b8>,\n",
       "  <matplotlib.lines.Line2D at 0x7fb92432ba58>,\n",
       "  <matplotlib.lines.Line2D at 0x7fb92432bd68>,\n",
       "  <matplotlib.lines.Line2D at 0x7fb924336e10>,\n",
       "  <matplotlib.lines.Line2D at 0x7fb9242c5358>,\n",
       "  <matplotlib.lines.Line2D at 0x7fb9242d25f8>,\n",
       "  <matplotlib.lines.Line2D at 0x7fb9242d2908>,\n",
       "  <matplotlib.lines.Line2D at 0x7fb9242dfba8>,\n",
       "  <matplotlib.lines.Line2D at 0x7fb9242dfeb8>,\n",
       "  <matplotlib.lines.Line2D at 0x7fb9242ebf60>,\n",
       "  <matplotlib.lines.Line2D at 0x7fb9242f94a8>,\n",
       "  <matplotlib.lines.Line2D at 0x7fb924285748>,\n",
       "  <matplotlib.lines.Line2D at 0x7fb924285a58>,\n",
       "  <matplotlib.lines.Line2D at 0x7fb924293cf8>,\n",
       "  <matplotlib.lines.Line2D at 0x7fb924293e10>,\n",
       "  <matplotlib.lines.Line2D at 0x7fb9242a1fd0>,\n",
       "  <matplotlib.lines.Line2D at 0x7fb9242ad5f8>,\n",
       "  <matplotlib.lines.Line2D at 0x7fb9242bb898>,\n",
       "  <matplotlib.lines.Line2D at 0x7fb9242bbba8>,\n",
       "  <matplotlib.lines.Line2D at 0x7fb924248e48>,\n",
       "  <matplotlib.lines.Line2D at 0x7fb924248f60>,\n",
       "  <matplotlib.lines.Line2D at 0x7fb924261438>,\n",
       "  <matplotlib.lines.Line2D at 0x7fb924261748>,\n",
       "  <matplotlib.lines.Line2D at 0x7fb92426f9e8>,\n",
       "  <matplotlib.lines.Line2D at 0x7fb92426fcf8>,\n",
       "  <matplotlib.lines.Line2D at 0x7fb92427df98>,\n",
       "  <matplotlib.lines.Line2D at 0x7fb92427dfd0>],\n",
       " 'boxes': [<matplotlib.lines.Line2D at 0x7fb924522dd8>,\n",
       "  <matplotlib.lines.Line2D at 0x7fb9244d5668>,\n",
       "  <matplotlib.lines.Line2D at 0x7fb9244e2da0>,\n",
       "  <matplotlib.lines.Line2D at 0x7fb9244fb518>,\n",
       "  <matplotlib.lines.Line2D at 0x7fb924487c50>,\n",
       "  <matplotlib.lines.Line2D at 0x7fb9244a03c8>,\n",
       "  <matplotlib.lines.Line2D at 0x7fb9244acb00>,\n",
       "  <matplotlib.lines.Line2D at 0x7fb9244b8f98>,\n",
       "  <matplotlib.lines.Line2D at 0x7fb9244519b0>,\n",
       "  <matplotlib.lines.Line2D at 0x7fb92445ee48>,\n",
       "  <matplotlib.lines.Line2D at 0x7fb924474860>,\n",
       "  <matplotlib.lines.Line2D at 0x7fb924402f98>,\n",
       "  <matplotlib.lines.Line2D at 0x7fb92441b710>,\n",
       "  <matplotlib.lines.Line2D at 0x7fb924424e48>,\n",
       "  <matplotlib.lines.Line2D at 0x7fb9243c05c0>,\n",
       "  <matplotlib.lines.Line2D at 0x7fb9243cdbe0>,\n",
       "  <matplotlib.lines.Line2D at 0x7fb9243d8f28>,\n",
       "  <matplotlib.lines.Line2D at 0x7fb9243f1780>,\n",
       "  <matplotlib.lines.Line2D at 0x7fb92437fd30>,\n",
       "  <matplotlib.lines.Line2D at 0x7fb92438fcc0>,\n",
       "  <matplotlib.lines.Line2D at 0x7fb9243a78d0>,\n",
       "  <matplotlib.lines.Line2D at 0x7fb9243b4e80>,\n",
       "  <matplotlib.lines.Line2D at 0x7fb92434e470>,\n",
       "  <matplotlib.lines.Line2D at 0x7fb92435aa20>,\n",
       "  <matplotlib.lines.Line2D at 0x7fb92436afd0>,\n",
       "  <matplotlib.lines.Line2D at 0x7fb9243035c0>,\n",
       "  <matplotlib.lines.Line2D at 0x7fb92430fb70>,\n",
       "  <matplotlib.lines.Line2D at 0x7fb92431feb8>,\n",
       "  <matplotlib.lines.Line2D at 0x7fb924336710>,\n",
       "  <matplotlib.lines.Line2D at 0x7fb9242c5cc0>,\n",
       "  <matplotlib.lines.Line2D at 0x7fb9242d2c50>,\n",
       "  <matplotlib.lines.Line2D at 0x7fb9242eb860>,\n",
       "  <matplotlib.lines.Line2D at 0x7fb9242f9e10>,\n",
       "  <matplotlib.lines.Line2D at 0x7fb924293400>,\n",
       "  <matplotlib.lines.Line2D at 0x7fb9242a19b0>,\n",
       "  <matplotlib.lines.Line2D at 0x7fb9242adf60>,\n",
       "  <matplotlib.lines.Line2D at 0x7fb924248550>,\n",
       "  <matplotlib.lines.Line2D at 0x7fb924254b00>,\n",
       "  <matplotlib.lines.Line2D at 0x7fb924261e48>,\n",
       "  <matplotlib.lines.Line2D at 0x7fb92427d6a0>],\n",
       " 'medians': [<matplotlib.lines.Line2D at 0x7fb9244cbf98>,\n",
       "  <matplotlib.lines.Line2D at 0x7fb9244e2710>,\n",
       "  <matplotlib.lines.Line2D at 0x7fb9244eee48>,\n",
       "  <matplotlib.lines.Line2D at 0x7fb9244875c0>,\n",
       "  <matplotlib.lines.Line2D at 0x7fb924494cf8>,\n",
       "  <matplotlib.lines.Line2D at 0x7fb9244ac470>,\n",
       "  <matplotlib.lines.Line2D at 0x7fb9244b8ba8>,\n",
       "  <matplotlib.lines.Line2D at 0x7fb924443f28>,\n",
       "  <matplotlib.lines.Line2D at 0x7fb92445ea58>,\n",
       "  <matplotlib.lines.Line2D at 0x7fb924469f28>,\n",
       "  <matplotlib.lines.Line2D at 0x7fb924402908>,\n",
       "  <matplotlib.lines.Line2D at 0x7fb92440fdd8>,\n",
       "  <matplotlib.lines.Line2D at 0x7fb9244247b8>,\n",
       "  <matplotlib.lines.Line2D at 0x7fb924435ef0>,\n",
       "  <matplotlib.lines.Line2D at 0x7fb9243cd588>,\n",
       "  <matplotlib.lines.Line2D at 0x7fb9243d8b38>,\n",
       "  <matplotlib.lines.Line2D at 0x7fb9243e6ef0>,\n",
       "  <matplotlib.lines.Line2D at 0x7fb92437f6d8>,\n",
       "  <matplotlib.lines.Line2D at 0x7fb92438fc88>,\n",
       "  <matplotlib.lines.Line2D at 0x7fb92439af60>,\n",
       "  <matplotlib.lines.Line2D at 0x7fb9243b4828>,\n",
       "  <matplotlib.lines.Line2D at 0x7fb924342dd8>,\n",
       "  <matplotlib.lines.Line2D at 0x7fb92435a3c8>,\n",
       "  <matplotlib.lines.Line2D at 0x7fb92436a978>,\n",
       "  <matplotlib.lines.Line2D at 0x7fb924375f28>,\n",
       "  <matplotlib.lines.Line2D at 0x7fb92430f518>,\n",
       "  <matplotlib.lines.Line2D at 0x7fb92431fac8>,\n",
       "  <matplotlib.lines.Line2D at 0x7fb92432be80>,\n",
       "  <matplotlib.lines.Line2D at 0x7fb9242c5668>,\n",
       "  <matplotlib.lines.Line2D at 0x7fb9242d2c18>,\n",
       "  <matplotlib.lines.Line2D at 0x7fb9242dffd0>,\n",
       "  <matplotlib.lines.Line2D at 0x7fb9242f97b8>,\n",
       "  <matplotlib.lines.Line2D at 0x7fb924285d68>,\n",
       "  <matplotlib.lines.Line2D at 0x7fb9242a1358>,\n",
       "  <matplotlib.lines.Line2D at 0x7fb9242ad908>,\n",
       "  <matplotlib.lines.Line2D at 0x7fb9242bbeb8>,\n",
       "  <matplotlib.lines.Line2D at 0x7fb9242544a8>,\n",
       "  <matplotlib.lines.Line2D at 0x7fb924261a58>,\n",
       "  <matplotlib.lines.Line2D at 0x7fb92426fe10>,\n",
       "  <matplotlib.lines.Line2D at 0x7fb9242085f8>],\n",
       " 'fliers': [<matplotlib.lines.Line2D at 0x7fb9244cbf28>,\n",
       "  <matplotlib.lines.Line2D at 0x7fb9244e2a58>,\n",
       "  <matplotlib.lines.Line2D at 0x7fb9244eef28>,\n",
       "  <matplotlib.lines.Line2D at 0x7fb924487908>,\n",
       "  <matplotlib.lines.Line2D at 0x7fb924494dd8>,\n",
       "  <matplotlib.lines.Line2D at 0x7fb9244ac7b8>,\n",
       "  <matplotlib.lines.Line2D at 0x7fb9244b8ef0>,\n",
       "  <matplotlib.lines.Line2D at 0x7fb924451668>,\n",
       "  <matplotlib.lines.Line2D at 0x7fb92445eda0>,\n",
       "  <matplotlib.lines.Line2D at 0x7fb924474518>,\n",
       "  <matplotlib.lines.Line2D at 0x7fb924402c50>,\n",
       "  <matplotlib.lines.Line2D at 0x7fb92441b3c8>,\n",
       "  <matplotlib.lines.Line2D at 0x7fb924424b00>,\n",
       "  <matplotlib.lines.Line2D at 0x7fb924435fd0>,\n",
       "  <matplotlib.lines.Line2D at 0x7fb9243cd898>,\n",
       "  <matplotlib.lines.Line2D at 0x7fb9243d8e48>,\n",
       "  <matplotlib.lines.Line2D at 0x7fb9243f1438>,\n",
       "  <matplotlib.lines.Line2D at 0x7fb92437f9e8>,\n",
       "  <matplotlib.lines.Line2D at 0x7fb92438ff98>,\n",
       "  <matplotlib.lines.Line2D at 0x7fb9243a7588>,\n",
       "  <matplotlib.lines.Line2D at 0x7fb9243b4b38>,\n",
       "  <matplotlib.lines.Line2D at 0x7fb924342ef0>,\n",
       "  <matplotlib.lines.Line2D at 0x7fb92435a6d8>,\n",
       "  <matplotlib.lines.Line2D at 0x7fb92436ac88>,\n",
       "  <matplotlib.lines.Line2D at 0x7fb924375f60>,\n",
       "  <matplotlib.lines.Line2D at 0x7fb92430f828>,\n",
       "  <matplotlib.lines.Line2D at 0x7fb92431fdd8>,\n",
       "  <matplotlib.lines.Line2D at 0x7fb9243363c8>,\n",
       "  <matplotlib.lines.Line2D at 0x7fb9242c5978>,\n",
       "  <matplotlib.lines.Line2D at 0x7fb9242d2f28>,\n",
       "  <matplotlib.lines.Line2D at 0x7fb9242eb518>,\n",
       "  <matplotlib.lines.Line2D at 0x7fb9242f9ac8>,\n",
       "  <matplotlib.lines.Line2D at 0x7fb924285e80>,\n",
       "  <matplotlib.lines.Line2D at 0x7fb9242a1668>,\n",
       "  <matplotlib.lines.Line2D at 0x7fb9242adc18>,\n",
       "  <matplotlib.lines.Line2D at 0x7fb9242bbfd0>,\n",
       "  <matplotlib.lines.Line2D at 0x7fb9242547b8>,\n",
       "  <matplotlib.lines.Line2D at 0x7fb924261d68>,\n",
       "  <matplotlib.lines.Line2D at 0x7fb92427d358>,\n",
       "  <matplotlib.lines.Line2D at 0x7fb924208908>],\n",
       " 'means': []}"
      ]
     },
     "execution_count": 33,
     "metadata": {},
     "output_type": "execute_result"
    },
    {
     "data": {
      "image/png": "[encoded data removed]",
      "text/plain": [
       "<Figure size 864x288 with 1 Axes>"
      ]
     },
     "metadata": {
      "needs_background": "light"
     },
     "output_type": "display_data"
    }
   ],
   "source": [
    "plt.figure(figsize=(12,4))\n",
    "plt.boxplot(data_sample)"
   ]
  },
  {
   "cell_type": "markdown",
   "metadata": {},
   "source": [
    "Read all files in one big array, but check they all have the same size before."
   ]
  },
  {
   "cell_type": "code",
   "execution_count": 34,
   "metadata": {},
   "outputs": [],
   "source": [
    "ref_shape = data_sample.shape\n",
    "for p_file in patient_files:\n",
    "    if np.loadtxt(fname=p_file, delimiter=',').shape != ref_shape:\n",
    "        print(\"File {} has shape different from reference\".format(p_file))"
   ]
  },
  {
   "cell_type": "code",
   "execution_count": 36,
   "metadata": {},
   "outputs": [
    {
     "name": "stdout",
     "output_type": "stream",
     "text": [
      "(720, 40)\n"
     ]
    }
   ],
   "source": [
    "# Preallocate zero array for all data\n",
    "n_sample, n_days = ref_shape\n",
    "n_patients = n_sample * len(patient_files)\n",
    "all_data = np.zeros((n_patients, n_days))\n",
    "# Fill array file by file\n",
    "for i_file, p_file in enumerate(patient_files):\n",
    "    start_ix = i_file * n_sample\n",
    "    stop_ix = (i_file+1) * n_sample\n",
    "    all_data[start_ix:stop_ix, :] = np.loadtxt(fname=p_file, delimiter=',')\n",
    "print(all_data.shape)"
   ]
  },
  {
   "cell_type": "code",
   "execution_count": 63,
   "metadata": {},
   "outputs": [
    {
     "data": {
      "text/plain": [
       "<matplotlib.image.AxesImage at 0x7fb9220685f8>"
      ]
     },
     "execution_count": 63,
     "metadata": {},
     "output_type": "execute_result"
    },
    {
     "data": {
      "image/png": "[encoded data removed]",
      "text/plain": [
       "<Figure size 576x4176 with 1 Axes>"
      ]
     },
     "metadata": {
      "needs_background": "light"
     },
     "output_type": "display_data"
    }
   ],
   "source": [
    "plt.figure(figsize=(8, 58))\n",
    "plt.imshow(all_data)"
   ]
  },
  {
   "cell_type": "code",
   "execution_count": 69,
   "metadata": {},
   "outputs": [
    {
     "data": {
      "text/plain": [
       "array([  0,  60, 120, 180, 240, 300, 360, 420, 480, 540, 600, 660])"
      ]
     },
     "execution_count": 69,
     "metadata": {},
     "output_type": "execute_result"
    }
   ],
   "source": [
    "# Get indices of each sample starting point\n",
    "sample_ixs = np.arange(len(patient_files)) * n_sample\n",
    "sample_ixs"
   ]
  },
  {
   "cell_type": "code",
   "execution_count": 71,
   "metadata": {},
   "outputs": [
    {
     "data": {
      "image/png": "[encoded data removed]",
      "text/plain": [
       "<Figure size 864x288 with 1 Axes>"
      ]
     },
     "metadata": {
      "needs_background": "light"
     },
     "output_type": "display_data"
    }
   ],
   "source": [
    "sample_ixs = np.arange(len(patient_files)) * n_sample\n",
    "plt.figure(figsize=(12,4))\n",
    "plt.plot(np.mean(all_data, axis=1))\n",
    "for sample_ix in sample_ixs:\n",
    "    plt.axvline(sample_ix, color='r', alpha=0.2)"
   ]
  },
  {
   "cell_type": "code",
   "execution_count": 65,
   "metadata": {},
   "outputs": [
    {
     "data": {
      "text/plain": [
       "(array([179, 479, 659]),)"
      ]
     },
     "execution_count": 65,
     "metadata": {},
     "output_type": "execute_result"
    }
   ],
   "source": [
    "healthy_ixs = np.where(all_data.sum(axis=1)==0)\n",
    "healthy_ixs"
   ]
  },
  {
   "cell_type": "markdown",
   "metadata": {
    "slideshow": {
     "slide_type": "slide"
    }
   },
   "source": [
    "## Data analysis with pandas"
   ]
  },
  {
   "cell_type": "code",
   "execution_count": null,
   "metadata": {},
   "outputs": [],
   "source": []
  },
  {
   "cell_type": "code",
   "execution_count": null,
   "metadata": {},
   "outputs": [],
   "source": []
  }
 ],
 "metadata": {
  "celltoolbar": "Slideshow",
  "kernelspec": {
   "display_name": "Python 3",
   "language": "python",
   "name": "python3"
  },
  "language_info": {
   "codemirror_mode": {
    "name": "ipython",
    "version": 3
   },
   "file_extension": ".py",
   "mimetype": "text/x-python",
   "name": "python",
   "nbconvert_exporter": "python",
   "pygments_lexer": "ipython3",
   "version": "3.7.4"
  }
 },
 "nbformat": 4,
 "nbformat_minor": 2
}
